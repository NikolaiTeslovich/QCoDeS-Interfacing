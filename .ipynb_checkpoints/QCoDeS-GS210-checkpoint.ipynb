{
 "cells": [
  {
   "cell_type": "code",
   "execution_count": 1,
   "id": "badb7683-fd1d-48fa-a7cd-ba980223b125",
   "metadata": {},
   "outputs": [
    {
     "name": "stdout",
     "output_type": "stream",
     "text": [
      "Resource Manager of Visa Library at py\n",
      "Resource Manager of Visa Library at /usr/lib/x86_64-linux-gnu/libvisa.so.21.5.0\n"
     ]
    },
    {
     "name": "stderr",
     "output_type": "stream",
     "text": [
      "/home/nikolai/miniconda3/envs/qcodes/lib/python3.9/site-packages/gpib_ctypes/gpib/gpib.py:54: UserWarning: GPIB library not found. Please manually load it using _load_lib(filename). All GPIB functions will raise OSError until the library is manually loaded.\n",
      "  warnings.warn(message)\n"
     ]
    }
   ],
   "source": [
    "import numpy as np\n",
    "import time\n",
    "import qcodes\n",
    "import pyvisa as visa\n",
    "# enable to get a more debuggable output\n",
    "#visa.log_to_screen()\n",
    "\n",
    "from qcodes.instrument_drivers.yokogawa.GS200 import GS200\n",
    "#visapy-py resource manager\n",
    "py_rm = visa.ResourceManager('@py')\n",
    "#national instruments resource manager\n",
    "ni_rm = visa.ResourceManager()\n",
    "\n",
    "print(py_rm)\n",
    "print(ni_rm)"
   ]
  },
  {
   "cell_type": "code",
   "execution_count": 2,
   "id": "45da87c0-6b1f-49f2-88fc-136c5e254f2b",
   "metadata": {},
   "outputs": [
    {
     "name": "stdout",
     "output_type": "stream",
     "text": [
      "visa-py: ('ASRL/dev/ttyS4::INSTR', 'USB0::2849::57::91LA25023::0::INSTR')\n",
      "visa-ni: ('USB0::0x0B21::0x0039::91LA25023::INSTR', 'ASRL5::INSTR')\n"
     ]
    }
   ],
   "source": [
    "# for some reason, the USB access has to be initialized with the python resource manager\n",
    "# the resource is opened to be recognizable by the ni drivers\n",
    "py_rm.open_resource(py_rm.list_resources()[1])\n",
    "\n",
    "print(\"visa-py: \" + str(py_rm.list_resources()))\n",
    "print(\"visa-ni: \" + str(ni_rm.list_resources()))"
   ]
  },
  {
   "cell_type": "code",
   "execution_count": 3,
   "id": "9608f7f2-9a0b-4d70-b030-e018157da9a4",
   "metadata": {},
   "outputs": [
    {
     "name": "stdout",
     "output_type": "stream",
     "text": [
      "Connected to: YOKOGAWA GS210 (serial:91LA25023, firmware:1.05) in 0.22s\n"
     ]
    }
   ],
   "source": [
    "# intialize the instrument with the following parameters\n",
    "gs_addr = ni_rm.list_resources()[0]\n",
    "gs = GS200(\"gs200\", address=gs_addr, terminator=\"\\n\")"
   ]
  },
  {
   "cell_type": "code",
   "execution_count": 4,
   "id": "f7571e83-79da-49f3-842e-93dd3c07fe3d",
   "metadata": {},
   "outputs": [],
   "source": [
    "# can store a QCoDeS snapshot of the instrument with the following command\n",
    "#gs.snapshot()"
   ]
  },
  {
   "cell_type": "code",
   "execution_count": 5,
   "id": "28a65797-42db-48c0-af64-026fdc2a1c78",
   "metadata": {},
   "outputs": [],
   "source": [
    "# resetting the instrument\n",
    "gs.reset()"
   ]
  },
  {
   "cell_type": "code",
   "execution_count": 6,
   "id": "728057c5-a358-4028-8fc1-cff7af9a609f",
   "metadata": {},
   "outputs": [
    {
     "data": {
      "text/plain": [
       "'VOLT'"
      ]
     },
     "execution_count": 6,
     "metadata": {},
     "output_type": "execute_result"
    }
   ],
   "source": [
    "# the output mode of the instrument\n",
    "gs.source_mode()"
   ]
  },
  {
   "cell_type": "code",
   "execution_count": 7,
   "id": "870334f9-1b96-4134-b807-54561077a805",
   "metadata": {},
   "outputs": [],
   "source": [
    "# automatically adjust the range of the outputs\n",
    "gs.auto_range(True)"
   ]
  },
  {
   "cell_type": "code",
   "execution_count": 8,
   "id": "c1b7f0d6-f794-4919-994f-55e58af087e5",
   "metadata": {},
   "outputs": [
    {
     "data": {
      "text/plain": [
       "'CURR'"
      ]
     },
     "execution_count": 8,
     "metadata": {},
     "output_type": "execute_result"
    }
   ],
   "source": [
    "gs.source_mode('CURR')\n",
    "gs.source_mode()"
   ]
  },
  {
   "cell_type": "code",
   "execution_count": 9,
   "id": "258268eb-46c7-427f-bd54-a6d215fc3ede",
   "metadata": {},
   "outputs": [
    {
     "data": {
      "text/plain": [
       "'off'"
      ]
     },
     "execution_count": 9,
     "metadata": {},
     "output_type": "execute_result"
    }
   ],
   "source": [
    "gs.output('off')\n",
    "gs.output()"
   ]
  },
  {
   "cell_type": "code",
   "execution_count": 10,
   "id": "16456fed-2d48-4b49-9193-4a2b3d99ef54",
   "metadata": {},
   "outputs": [
    {
     "name": "stdout",
     "output_type": "stream",
     "text": [
      "Ramping took 19.96 seconds\n"
     ]
    }
   ],
   "source": [
    "# ramping up current from 0 to 20mA in intervals of 1mA each second\n",
    "gs.output('on')\n",
    "gs.current(0)\n",
    "t1 = time.time()\n",
    "gs.ramp_current(0.02, 0.001, 1)\n",
    "t2 = time.time()\n",
    "print(\"Ramping took {:.4} seconds\".format(t2-t1))"
   ]
  },
  {
   "cell_type": "code",
   "execution_count": 11,
   "id": "dbfe84fe-96b0-46f9-b26e-eee91fc21a0d",
   "metadata": {},
   "outputs": [],
   "source": [
    "# disconnect from the instrument, it will have to reinitialized again\n",
    "gs.close()"
   ]
  }
 ],
 "metadata": {
  "kernelspec": {
   "display_name": "Python 3 (ipykernel)",
   "language": "python",
   "name": "python3"
  },
  "language_info": {
   "codemirror_mode": {
    "name": "ipython",
    "version": 3
   },
   "file_extension": ".py",
   "mimetype": "text/x-python",
   "name": "python",
   "nbconvert_exporter": "python",
   "pygments_lexer": "ipython3",
   "version": "3.9.12"
  }
 },
 "nbformat": 4,
 "nbformat_minor": 5
}
