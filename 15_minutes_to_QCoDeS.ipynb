{
 "cells": [
  {
   "cell_type": "markdown",
   "metadata": {},
   "source": [
    "# 15 minutes to QCoDeS\n",
    "\n",
    "This short introduction is aimed for potential and new users to get the feel of the software. This is a fully functioning Jupyter notebook that will execute simple measurements using dummy instruments. Before you start with your first code using QCoDeS, make sure you have properly set up the Python environment as explained in [this document](../start/index.rst#installation). If you would like to follow this as an interactive notebook, you may [download it from github](https://github.com/QCoDeS/Qcodes/blob/master/docs/examples/15_minutes_to_QCoDeS.ipynb) to run on your local system, or you may use~ the \"launch binder\" link to use it via a web interface."
   ]
  },
  {
   "cell_type": "markdown",
   "metadata": {},
   "source": [
    "## Introduction\n",
    "\n",
    "QCoDeS is a python-based data acquisition and handling framework to facilitate experiments in nanoelectronics. As highly configurable open source project, we envision that this system may suite the needs of a diverse range of experimental setups, acting as a common system for regular experimental work across the community.\n",
    "\n",
    "This guide offers a practical overview of QCoDeS, going from installation to experimental data handling in a single notebook. Along the way links are provided to assist you in the configuration of this software's features for your experiments."
   ]
  },
  {
   "cell_type": "markdown",
   "metadata": {},
   "source": [
    "## Installation\n",
    "\n",
    "QCoDeS is readily installed via pip or conda package managers in your preferred environment. These are other installation options are further detailed [in our installation guide](../start/index.rst#installation).\n",
    "\n",
    "Install via pip:\n",
    "\n",
    "> pip install qcodes\n",
    "\n",
    "Install via conda:\n",
    "\n",
    "> conda -c conda-forge install qcodes"
   ]
  },
  {
   "cell_type": "markdown",
   "metadata": {},
   "source": [
    "## Module imports\n",
    "\n",
    "A wide range of modules are available for QCoDeS, but for this example we will only import what is needed for a simple measurement."
   ]
  },
  {
   "cell_type": "code",
   "execution_count": 25,
   "metadata": {},
   "outputs": [],
   "source": [
    "import numpy as np\n",
    "import qcodes as qc\n",
    "from qcodes.dataset import (\n",
    "    Measurement,\n",
    "    experiments,\n",
    "    initialise_or_create_database_at,\n",
    "    load_by_run_spec,\n",
    "    load_or_create_experiment,\n",
    ")\n",
    "\n",
    "## Dummy instruments for generating synthetic data\n",
    "from qcodes.tests.instrument_mocks import (\n",
    "    DummyInstrument, \n",
    "    DummyInstrumentWithMeasurement\n",
    ")\n",
    "\n",
    "## Multidimensional scanning module\n",
    "from qcodes.utils.dataset.doNd import (\n",
    "    dond, \n",
    "    LinSweep, LogSweep\n",
    ")\n",
    "\n",
    "## Integrated plotting module\n",
    "from qcodes.dataset.plotting import plot_dataset\n",
    "\n",
    "## Using interactive widget\n",
    "from qcodes.interactive_widget import experiments_widget"
   ]
  },
  {
   "cell_type": "markdown",
   "metadata": {},
   "source": [
    "## Instruments\n",
    "\n",
    "`Instrument` class in QCoDeS is responsible for holding connections to hardware and controlling the instruments by its built in methods. For more information on instrument class we refer to the [detailed description here](writing_drivers/Instruments.ipynb)  or the corresponding [api documentation](../api/instrument/index.rst). \n",
    "\n",
    "Let us, now, create two dummy instruments: a digital-to-analog converter (`dac`) with two channels, and a digital multimeter (`dmm`) to measure the signals produced: \n"
   ]
  },
  {
   "cell_type": "code",
   "execution_count": 2,
   "metadata": {},
   "outputs": [],
   "source": [
    "# A dummy signal generator with two parameters ch1 and ch2\n",
    "dac = DummyInstrument('dac', gates=['ch1', 'ch2'])\n",
    "\n",
    "# A dummy digital multimeter that generates a synthetic data depending\n",
    "# on the values set on the setter_instr, in this case the dummy dac\n",
    "dmm = DummyInstrumentWithMeasurement('dmm', setter_instr=dac)"
   ]
  },
  {
   "cell_type": "markdown",
   "metadata": {},
   "source": [
    "All instruments feature methods to enable you to inspect their configuration. We refer to this as a ``snapshot``. For convenience, methods are provided for a human readable version allowing us to take a glance at our digital multimeter:"
   ]
  },
  {
   "cell_type": "code",
   "execution_count": 3,
   "metadata": {},
   "outputs": [
    {
     "name": "stdout",
     "output_type": "stream",
     "text": [
      "dmm:\n",
      "\tparameter value\n",
      "--------------------------------------------------------------------------------\n",
      "IDN :\tNone \n",
      "v1  :\t0 (V)\n",
      "v2  :\t0 (V)\n"
     ]
    }
   ],
   "source": [
    "dmm.print_readable_snapshot()"
   ]
  },
  {
   "cell_type": "markdown",
   "metadata": {},
   "source": [
    "aaaaaaaaAs we can see here, our dummy multimeter, `dmm`, has two `Parameters` (v1 and v2), that correspond the two channels of our dummy signal generator `dac`. "
   ]
  },
  {
   "cell_type": "markdown",
   "metadata": {
    "tags": []
   },
   "source": [
    "## Parameters\n",
    "\n",
    "A QCoDeS `Parameter` is a value from an instrument that may get and/or set values by methods. Intuitively this is how QCoDeS communicates with most instrumentation, for example a digital multimeter contains settings (e.g. mode, range) and provide data (e.g. voltage, current). These methods are defined by [instrument drivers](index.rst#drivers), that utilize the [parameter API](../api/parameters/parameter.rst). \n",
    "\n",
    "In this example we are using dummy instruments with trivial `set` and `get` methods to generate synthetic data. \n",
    "\n",
    "For the `dac`, these settable `Parameters` are added in the instantiation of the `DummyInstrument` class (i.e. `ch1` and `ch2`).\n",
    "\n",
    "\n",
    "> dac = DummyInstrument('dac', **gates=['ch1', 'ch2']**)\n",
    "\n",
    "\n",
    "Similarly, the dummy digital multimeter, `dmm`, has gettable `Parameters` added by the instantiation of the `DummyInstrumentWithMeasurement` class defined by the output channels of the setter instrument (i.e. the dac). \n",
    "\n",
    "\n",
    "> dmm = DummyInstrumentWithMeasurement('dmm', **setter_instr=dac**)\n",
    "\n",
    "\n",
    "Instruments may vary in their instantiation (e.g. gates vs. setter_inst), but the `parameters` are the common interface for measurements in QCoDeS. \n",
    "\n",
    "For convenience QCoDeS provides a variety of parameter classes built in to accommodate a range of instruments: \n",
    "\n",
    "   - `Parameter` : Represents a single value at a given time (e.g. voltage, current), please refer to the [example parameter notebook](Parameters/Parameters.ipynb).\n",
    "   \n",
    "   - `ParameterWithSetpoints`: Represents an array of values of all the same type that are returned all at once (e.g. a voltage vs. time waveform). This class is detailed in our [parameter with setpoint notebook](Parameters/Simple-Example-of-ParameterWithSetpoints.ipynb) along with experimental use cases.\n",
    "\n",
    "   - `DelegateParameter`: It is intended for proxy-ing other parameters and is detailed in the [parameter API](../api/parameters/parameter.rst). You can use different label, unit, etc in the delegated parameter as compared to the source parameter.\n",
    "\n",
    "These built in parameter classes are typically used as a wrapper for instrument communications. The user-facing `set` and `get` methods calling instrument facing `set_raw` and `get_raw` methods. Further examples of these parameters are discussed in our example [notebook on Parameters](index.rst#parameters)."
   ]
  },
  {
   "cell_type": "markdown",
   "metadata": {},
   "source": [
    "### Example of setting and getting parameters\n",
    "\n",
    "In most cases, a settable parameter accepts its value as an argument of a simple function call. For our example, we will set the a value of 1.1 for the `ch1` parameter of our signal generator, `dac`, by providing the value to the instrument channel:"
   ]
  },
  {
   "cell_type": "code",
   "execution_count": 4,
   "metadata": {},
   "outputs": [],
   "source": [
    "dac.ch1(2)"
   ]
  },
  {
   "cell_type": "markdown",
   "metadata": {},
   "source": [
    "Similarly, a gettable parameter will often return its value with a simple function call. In our example, we will read the value of our digital multimeter, `dmm`, like so:"
   ]
  },
  {
   "cell_type": "code",
   "execution_count": 5,
   "metadata": {},
   "outputs": [
    {
     "data": {
      "text/plain": [
       "3.238387235919241"
      ]
     },
     "execution_count": 5,
     "metadata": {},
     "output_type": "execute_result"
    }
   ],
   "source": [
    "dmm.v1()"
   ]
  },
  {
   "cell_type": "markdown",
   "metadata": {},
   "source": [
    "## Stations  \n",
    "\n",
    "A station is a collection of all the instruments and devices present in your experiment. As mentioned earlier, it can be thought of as a bucket where you can add your `Instruments`, `Parameters` and other components. Each of these terms has a definite meaning in QCoDeS and shall be explained in later sections. Once a station is properly configured, you can use its instances to access these components. We refer to tutorial on [Station](Station.ipynb) for more details.\n",
    "\n",
    "To organize our dummy instruments, we will first instantiate a station as so:"
   ]
  },
  {
   "cell_type": "code",
   "execution_count": 6,
   "metadata": {},
   "outputs": [],
   "source": [
    "station = qc.Station()"
   ]
  },
  {
   "cell_type": "markdown",
   "metadata": {},
   "source": [
    "### Adding instruments to the station\n",
    "\n",
    "Every instrument that you are working with during an experiment should be added to a `Station`.  \n",
    "\n",
    "Here, we add the `dac` and `dmm` instruments by using our station's `add_component()` method: "
   ]
  },
  {
   "cell_type": "code",
   "execution_count": 7,
   "metadata": {},
   "outputs": [
    {
     "name": "stderr",
     "output_type": "stream",
     "text": [
      "[dac(DummyInstrument)] Error getting or interpreting *IDN?: ''\n",
      "Traceback (most recent call last):\n",
      "  File \"/usr/local/lib/python3.10/dist-packages/qcodes/instrument/base.py\", line 640, in get_idn\n",
      "    idstr = self.ask('*IDN?')\n",
      "  File \"/usr/local/lib/python3.10/dist-packages/qcodes/instrument/base.py\", line 961, in ask\n",
      "    raise e\n",
      "  File \"/usr/local/lib/python3.10/dist-packages/qcodes/instrument/base.py\", line 954, in ask\n",
      "    answer = self.ask_raw(cmd)\n",
      "  File \"/usr/local/lib/python3.10/dist-packages/qcodes/instrument/base.py\", line 974, in ask_raw\n",
      "    raise NotImplementedError(\n",
      "NotImplementedError: ('Instrument DummyInstrument has not defined an ask method', \"asking '*IDN?' to <DummyInstrument: dac>\")\n",
      "[dmm(DummyInstrumentWithMeasurement)] Error getting or interpreting *IDN?: ''\n",
      "Traceback (most recent call last):\n",
      "  File \"/usr/local/lib/python3.10/dist-packages/qcodes/instrument/base.py\", line 640, in get_idn\n",
      "    idstr = self.ask('*IDN?')\n",
      "  File \"/usr/local/lib/python3.10/dist-packages/qcodes/instrument/base.py\", line 961, in ask\n",
      "    raise e\n",
      "  File \"/usr/local/lib/python3.10/dist-packages/qcodes/instrument/base.py\", line 954, in ask\n",
      "    answer = self.ask_raw(cmd)\n",
      "  File \"/usr/local/lib/python3.10/dist-packages/qcodes/instrument/base.py\", line 974, in ask_raw\n",
      "    raise NotImplementedError(\n",
      "NotImplementedError: ('Instrument DummyInstrumentWithMeasurement has not defined an ask method', \"asking '*IDN?' to <DummyInstrumentWithMeasurement: dmm>\")\n"
     ]
    },
    {
     "data": {
      "text/plain": [
       "'dmm'"
      ]
     },
     "execution_count": 7,
     "metadata": {},
     "output_type": "execute_result"
    }
   ],
   "source": [
    "station.add_component(dac)\n",
    "station.add_component(dmm)"
   ]
  },
  {
   "cell_type": "markdown",
   "metadata": {},
   "source": [
    "-### Inspecting the station\n",
    "\n",
    "For any experiment it is essential to have a record of the instrumental setup. To enable this, a `Station` has a `snapshot` method which provides a dictionary of its `Instruments` and their properties (e.g. `Parameters`) in a recursive manner.\n",
    "\n",
    "This data is typically saved with every experiment run with QCoDeS, but the `snapshot` method may be used on a station to inspect its status:\n"
   ]
  },
  {
   "cell_type": "code",
   "execution_count": 8,
   "metadata": {},
   "outputs": [
    {
     "data": {
      "text/plain": [
       "{'instruments': {'dac': {'functions': {},\n",
       "   'submodules': {},\n",
       "   'parameters': {'IDN': {'__class__': 'qcodes.instrument.parameter.Parameter',\n",
       "     'full_name': 'dac_IDN',\n",
       "     'value': {'vendor': None,\n",
       "      'model': 'dac',\n",
       "      'serial': None,\n",
       "      'firmware': None},\n",
       "     'raw_value': {'vendor': None,\n",
       "      'model': 'dac',\n",
       "      'serial': None,\n",
       "      'firmware': None},\n",
       "     'ts': '2022-07-05 21:37:27',\n",
       "     'label': 'IDN',\n",
       "     'vals': '<Anything>',\n",
       "     'name': 'IDN',\n",
       "     'unit': '',\n",
       "     'instrument': 'qcodes.tests.instrument_mocks.DummyInstrument',\n",
       "     'instrument_name': 'dac',\n",
       "     'post_delay': 0,\n",
       "     'inter_delay': 0},\n",
       "    'ch1': {'__class__': 'qcodes.instrument.parameter.Parameter',\n",
       "     'full_name': 'dac_ch1',\n",
       "     'value': 2,\n",
       "     'raw_value': 2,\n",
       "     'ts': '2022-07-05 21:37:27',\n",
       "     'label': 'Gate ch1',\n",
       "     'vals': '<Numbers -800<=v<=400>',\n",
       "     'name': 'ch1',\n",
       "     'unit': 'V',\n",
       "     'instrument': 'qcodes.tests.instrument_mocks.DummyInstrument',\n",
       "     'instrument_name': 'dac',\n",
       "     'post_delay': 0,\n",
       "     'inter_delay': 0},\n",
       "    'ch2': {'__class__': 'qcodes.instrument.parameter.Parameter',\n",
       "     'full_name': 'dac_ch2',\n",
       "     'value': 0,\n",
       "     'raw_value': 0,\n",
       "     'ts': '2022-07-05 21:37:27',\n",
       "     'label': 'Gate ch2',\n",
       "     'vals': '<Numbers -800<=v<=400>',\n",
       "     'name': 'ch2',\n",
       "     'unit': 'V',\n",
       "     'instrument': 'qcodes.tests.instrument_mocks.DummyInstrument',\n",
       "     'instrument_name': 'dac',\n",
       "     'post_delay': 0,\n",
       "     'inter_delay': 0}},\n",
       "   '__class__': 'qcodes.tests.instrument_mocks.DummyInstrument',\n",
       "   'name': 'dac'},\n",
       "  'dmm': {'functions': {},\n",
       "   'submodules': {},\n",
       "   'parameters': {'IDN': {'__class__': 'qcodes.instrument.parameter.Parameter',\n",
       "     'full_name': 'dmm_IDN',\n",
       "     'value': {'vendor': None,\n",
       "      'model': 'dmm',\n",
       "      'serial': None,\n",
       "      'firmware': None},\n",
       "     'raw_value': {'vendor': None,\n",
       "      'model': 'dmm',\n",
       "      'serial': None,\n",
       "      'firmware': None},\n",
       "     'ts': '2022-07-05 21:37:27',\n",
       "     'label': 'IDN',\n",
       "     'vals': '<Anything>',\n",
       "     'name': 'IDN',\n",
       "     'unit': '',\n",
       "     'instrument': 'qcodes.tests.instrument_mocks.DummyInstrumentWithMeasurement',\n",
       "     'instrument_name': 'dmm',\n",
       "     'post_delay': 0,\n",
       "     'inter_delay': 0},\n",
       "    'v1': {'__class__': 'qcodes.tests.instrument_mocks.DmmExponentialParameter',\n",
       "     'full_name': 'dmm_v1',\n",
       "     'value': 3.3964719082366783,\n",
       "     'raw_value': 3.3964719082366783,\n",
       "     'ts': '2022-07-05 21:37:27',\n",
       "     'label': 'Gate v1',\n",
       "     'vals': '<Numbers -800<=v<=400>',\n",
       "     'name': 'v1',\n",
       "     'unit': 'V',\n",
       "     'instrument': 'qcodes.tests.instrument_mocks.DummyInstrumentWithMeasurement',\n",
       "     'instrument_name': 'dmm',\n",
       "     'post_delay': 0,\n",
       "     'inter_delay': 0},\n",
       "    'v2': {'__class__': 'qcodes.tests.instrument_mocks.DmmGaussParameter',\n",
       "     'full_name': 'dmm_v2',\n",
       "     'value': -0.000837382506813995,\n",
       "     'raw_value': -0.000837382506813995,\n",
       "     'ts': '2022-07-05 21:37:27',\n",
       "     'label': 'Gate v2',\n",
       "     'vals': '<Numbers -800<=v<=400>',\n",
       "     'name': 'v2',\n",
       "     'unit': 'V',\n",
       "     'instrument': 'qcodes.tests.instrument_mocks.DummyInstrumentWithMeasurement',\n",
       "     'instrument_name': 'dmm',\n",
       "     'post_delay': 0,\n",
       "     'inter_delay': 0}},\n",
       "   '__class__': 'qcodes.tests.instrument_mocks.DummyInstrumentWithMeasurement',\n",
       "   'name': 'dmm'}},\n",
       " 'parameters': {},\n",
       " 'components': {},\n",
       " 'config': None}"
      ]
     },
     "execution_count": 8,
     "metadata": {},
     "output_type": "execute_result"
    }
   ],
   "source": [
    "# Remove the ``_ = `` part to see the full snapshot\n",
    "station.snapshot()"
   ]
  },
  {
   "cell_type": "markdown",
   "metadata": {},
   "source": [
    "This generates a lengthy output. While we will truncate it for this tutorial, the nested dictionaries offer a human- and machine-readable description of the station and its attached instruments:\n",
    "\n",
    "```\n",
    "{'instruments': {'dmm': {'functions': {},\n",
    "   'submodules': {},\n",
    "   '__class__': 'qcodes.tests.instrument_mocks.DummyInstrumentWithMeasurement',\n",
    "   'parameters': {'IDN': {'__class__': 'qcodes.instrument.parameter.Parameter',\n",
    "    [...]\n",
    "     'inter_delay': 0,\n",
    "     'instrument': 'qcodes.tests.instrument_mocks.DummyInstrumentWithMeasurement',\n",
    "     'instrument_name': 'dmm',\n",
    "     'unit': ''},\n",
    "    'v1': {'__class__': 'qcodes.tests.instrument_mocks.DmmExponentialParameter',\n",
    "     'full_name': 'dmm_v1',\n",
    "     'value': 5.136319425854842,\n",
    "     'raw_value': 5.136319425854842,\n",
    "     'ts': '2021-03-29 18:47:16',\n",
    "     'label': 'Gate v1',\n",
    "     'name': 'v1',\n",
    "     'post_delay': 0,\n",
    "     'vals': '<Numbers -800<=v<=400>',\n",
    "     'inter_delay': 0,\n",
    "     'instrument': 'qcodes.tests.instrument_mocks.DummyInstrumentWithMeasurement',\n",
    "     'instrument_name': 'dmm',\n",
    "     'unit': 'V'},\n",
    "     [...]\n",
    "```"
   ]
  },
  {
   "cell_type": "markdown",
   "metadata": {},
   "source": [
    "### Saving and loading configurations.\n",
    "\n",
    "The instantiation of the instruments, that is, setting up the proper initial values of the corresponding parameters and similar pre-specifications of a measurement constitutes the initialization portion of the code. In general, this portion can be quite long and tedious to maintain. These (and more) concerns can be solved by a [YAML configuration file](Station.ipynb#Using-Station-with-YAML-configuration-files) of the `Station` object. Further options for stations are detailed in the [station example](Station.ipynb#Default-Station).\n"
   ]
  },
  {
   "cell_type": "markdown",
   "metadata": {},
   "source": [
    "## Databases and experiments.\n",
    "\n",
    "With `Station` a working station, the next step is to set up a `database` in order to save our data to. In QCoDeS, we implement a SQLite3 database for this purpose. \n",
    "\n",
    "### Initialize or create a database\n",
    "\n",
    "Before starting a measurement, we first initialize a database. The location of the database is specified by the configuration object of the QCoDeS installation. The database is created with the latest supported version complying with the QCoDeS version that is currently under use. If a database already exists but an upgrade has been done to the QCoDeS, then that database can continue to be used and it is going to be upgraded to the latest version automatically at first connection.\n",
    "\n",
    "The initialization (or creation) of the database at a particular location is achieved via static function:"
   ]
  },
  {
   "cell_type": "code",
   "execution_count": 9,
   "metadata": {},
   "outputs": [],
   "source": [
    "initialise_or_create_database_at(\"~/experiments_for_15_mins.db\")"
   ]
  },
  {
   "cell_type": "markdown",
   "metadata": {},
   "source": [
    "By default, QCoDeS only supports a single active database. The current database location is stored in the configuration data (i.e. qcodes.config). "
   ]
  },
  {
   "cell_type": "code",
   "execution_count": 10,
   "metadata": {},
   "outputs": [
    {
     "data": {
      "text/plain": [
       "'~/experiments_for_15_mins.db'"
      ]
     },
     "execution_count": 10,
     "metadata": {},
     "output_type": "execute_result"
    }
   ],
   "source": [
    "qc.config.core.db_location"
   ]
  },
  {
   "cell_type": "markdown",
   "metadata": {},
   "source": [
    "### Load or create an experiment\n",
    "\n",
    "After initializing the database we create an `Experiment` object. This object contains the names of the experiment and sample, and acts as a manager for data acquired during measurement. The `load_or_create_experiment` function will return an existing experiment with the same name, but if no experiments are found, it will create a new one.\n",
    "\n",
    "For this example, we will call our experiment `tutorial_exp`:\n"
   ]
  },
  {
   "cell_type": "code",
   "execution_count": 11,
   "metadata": {
    "scrolled": true
   },
   "outputs": [],
   "source": [
    "\n",
    "tutorial_exp = load_or_create_experiment(\n",
    "    experiment_name=\"tutorial_exp\",\n",
    "    sample_name=\"synthetic data\"\n",
    ")"
   ]
  },
  {
   "cell_type": "markdown",
   "metadata": {},
   "source": [
    "The path of the database for the `experiment` is the defined path in the QCoDeS configuration. First, `Experiment` loads the database in that path (or it creates one if there is no database in that path), and then saves the created experiment in that database. If an experiment with this name and sample name already exists this will be set as the default experiment for the rest of the session. Although loading or creating a database with the experiment is a user-friendly feature, we recommend users to initialize their database as shown earlier. This practice allows better control of the experiments and databases for measurements, avoiding unexpected outcomes in data management.\n",
    "\n",
    "The method shown above to load or create the experiment is the most versatile one. However there are other options discussed in the guide on databases."
   ]
  },
  {
   "cell_type": "markdown",
   "metadata": {},
   "source": [
    "## Measurement Context Manager\n",
    "\n",
    "The `Measurement` object is used to obtain data from instruments in QCoDeS, as such it is instantiated with both an `experiment` (to handle data) and `station` to control the instruments. If these arguments are absent, the most recent experiment and station are used as defaults. A keyword argument `name` can also be set as any string value, this string will be used to identify the resulting dataset. "
   ]
  },
  {
   "cell_type": "code",
   "execution_count": 12,
   "metadata": {},
   "outputs": [],
   "source": [
    "context_meas = Measurement(exp=tutorial_exp, station=station, name='context_example')"
   ]
  },
  {
   "cell_type": "markdown",
   "metadata": {},
   "source": [
    "It is possible to instantiate a `measurement` prior to creating or loading an experiment, but this is not advisable.\n",
    "\n",
    "1. If the initialized `database` does not contain an `experiment`, then the instantiation will raise an error and halt your work.\n",
    "2. If the database already contains an `experiment`, then the instantiated `measurement`  will be added to the most recent `experiment` in the database without raising an error message or warning. This will lead to poor data management.\n"
   ]
  },
  {
   "cell_type": "markdown",
   "metadata": {},
   "source": [
    "### Registering parameters to measure\n",
    "\n",
    "QCoDeS features the ability to store the relationship between parameters (i.e. parameter `y` is dependent on `x`). This feature allows the intent of the measurement to be clearly recorded in the experimental records. In addition, the parameter dependency is used to define the coordinate axes when plotting the data using QCoDeS. The parameters which are being measured are first registered with the `measurement`. When registering a dependent parameter (i.e. y(x)) the independent parameter is declared as a setpoint. As a consequence, independent parameters must be registered prior to their corresponding dependent parameters. \n",
    "\n",
    "In our example, ``dac.ch1`` is the independent parameter and ``dmm.v1`` is the dependent parameter. So we register ``dmm.v1`` with the setpoint as ``dac.ch1``. "
   ]
  },
  {
   "cell_type": "code",
   "execution_count": 13,
   "metadata": {},
   "outputs": [
    {
     "data": {
      "text/plain": [
       "<qcodes.dataset.measurements.Measurement at 0x7fae47920040>"
      ]
     },
     "execution_count": 13,
     "metadata": {},
     "output_type": "execute_result"
    }
   ],
   "source": [
    "# Register the independent parameter...\n",
    "context_meas.register_parameter(dac.ch1)\n",
    "# ...then register the dependent parameter\n",
    "context_meas.register_parameter(dmm.v1, setpoints=(dac.ch1,))"
   ]
  },
  {
   "cell_type": "markdown",
   "metadata": {},
   "source": [
    "### Example measurement loop\n",
    "\n",
    "The QCoDeS measurement module provides a context manager for registering parameters to measure and store results. Within the context manager, measured data is periodically saved to the database as a background process.\n",
    "\n",
    "To conduct a simple measurement, we can create a simple loop inside the context manager which will control the instruments, acquire data, and store the results. \n",
    "\n",
    "> This is the a more user-configurable approach for acquiring data in QCoDeS. For more examples and details, refer to [Performing measurements using QCoDeS parameters and DataSet example](./DataSet/Performing-measurements-using-qcodes-parameters-and-dataset.ipynb)\n"
   ]
  },
  {
   "cell_type": "code",
   "execution_count": 14,
   "metadata": {},
   "outputs": [
    {
     "name": "stdout",
     "output_type": "stream",
     "text": [
      "Starting experimental run with id: 28. \n"
     ]
    }
   ],
   "source": [
    "# Time for periodic background database writes\n",
    "context_meas.write_period = 2\n",
    "\n",
    "with context_meas.run() as datasaver:\n",
    "    for set_v in np.linspace(0, 25, 10):\n",
    "        dac.ch1.set(set_v)\n",
    "        get_v = dmm.v1.get()\n",
    "        datasaver.add_result((dac.ch1, set_v),\n",
    "                             (dmm.v1, get_v))\n",
    "\n",
    "    # Convenient to have for plotting and data access\n",
    "    dataset = datasaver.dataset"
   ]
  },
  {
   "cell_type": "markdown",
   "metadata": {},
   "source": [
    "The `meas.run` method returns a context manager to control data acquisition and storage. Entering the context provides a `DataSaver` object, which we will store as the `datasaver` variable. Using a simple loop structure, we can use instruments' `set` and `get` methods to control the instrument and acquire data respectively. Then, we use the ``add_result`` method to validate the size of all the data points and store them intermittently into a write cache. Within every write-period of the measurement, the data of this cache is flushed to the database in the background."
   ]
  },
  {
   "cell_type": "markdown",
   "metadata": {},
   "source": [
    "## Using the doNd multi-dimensional measurement utility \n",
    "\n",
    "Qcodes also includes functions to produce multidimensional data sets with [optimized data handling](DataSet/Using_doNd_functions_in_comparison_to_Measurement_context_manager_for_performing_measurements.ipynb); of these, ``dond`` (i.e. do n-dimensional is facilitates collecting multidimensional data.  Similar optimizations can be made using the measurement context (see [measuring with shaped data](DataSet/Performing-measurements-using-qcodes-parameters-and-dataset.ipynb#Specifying-shape-of-measurement)), but this approach simplifies the setup and readability of the code. \n",
    "\n",
    "> This is a more user-friendly way of acquiring multi-dimensional data in QCoDeS.\n",
    "\n",
    "We will first set up the measurement by defining the sweeps for each independent parameters, in our case the two channels of ``dac``:"
   ]
  },
  {
   "cell_type": "code",
   "execution_count": 26,
   "metadata": {},
   "outputs": [],
   "source": [
    "# Setting up a doNd measurement\n",
    "sweep_1 = LogSweep(dac.ch1, -1, 1, 20, 0.01)\n",
    "sweep_2 = LogSweep(dac.ch2, -1, 1, 20, 0.01)"
   ]
  },
  {
   "cell_type": "markdown",
   "metadata": {},
   "source": [
    "\n",
    "This linear sweeps for `dac.ch1` and `dac.ch2` are defined by the endpoints of the sweep (-1 to 1 V), the number of steps (20) and a time delay between each step (0.01 s). This delay time is used to allow real instruments to equilibrate between each step in the sweep. Multiple types of sweeps are [included with QCoDeS](DataSet/Using_doNd_functions_in_comparison_to_Measurement_context_manager_for_performing_measurements.ipynb) to enable a variety of sampling schemes. \n",
    "\n",
    "> When using `dond` we do not register parameters, this is done automatically by the function. With dond every dependent parameter depends on all sweep parameters."
   ]
  },
  {
   "cell_type": "code",
   "execution_count": 27,
   "metadata": {},
   "outputs": [
    {
     "name": "stdout",
     "output_type": "stream",
     "text": [
      "Starting experimental run with id: 30. Using 'qcodes.dataset.dond'\n"
     ]
    },
    {
     "data": {
      "application/vnd.jupyter.widget-view+json": {
       "model_id": "73b81874f03043cf9ec9314b5bcf69ce",
       "version_major": 2,
       "version_minor": 0
      },
      "text/plain": [
       "  0%|          | 0/400 [00:00<?, ?it/s]"
      ]
     },
     "metadata": {},
     "output_type": "display_data"
    },
    {
     "data": {
      "text/plain": [
       "(dond_example #30@/root/experiments_for_15_mins.db\n",
       " -------------------------------------------------\n",
       " dac_ch1 - numeric\n",
       " dac_ch2 - numeric\n",
       " dmm_v1 - numeric\n",
       " dmm_v2 - numeric,\n",
       " [None],\n",
       " [None])"
      ]
     },
     "execution_count": 27,
     "metadata": {},
     "output_type": "execute_result"
    }
   ],
   "source": [
    "dond(\n",
    "    sweep_1,                          # 1st independent parameter\n",
    "    sweep_2,                          # 2nd independent parameter\n",
    "    dmm.v1,                           # 1st dependent parameter\n",
    "    dmm.v2,                           # 2nd dependent parameter\n",
    "    measurement_name=\"dond_example\",  # Set the measurement name\n",
    "    exp=tutorial_exp,                 # Set the experiment to save data to.\n",
    "    show_progress=True                # Optional progress bar\n",
    ")\n"
   ]
  },
  {
   "cell_type": "markdown",
   "metadata": {},
   "source": [
    "The ``dond`` function features a number of options (e.g. plotting, database write period, multithreading) which are further detailed in our [example notebooks](DataSet/Using_doNd_functions_in_comparison_to_Measurement_context_manager_for_performing_measurements.ipynb#Handling-plot,-experiment,-and-measurement_name-with-doNd). For simple measurements, [do1d](DataSet/Using_doNd_functions_in_comparison_to_Measurement_context_manager_for_performing_measurements.ipynb#do1d) and [do2d](DataSet/Using_doNd_functions_in_comparison_to_Measurement_context_manager_for_performing_measurements.ipynb#do2d) provide a simpler interface with similar functionality for 1d and 2d acquisitions."
   ]
  },
  {
   "cell_type": "markdown",
   "metadata": {},
   "source": [
    "## Exploring datasets and databases\n",
    "\n",
    "In this section we detail methods and functions for working with `DataSets`. In QCoDeS, all measured results are generally packaged and stored in the database as a `DataSet` object. While it isn't essential for running QCoDeS, we provide a [detailed walktrough notebook](DataSet/DataSet-class-walkthrough.ipynb) to assist users in developing new data analysis methods."
   ]
  },
  {
   "cell_type": "markdown",
   "metadata": {},
   "source": [
    "### List all datasets in a database."
   ]
  },
  {
   "cell_type": "markdown",
   "metadata": {},
   "source": [
    "The most direct way of finding our data is the `experiments` function; this queries the currently initialized `database` and prints the `experiments` and `datasets` contained inside. "
   ]
  },
  {
   "cell_type": "code",
   "execution_count": 28,
   "metadata": {},
   "outputs": [
    {
     "data": {
      "text/plain": [
       "[tutorial_exp#synthetic data#1@/root/experiments_for_15_mins.db\n",
       " --------------------------------------------------------------\n",
       " 1-dond_example-1-gs200_voltage,keithley2400_curr-20\n",
       " 2-dond_example-2-gs200_voltage,keithley2400_curr-20\n",
       " 3-dond_example-3-gs200_voltage,keithley2400_curr-20\n",
       " 4-dond_example-4-gs200_voltage,keithley2400_curr-20\n",
       " 5-dond_example-5-gs200_voltage,keithley2400_curr-20\n",
       " 6-dond_example-6-gs200_voltage,keithley2400_curr-0\n",
       " 7-dond_example-7-gs200_voltage,keithley2400_curr-20\n",
       " 8-dond_example-8-gs200_voltage,keithley2400_curr-20\n",
       " 9-dond_example-9-gs200_current,keithley2400_curr-20\n",
       " 10-dond_example-10-gs200_current,keithley2400_curr-20\n",
       " 11-dond_example-11-gs200_current,keithley2400_volt-20\n",
       " 12-dond_example-12-gs200_current,keithley2400_volt-20\n",
       " 13-dond_example-13-gs200_current,keithley2400_volt-20\n",
       " 14-dond_example-14-gs200_current,keithley2400_volt-50\n",
       " 15-dond_example-15-gs200_current,keithley2400_volt-50\n",
       " 16-dond_example-16-gs200_current,keithley2400_volt-50\n",
       " 17-dond_example-17-gs200_current,keithley2400_volt-50\n",
       " 18-dond_example-18-gs200_current,keithley2400_curr-50\n",
       " 19-dond_example-19-gs200_current,keithley2400_volt-50\n",
       " 20-dond_example-20-gs200_current,keithley2400_volt-50\n",
       " 21-dond_example-21-gs200_current,keithley2400_volt-50\n",
       " 22-dond_example-22-gs200_current,keithley2400_volt-50\n",
       " 23-dond_example-23-gs200_current,keithley2400_volt-50\n",
       " 28-context_example-24-dac_ch1,dmm_v1-10\n",
       " 29-dond_example-25-dac_ch1,dac_ch2,dmm_v1,dmm_v2-800\n",
       " 30-dond_example-26-dac_ch1,dac_ch2,dmm_v1,dmm_v2-800,\n",
       " leds_exp#green data#2@/root/experiments_for_15_mins.db\n",
       " ------------------------------------------------------\n",
       " 24-dond_example-1-gs200_current,keithley2400_volt-50,\n",
       " leds_exp#green_data#3@/root/experiments_for_15_mins.db\n",
       " ------------------------------------------------------\n",
       " 25-dond_example-1-gs200_current,keithley2400_volt-50\n",
       " 26-dond_example-2-gs200_current,keithley2400_volt-50\n",
       " 27-dond_example-3-gs200_current,keithley2400_volt-50]"
      ]
     },
     "execution_count": 28,
     "metadata": {},
     "output_type": "execute_result"
    }
   ],
   "source": [
    "experiments()"
   ]
  },
  {
   "cell_type": "markdown",
   "metadata": {},
   "source": [
    "While this example database contains only a few experiments this number may grow significantly as you perform measurements on your nanoelectronic devices. \n",
    "\n",
    "While our example database contains only few experiments, in reality the database will contain several experiments containing many datasets. Often, you would like to load a dataset from a particular experiment for further analysis. Here we shall explore different ways to find and retrieve already measured dataset from the database."
   ]
  },
  {
   "cell_type": "markdown",
   "metadata": {},
   "source": [
    "### List all the datasets in an experiment\n",
    "\n",
    "An experiment also contains the `datasets` produced by its `measurements`. Using the `data_sets` method we can print a list of these `datasets`, the parameters recorded, and the type of data obtained for each parameter."
   ]
  },
  {
   "cell_type": "code",
   "execution_count": 18,
   "metadata": {},
   "outputs": [
    {
     "data": {
      "text/plain": [
       "[dond_example #1@/root/experiments_for_15_mins.db\n",
       " ------------------------------------------------\n",
       " gs200_voltage - numeric\n",
       " keithley2400_curr - numeric,\n",
       " dond_example #2@/root/experiments_for_15_mins.db\n",
       " ------------------------------------------------\n",
       " gs200_voltage - numeric\n",
       " keithley2400_curr - numeric,\n",
       " dond_example #3@/root/experiments_for_15_mins.db\n",
       " ------------------------------------------------\n",
       " gs200_voltage - numeric\n",
       " keithley2400_curr - numeric,\n",
       " dond_example #4@/root/experiments_for_15_mins.db\n",
       " ------------------------------------------------\n",
       " gs200_voltage - numeric\n",
       " keithley2400_curr - numeric,\n",
       " dond_example #5@/root/experiments_for_15_mins.db\n",
       " ------------------------------------------------\n",
       " gs200_voltage - numeric\n",
       " keithley2400_curr - numeric,\n",
       " dond_example #6@/root/experiments_for_15_mins.db\n",
       " ------------------------------------------------\n",
       " gs200_voltage - numeric\n",
       " keithley2400_curr - numeric,\n",
       " dond_example #7@/root/experiments_for_15_mins.db\n",
       " ------------------------------------------------\n",
       " gs200_voltage - numeric\n",
       " keithley2400_curr - numeric,\n",
       " dond_example #8@/root/experiments_for_15_mins.db\n",
       " ------------------------------------------------\n",
       " gs200_voltage - numeric\n",
       " keithley2400_curr - numeric,\n",
       " dond_example #9@/root/experiments_for_15_mins.db\n",
       " ------------------------------------------------\n",
       " gs200_current - numeric\n",
       " keithley2400_curr - numeric,\n",
       " dond_example #10@/root/experiments_for_15_mins.db\n",
       " -------------------------------------------------\n",
       " gs200_current - numeric\n",
       " keithley2400_curr - numeric,\n",
       " dond_example #11@/root/experiments_for_15_mins.db\n",
       " -------------------------------------------------\n",
       " gs200_current - numeric\n",
       " keithley2400_volt - numeric,\n",
       " dond_example #12@/root/experiments_for_15_mins.db\n",
       " -------------------------------------------------\n",
       " gs200_current - numeric\n",
       " keithley2400_volt - numeric,\n",
       " dond_example #13@/root/experiments_for_15_mins.db\n",
       " -------------------------------------------------\n",
       " gs200_current - numeric\n",
       " keithley2400_volt - numeric,\n",
       " dond_example #14@/root/experiments_for_15_mins.db\n",
       " -------------------------------------------------\n",
       " gs200_current - numeric\n",
       " keithley2400_volt - numeric,\n",
       " dond_example #15@/root/experiments_for_15_mins.db\n",
       " -------------------------------------------------\n",
       " gs200_current - numeric\n",
       " keithley2400_volt - numeric,\n",
       " dond_example #16@/root/experiments_for_15_mins.db\n",
       " -------------------------------------------------\n",
       " gs200_current - numeric\n",
       " keithley2400_volt - numeric,\n",
       " dond_example #17@/root/experiments_for_15_mins.db\n",
       " -------------------------------------------------\n",
       " gs200_current - numeric\n",
       " keithley2400_volt - numeric,\n",
       " dond_example #18@/root/experiments_for_15_mins.db\n",
       " -------------------------------------------------\n",
       " gs200_current - numeric\n",
       " keithley2400_curr - numeric,\n",
       " dond_example #19@/root/experiments_for_15_mins.db\n",
       " -------------------------------------------------\n",
       " gs200_current - numeric\n",
       " keithley2400_volt - numeric,\n",
       " dond_example #20@/root/experiments_for_15_mins.db\n",
       " -------------------------------------------------\n",
       " gs200_current - numeric\n",
       " keithley2400_volt - numeric,\n",
       " dond_example #21@/root/experiments_for_15_mins.db\n",
       " -------------------------------------------------\n",
       " gs200_current - numeric\n",
       " keithley2400_volt - numeric,\n",
       " dond_example #22@/root/experiments_for_15_mins.db\n",
       " -------------------------------------------------\n",
       " gs200_current - numeric\n",
       " keithley2400_volt - numeric,\n",
       " dond_example #23@/root/experiments_for_15_mins.db\n",
       " -------------------------------------------------\n",
       " gs200_current - numeric\n",
       " keithley2400_volt - numeric,\n",
       " context_example #28@/root/experiments_for_15_mins.db\n",
       " ----------------------------------------------------\n",
       " dac_ch1 - numeric\n",
       " dmm_v1 - numeric,\n",
       " dond_example #29@/root/experiments_for_15_mins.db\n",
       " -------------------------------------------------\n",
       " dac_ch1 - numeric\n",
       " dac_ch2 - numeric\n",
       " dmm_v1 - numeric\n",
       " dmm_v2 - numeric]"
      ]
     },
     "execution_count": 18,
     "metadata": {},
     "output_type": "execute_result"
    }
   ],
   "source": [
    "tutorial_exp.data_sets()"
   ]
  },
  {
   "cell_type": "markdown",
   "metadata": {},
   "source": [
    "### Load the data set using one or more specifications"
   ]
  },
  {
   "cell_type": "markdown",
   "metadata": {},
   "source": [
    "In order to plot or analyze data, we will need to retrieve the `datasets`. While this can be done directly from the `experiment`, instrument environments are typically not used for analysis. Moreover, we may wish to compare data from separate `experiments` requiring us to load datasets separately.\n",
    "\n",
    "In QCoDeS, `datasets` can be obtained using simple criteria via the  `load_by_run_spec` function. For this example we will load our previous 1d and 2d datasets by their name and database id number: "
   ]
  },
  {
   "cell_type": "code",
   "execution_count": 19,
   "metadata": {},
   "outputs": [],
   "source": [
    "dataset_1d = load_by_run_spec(experiment_name='tutorial_exp', captured_run_id=1)\n",
    "dataset_2d = load_by_run_spec(experiment_name='tutorial_exp', captured_run_id=2)"
   ]
  },
  {
   "cell_type": "markdown",
   "metadata": {},
   "source": [
    "While the arguments are optional, the function call will raise an error if more than one run matching the supplied specifications is found. If such an error occurs, the traceback will contain the specifications of the runs, as well. More examples of refined search criteria for data extraction are provided in [this example notebook](DataSet/Extracting-runs-from-one-DB-file-to-another.ipynb#Uniquely-identifying-and-loading-runs).\n"
   ]
  },
  {
   "cell_type": "markdown",
   "metadata": {},
   "source": [
    "### Plotting datasets\n",
    "\n",
    "Numerical data is typically difficult to understand when tabulated, so we would want to visualize it as a plot. QCoDeS includes an integrated plotting function, `plot_dataset`, that neatly visualizes our 1d and 2d `datasets`:"
   ]
  },
  {
   "cell_type": "code",
   "execution_count": 20,
   "metadata": {},
   "outputs": [
    {
     "data": {
      "text/plain": [
       "([<AxesSubplot:title={'center':'Run #1, Experiment tutorial_exp (synthetic data)'}, xlabel='Voltage (V)', ylabel='Current (nA)'>],\n",
       " [None])"
      ]
     },
     "execution_count": 20,
     "metadata": {},
     "output_type": "execute_result"
    },
    {
     "data": {
      "image/png": "[encoded data removed]",
      "text/plain": [
       "<Figure size 432x288 with 1 Axes>"
      ]
     },
     "metadata": {
      "needs_background": "light"
     },
     "output_type": "display_data"
    }
   ],
   "source": [
    "# Plotting 1d dataset\n",
    "plot_dataset(dataset_1d)"
   ]
  },
  {
   "cell_type": "markdown",
   "metadata": {},
   "source": [
    "With 1d data a simple line plot will be generated with the dependent and independent parameters set to the respective X and Y axes. This works nicely because of the integration of the `instrument` (providing units) and the predefined dependency between `parameters` measured."
   ]
  },
  {
   "cell_type": "code",
   "execution_count": 21,
   "metadata": {},
   "outputs": [
    {
     "data": {
      "text/plain": [
       "([<AxesSubplot:title={'center':'Run #2, Experiment tutorial_exp (synthetic data)'}, xlabel='Voltage (V)', ylabel='Current (nA)'>],\n",
       " [None])"
      ]
     },
     "execution_count": 21,
     "metadata": {},
     "output_type": "execute_result"
    },
    {
     "data": {
      "image/png": "[encoded data removed]",
      "text/plain": [
       "<Figure size 432x288 with 1 Axes>"
      ]
     },
     "metadata": {
      "needs_background": "light"
     },
     "output_type": "display_data"
    }
   ],
   "source": [
    "# Plotting 2d dataset as heatmaps\n",
    "plot_dataset(dataset_2d)\n"
   ]
  },
  {
   "cell_type": "markdown",
   "metadata": {},
   "source": [
    "With 2d data heat maps will be generated with the independent parameters set to the X and Y axes and the dependent parameter set as the color scale. Similar to the 1d case, this automatic visualization depends on the predefined `parameters` provided to the `dond` function. \n",
    "\n",
    ">For more detailed examples of plotting QCoDeS datasets, we have articles covering a variety of data types:\n",
    ">\n",
    "> - [Offline plotting tutorial](DataSet/Offline%20Plotting%20Tutorial.ipynb)\n",
    "> - [Offline plotting with categorical data](DataSet/Offline%20plotting%20with%20categorical%20data.ipynb)\n",
    "> - [Offline plotting with complex data](DataSet/Offline%20plotting%20with%20complex%20data.ipynb)"
   ]
  },
  {
   "cell_type": "markdown",
   "metadata": {},
   "source": [
    "### QCoDeS measurements live plotting with Plottr\n",
    "\n",
    "Plottr supports and is recommended for live plotting QCoDeS measurements. This enables a direct visualization of an ongoing measurement to facilitate experimentalists. [How to use plottr with QCoDeS for live plotting](plotting/How-to-use-Plottr-with-QCoDeS-for-live-plotting.ipynb) notebook contains more information."
   ]
  },
  {
   "cell_type": "markdown",
   "metadata": {},
   "source": [
    "### Get data of specific parameter of a dataset\n",
    "\n",
    "When designing a new analysis method for your nanoelectronic measurements, it may be useful to extract the data from an individual parameter obtained in a dataset. Using the `get_parameter_data` method included in `DataSet` we obtain a dictionary of the data for a single parameter.\n",
    "\n",
    "> Note that this method behaves differently for independent (e.g. `dac_ch1`) or dependent (e.g. `dmm_v1`) parameters:"
   ]
  },
  {
   "cell_type": "code",
   "execution_count": 22,
   "metadata": {},
   "outputs": [
    {
     "data": {
      "text/plain": [
       "{'keithley2400_curr': {'keithley2400_curr': array([-9.706301e-08, -9.971959e-08, -9.803492e-08, -9.827822e-08,\n",
       "         -9.880100e-08, -9.882233e-08, -9.865870e-08, -9.942454e-08,\n",
       "         -9.905098e-08, -9.950752e-08, -1.002068e-07, -9.949381e-08,\n",
       "         -9.906671e-08, -9.938982e-08, -9.844367e-08, -9.927226e-08,\n",
       "         -9.803106e-08, -9.756086e-08, -9.882235e-08, -9.760035e-08]),\n",
       "  'gs200_voltage': array([-1.        , -0.89473684, -0.78947368, -0.68421053, -0.57894737,\n",
       "         -0.47368421, -0.36842105, -0.26315789, -0.15789474, -0.05263158,\n",
       "          0.05263158,  0.15789474,  0.26315789,  0.36842105,  0.47368421,\n",
       "          0.57894737,  0.68421053,  0.78947368,  0.89473684,  1.        ])}}"
      ]
     },
     "execution_count": 22,
     "metadata": {},
     "output_type": "execute_result"
    }
   ],
   "source": [
    "# All data for all parameters\n",
    "dataset_1d.get_parameter_data()"
   ]
  },
  {
   "cell_type": "code",
   "execution_count": 23,
   "metadata": {},
   "outputs": [
    {
     "ename": "KeyError",
     "evalue": "'dac_ch1'",
     "output_type": "error",
     "traceback": [
      "\u001b[0;31m---------------------------------------------------------------------------\u001b[0m",
      "\u001b[0;31mKeyError\u001b[0m                                  Traceback (most recent call last)",
      "Input \u001b[0;32mIn [23]\u001b[0m, in \u001b[0;36m<cell line: 2>\u001b[0;34m()\u001b[0m\n\u001b[1;32m      1\u001b[0m \u001b[38;5;66;03m# Data for independent parameter\u001b[39;00m\n\u001b[0;32m----> 2\u001b[0m \u001b[43mdataset_1d\u001b[49m\u001b[38;5;241;43m.\u001b[39;49m\u001b[43mget_parameter_data\u001b[49m\u001b[43m(\u001b[49m\u001b[38;5;124;43m'\u001b[39;49m\u001b[38;5;124;43mdac_ch1\u001b[39;49m\u001b[38;5;124;43m'\u001b[39;49m\u001b[43m)\u001b[49m\n",
      "File \u001b[0;32m/usr/local/lib/python3.10/dist-packages/qcodes/dataset/data_set.py:820\u001b[0m, in \u001b[0;36mDataSet.get_parameter_data\u001b[0;34m(self, start, end, *params)\u001b[0m\n\u001b[1;32m    818\u001b[0m \u001b[38;5;28;01melse\u001b[39;00m:\n\u001b[1;32m    819\u001b[0m     valid_param_names \u001b[38;5;241m=\u001b[39m \u001b[38;5;28mself\u001b[39m\u001b[38;5;241m.\u001b[39m_validate_parameters(\u001b[38;5;241m*\u001b[39mparams)\n\u001b[0;32m--> 820\u001b[0m \u001b[38;5;28;01mreturn\u001b[39;00m \u001b[43mget_parameter_data\u001b[49m\u001b[43m(\u001b[49m\u001b[38;5;28;43mself\u001b[39;49m\u001b[38;5;241;43m.\u001b[39;49m\u001b[43mconn\u001b[49m\u001b[43m,\u001b[49m\u001b[43m \u001b[49m\u001b[38;5;28;43mself\u001b[39;49m\u001b[38;5;241;43m.\u001b[39;49m\u001b[43mtable_name\u001b[49m\u001b[43m,\u001b[49m\n\u001b[1;32m    821\u001b[0m \u001b[43m                          \u001b[49m\u001b[43mvalid_param_names\u001b[49m\u001b[43m,\u001b[49m\u001b[43m \u001b[49m\u001b[43mstart\u001b[49m\u001b[43m,\u001b[49m\u001b[43m \u001b[49m\u001b[43mend\u001b[49m\u001b[43m)\u001b[49m\n",
      "File \u001b[0;32m/usr/local/lib/python3.10/dist-packages/qcodes/dataset/sqlite/queries.py:215\u001b[0m, in \u001b[0;36mget_parameter_data\u001b[0;34m(conn, table_name, columns, start, end)\u001b[0m\n\u001b[1;32m    213\u001b[0m \u001b[38;5;66;03m# loop over all the requested parameters\u001b[39;00m\n\u001b[1;32m    214\u001b[0m \u001b[38;5;28;01mfor\u001b[39;00m output_param \u001b[38;5;129;01min\u001b[39;00m columns:\n\u001b[0;32m--> 215\u001b[0m     output[output_param] \u001b[38;5;241m=\u001b[39m \u001b[43mget_shaped_parameter_data_for_one_paramtree\u001b[49m\u001b[43m(\u001b[49m\n\u001b[1;32m    216\u001b[0m \u001b[43m        \u001b[49m\u001b[43mconn\u001b[49m\u001b[43m,\u001b[49m\n\u001b[1;32m    217\u001b[0m \u001b[43m        \u001b[49m\u001b[43mtable_name\u001b[49m\u001b[43m,\u001b[49m\n\u001b[1;32m    218\u001b[0m \u001b[43m        \u001b[49m\u001b[43mrundescriber\u001b[49m\u001b[43m,\u001b[49m\n\u001b[1;32m    219\u001b[0m \u001b[43m        \u001b[49m\u001b[43moutput_param\u001b[49m\u001b[43m,\u001b[49m\n\u001b[1;32m    220\u001b[0m \u001b[43m        \u001b[49m\u001b[43mstart\u001b[49m\u001b[43m,\u001b[49m\n\u001b[1;32m    221\u001b[0m \u001b[43m        \u001b[49m\u001b[43mend\u001b[49m\u001b[43m)\u001b[49m\n\u001b[1;32m    222\u001b[0m \u001b[38;5;28;01mreturn\u001b[39;00m output\n",
      "File \u001b[0;32m/usr/local/lib/python3.10/dist-packages/qcodes/dataset/sqlite/queries.py:242\u001b[0m, in \u001b[0;36mget_shaped_parameter_data_for_one_paramtree\u001b[0;34m(conn, table_name, rundescriber, output_param, start, end)\u001b[0m\n\u001b[1;32m    225\u001b[0m \u001b[38;5;28;01mdef\u001b[39;00m \u001b[38;5;21mget_shaped_parameter_data_for_one_paramtree\u001b[39m(\n\u001b[1;32m    226\u001b[0m         conn: ConnectionPlus,\n\u001b[1;32m    227\u001b[0m         table_name: \u001b[38;5;28mstr\u001b[39m,\n\u001b[0;32m   (...)\u001b[0m\n\u001b[1;32m    231\u001b[0m         end: Optional[\u001b[38;5;28mint\u001b[39m]\n\u001b[1;32m    232\u001b[0m ) \u001b[38;5;241m-\u001b[39m\u001b[38;5;241m>\u001b[39m Dict[\u001b[38;5;28mstr\u001b[39m, np\u001b[38;5;241m.\u001b[39mndarray]:\n\u001b[1;32m    233\u001b[0m     \u001b[38;5;124;03m\"\"\"\u001b[39;00m\n\u001b[1;32m    234\u001b[0m \u001b[38;5;124;03m    Get the data for a parameter tree and reshape it according to the\u001b[39;00m\n\u001b[1;32m    235\u001b[0m \u001b[38;5;124;03m    metadata about the dataset. This will only reshape the loaded data if\u001b[39;00m\n\u001b[0;32m   (...)\u001b[0m\n\u001b[1;32m    239\u001b[0m \u001b[38;5;124;03m    than expected a warning will be given.\u001b[39;00m\n\u001b[1;32m    240\u001b[0m \u001b[38;5;124;03m    \"\"\"\u001b[39;00m\n\u001b[0;32m--> 242\u001b[0m     one_param_output, _ \u001b[38;5;241m=\u001b[39m \u001b[43mget_parameter_data_for_one_paramtree\u001b[49m\u001b[43m(\u001b[49m\n\u001b[1;32m    243\u001b[0m \u001b[43m        \u001b[49m\u001b[43mconn\u001b[49m\u001b[43m,\u001b[49m\n\u001b[1;32m    244\u001b[0m \u001b[43m        \u001b[49m\u001b[43mtable_name\u001b[49m\u001b[43m,\u001b[49m\n\u001b[1;32m    245\u001b[0m \u001b[43m        \u001b[49m\u001b[43mrundescriber\u001b[49m\u001b[43m,\u001b[49m\n\u001b[1;32m    246\u001b[0m \u001b[43m        \u001b[49m\u001b[43moutput_param\u001b[49m\u001b[43m,\u001b[49m\n\u001b[1;32m    247\u001b[0m \u001b[43m        \u001b[49m\u001b[43mstart\u001b[49m\u001b[43m,\u001b[49m\n\u001b[1;32m    248\u001b[0m \u001b[43m        \u001b[49m\u001b[43mend\u001b[49m\n\u001b[1;32m    249\u001b[0m \u001b[43m    \u001b[49m\u001b[43m)\u001b[49m\n\u001b[1;32m    250\u001b[0m     \u001b[38;5;28;01mif\u001b[39;00m rundescriber\u001b[38;5;241m.\u001b[39mshapes \u001b[38;5;129;01mis\u001b[39;00m \u001b[38;5;129;01mnot\u001b[39;00m \u001b[38;5;28;01mNone\u001b[39;00m:\n\u001b[1;32m    251\u001b[0m         shape \u001b[38;5;241m=\u001b[39m rundescriber\u001b[38;5;241m.\u001b[39mshapes\u001b[38;5;241m.\u001b[39mget(output_param)\n",
      "File \u001b[0;32m/usr/local/lib/python3.10/dist-packages/qcodes/dataset/sqlite/queries.py:296\u001b[0m, in \u001b[0;36mget_parameter_data_for_one_paramtree\u001b[0;34m(conn, table_name, rundescriber, output_param, start, end)\u001b[0m\n\u001b[1;32m    287\u001b[0m \u001b[38;5;28;01mdef\u001b[39;00m \u001b[38;5;21mget_parameter_data_for_one_paramtree\u001b[39m(\n\u001b[1;32m    288\u001b[0m         conn: ConnectionPlus,\n\u001b[1;32m    289\u001b[0m         table_name: \u001b[38;5;28mstr\u001b[39m,\n\u001b[0;32m   (...)\u001b[0m\n\u001b[1;32m    293\u001b[0m         end: Optional[\u001b[38;5;28mint\u001b[39m]\n\u001b[1;32m    294\u001b[0m ) \u001b[38;5;241m-\u001b[39m\u001b[38;5;241m>\u001b[39m Tuple[Dict[\u001b[38;5;28mstr\u001b[39m, np\u001b[38;5;241m.\u001b[39mndarray], \u001b[38;5;28mint\u001b[39m]:\n\u001b[1;32m    295\u001b[0m     interdeps \u001b[38;5;241m=\u001b[39m rundescriber\u001b[38;5;241m.\u001b[39minterdeps\n\u001b[0;32m--> 296\u001b[0m     data, paramspecs, n_rows \u001b[38;5;241m=\u001b[39m \u001b[43m_get_data_for_one_param_tree\u001b[49m\u001b[43m(\u001b[49m\n\u001b[1;32m    297\u001b[0m \u001b[43m        \u001b[49m\u001b[43mconn\u001b[49m\u001b[43m,\u001b[49m\u001b[43m \u001b[49m\u001b[43mtable_name\u001b[49m\u001b[43m,\u001b[49m\u001b[43m \u001b[49m\u001b[43minterdeps\u001b[49m\u001b[43m,\u001b[49m\u001b[43m \u001b[49m\u001b[43moutput_param\u001b[49m\u001b[43m,\u001b[49m\u001b[43m \u001b[49m\u001b[43mstart\u001b[49m\u001b[43m,\u001b[49m\u001b[43m \u001b[49m\u001b[43mend\u001b[49m\n\u001b[1;32m    298\u001b[0m \u001b[43m    \u001b[49m\u001b[43m)\u001b[49m\n\u001b[1;32m    299\u001b[0m     \u001b[38;5;28;01mif\u001b[39;00m \u001b[38;5;129;01mnot\u001b[39;00m paramspecs[\u001b[38;5;241m0\u001b[39m]\u001b[38;5;241m.\u001b[39mname \u001b[38;5;241m==\u001b[39m output_param:\n\u001b[1;32m    300\u001b[0m         \u001b[38;5;28;01mraise\u001b[39;00m \u001b[38;5;167;01mValueError\u001b[39;00m(\u001b[38;5;124m\"\u001b[39m\u001b[38;5;124moutput_param should always be the first \u001b[39m\u001b[38;5;124m\"\u001b[39m\n\u001b[1;32m    301\u001b[0m                          \u001b[38;5;124m\"\u001b[39m\u001b[38;5;124mparameter in a parameter tree. It is not\u001b[39m\u001b[38;5;124m\"\u001b[39m)\n",
      "File \u001b[0;32m/usr/local/lib/python3.10/dist-packages/qcodes/dataset/sqlite/queries.py:388\u001b[0m, in \u001b[0;36m_get_data_for_one_param_tree\u001b[0;34m(conn, table_name, interdeps, output_param, start, end)\u001b[0m\n\u001b[1;32m    384\u001b[0m \u001b[38;5;28;01mdef\u001b[39;00m \u001b[38;5;21m_get_data_for_one_param_tree\u001b[39m(conn: ConnectionPlus, table_name: \u001b[38;5;28mstr\u001b[39m,\n\u001b[1;32m    385\u001b[0m                                  interdeps: InterDependencies_, output_param: \u001b[38;5;28mstr\u001b[39m,\n\u001b[1;32m    386\u001b[0m                                  start: Optional[\u001b[38;5;28mint\u001b[39m], end: Optional[\u001b[38;5;28mint\u001b[39m]) \\\n\u001b[1;32m    387\u001b[0m         \u001b[38;5;241m-\u001b[39m\u001b[38;5;241m>\u001b[39m Tuple[List[List[Any]], List[ParamSpecBase], \u001b[38;5;28mint\u001b[39m]:\n\u001b[0;32m--> 388\u001b[0m     output_param_spec \u001b[38;5;241m=\u001b[39m \u001b[43minterdeps\u001b[49m\u001b[38;5;241;43m.\u001b[39;49m\u001b[43m_id_to_paramspec\u001b[49m\u001b[43m[\u001b[49m\u001b[43moutput_param\u001b[49m\u001b[43m]\u001b[49m\n\u001b[1;32m    389\u001b[0m     \u001b[38;5;66;03m# find all the dependencies of this param\u001b[39;00m\n\u001b[1;32m    391\u001b[0m     dependency_params \u001b[38;5;241m=\u001b[39m \u001b[38;5;28mlist\u001b[39m(interdeps\u001b[38;5;241m.\u001b[39mdependencies\u001b[38;5;241m.\u001b[39mget(output_param_spec, ()))\n",
      "\u001b[0;31mKeyError\u001b[0m: 'dac_ch1'"
     ]
    }
   ],
   "source": [
    "# Data for independent parameter\n",
    "dataset_1d.get_parameter_data('dac_ch1')"
   ]
  },
  {
   "cell_type": "code",
   "execution_count": null,
   "metadata": {},
   "outputs": [],
   "source": [
    "# Data for dependent parameter\n",
    "dataset_1d.get_parameter_data('dmm_v1')"
   ]
  },
  {
   "cell_type": "markdown",
   "metadata": {},
   "source": [
    "We refer reader to [exporting data section of the performing measurements using QCoDeS parameters and dataset](DataSet/Performing-measurements-using-qcodes-parameters-and-dataset.ipynb#Accessing-and-exporting-the-measured-data) and [Accessing data in DataSet notebook](DataSet/Accessing-data-in-DataSet.ipynb) for further information on `get_parameter_data` method."
   ]
  },
  {
   "cell_type": "markdown",
   "metadata": {},
   "source": [
    "### Export data to pandas dataframe\n",
    "\n",
    "Similarly, data stored within a QCoDeS database may be exported as pandas dataframes for analysis. This is accomplished by the `to_pandas_dataframe` method included in `DataSet`."
   ]
  },
  {
   "cell_type": "code",
   "execution_count": null,
   "metadata": {},
   "outputs": [],
   "source": [
    "df = dataset_1d.to_pandas_dataframe()\n",
    "df"
   ]
  },
  {
   "cell_type": "markdown",
   "metadata": {},
   "source": [
    "### Export data to xarray"
   ]
  },
  {
   "cell_type": "markdown",
   "metadata": {},
   "source": [
    "It's also possible to export data stored within a QCoDeS `dataset` to an `xarray.DataSet`. This can be achieved as so:"
   ]
  },
  {
   "cell_type": "code",
   "execution_count": null,
   "metadata": {},
   "outputs": [],
   "source": [
    "xr_dataset = dataset_1d.to_xarray_dataset()\n",
    "xr_dataset"
   ]
  },
  {
   "cell_type": "markdown",
   "metadata": {},
   "source": [
    "We refer to [example notebook on working with pandas](DataSet/Working-With-Pandas-and-XArray.ipynb) and [Accessing data in DataSet notebook](DataSet/Accessing-data-in-DataSet.ipynb) for further information."
   ]
  },
  {
   "cell_type": "markdown",
   "metadata": {},
   "source": [
    "### Explore the data using an interactive widget"
   ]
  },
  {
   "cell_type": "markdown",
   "metadata": {},
   "source": [
    "Going beyond text-based review, we have also included a graphical widget to allow the easy exploration of our databases, with an interface for viewing the station snapshot, adding notes, or producing plots of the selected day.  \n",
    "\n",
    "> This widget uses [ipywidgets](https://ipywidgets.readthedocs.io/) to display an interactive elements and is only available when run in a Jupyter notebook. However, we do provide a quick, non-interactive demonstration video below as well.\n",
    "\n",
    "Here we will load our example database that we initialized earlier."
   ]
  },
  {
   "cell_type": "code",
   "execution_count": null,
   "metadata": {},
   "outputs": [],
   "source": [
    "experiments_widget(sort_by=\"timestamp\")"
   ]
  },
  {
   "cell_type": "markdown",
   "metadata": {},
   "source": [
    "Here's a short video that summarizes the looks and the features:\n",
    "\n",
    "![video demo about experiments widget should show here](../_static/experiments_widget.webp)"
   ]
  },
  {
   "cell_type": "markdown",
   "metadata": {},
   "source": [
    "## Further Reading"
   ]
  },
  {
   "cell_type": "markdown",
   "metadata": {},
   "source": [
    "### QCoDeS configuration  \n",
    "\n",
    "QCoDeS uses a JSON based configuration system. It is shipped with a default configuration. The default config file should not be overwritten. If you have any modifications, you should save the updated config file on your home directory or in the current working directory of your script/notebook. The QCoDeS config system first looks in the current directory for a config file and then in the home directory for one and only then - if no config files are found - it falls back to using the default one. The default config is located in `qcodes.config`. To know how to change and save the config please refer to the [documentation on config](Configuring_QCoDeS.ipynb)."
   ]
  },
  {
   "cell_type": "markdown",
   "metadata": {},
   "source": [
    "### QCoDeS instrument drivers\n",
    "We support and provide drivers for most of the instruments currently in use at the Microsoft stations. However, if more functionalities than the ones which are currently supported by drivers are required, one may update the driver or request the features form QCoDeS team. You are more than welcome to contribute and if you would like to have a quick overview on how to write instrument drivers, please refer to the [this notebook](writing_drivers/Instruments.ipynb) as well as the other [example notebooks on writing drivers](index.rst#writing-drivers)."
   ]
  },
  {
   "cell_type": "markdown",
   "metadata": {},
   "source": [
    "### QCoDeS logging\n",
    "\n",
    "In every measurement session, it is highly recommended to have QCoDeS logging turned on. This will allow you to have all the logs in case troubleshooting is required. This feature is detailed further in an [example notebook](logging/logging_example.ipynb) that describes all the logging features."
   ]
  },
  {
   "cell_type": "code",
   "execution_count": null,
   "metadata": {},
   "outputs": [],
   "source": []
  }
 ],
 "metadata": {
  "kernelspec": {
   "display_name": "Python 3 (ipykernel)",
   "language": "python",
   "name": "python3"
  },
  "language_info": {
   "codemirror_mode": {
    "name": "ipython",
    "version": 3
   },
   "file_extension": ".py",
   "mimetype": "text/x-python",
   "name": "python",
   "nbconvert_exporter": "python",
   "pygments_lexer": "ipython3",
   "version": "3.10.4"
  },
  "toc": {
   "base_numbering": 1,
   "nav_menu": {},
   "number_sections": true,
   "sideBar": true,
   "skip_h1_title": false,
   "title_cell": "Table of Contents",
   "title_sidebar": "Contents",
   "toc_cell": false,
   "toc_position": {
    "height": "calc(100% - 180px)",
    "left": "10px",
    "top": "150px",
    "width": "303px"
   },
   "toc_section_display": true,
   "toc_window_display": true
  },
  "varInspector": {
   "cols": {
    "lenName": 16,
    "lenType": 16,
    "lenVar": 40
   },
   "kernels_config": {
    "python": {
     "delete_cmd_postfix": "",
     "delete_cmd_prefix": "del ",
     "library": "var_list.py",
     "varRefreshCmd": "print(var_dic_list())"
    },
    "r": {
     "delete_cmd_postfix": ") ",
     "delete_cmd_prefix": "rm(",
     "library": "var_list.r",
     "varRefreshCmd": "cat(var_dic_list()) "
    }
   },
   "types_to_exclude": [
    "module",
    "function",
    "builtin_function_or_method",
    "instance",
    "_Feature"
   ],
   "window_display": false
  },
  "widgets": {
   "application/vnd.jupyter.widget-state+json": {
    "state": {
     "008ddf0133984bfb8888c46f5d695058": {
      "model_module": "@jupyter-widgets/controls",
      "model_module_version": "1.5.0",
      "model_name": "ButtonStyleModel",
      "state": {}
     },
     "00e8ffb3845244a69b263719aa57e420": {
      "model_module": "@jupyter-widgets/base",
      "model_module_version": "1.2.0",
      "model_name": "LayoutModel",
      "state": {
       "grid_area": "widget046",
       "height": "auto",
       "width": "auto"
      }
     },
     "01c5308aba7a4834a06ba7d593d50d96": {
      "model_module": "@jupyter-widgets/controls",
      "model_module_version": "1.5.0",
      "model_name": "ButtonModel",
      "state": {
       "button_style": "success",
       "icon": "edit",
       "layout": "IPY_MODEL_6f13da93851f435fbf89903b1ed02702",
       "style": "IPY_MODEL_60158740f5f0440095a2278b8d81ec3f"
      }
     },
     "02688342bee349bc9a502c61bb6e54ee": {
      "model_module": "@jupyter-widgets/controls",
      "model_module_version": "1.5.0",
      "model_name": "ButtonStyleModel",
      "state": {}
     },
     "027edb7bd197485586016be56b28afb4": {
      "model_module": "@jupyter-widgets/base",
      "model_module_version": "1.2.0",
      "model_name": "LayoutModel",
      "state": {
       "grid_area": "widget010",
       "height": "auto",
       "width": "auto"
      }
     },
     "0330ce9fffd7464caffa02c5d562098c": {
      "model_module": "@jupyter-widgets/base",
      "model_module_version": "1.2.0",
      "model_name": "LayoutModel",
      "state": {}
     },
     "05e2e78c0d2c4af59f6aeb5ab39ca3fc": {
      "model_module": "@jupyter-widgets/base",
      "model_module_version": "1.2.0",
      "model_name": "LayoutModel",
      "state": {
       "grid_area": "widget020",
       "height": "auto",
       "width": "auto"
      }
     },
     "05fbe214ed884567b0212aeb6ad38a0a": {
      "model_module": "@jupyter-widgets/controls",
      "model_module_version": "1.5.0",
      "model_name": "HTMLModel",
      "state": {
       "layout": "IPY_MODEL_370bc6b7b21b478a85f61f18a6c6a034",
       "style": "IPY_MODEL_d83c36d75ef543f4bb1ccb50d195f49a",
       "value": "<h1>QCoDeS experiments widget</h1>"
      }
     },
     "0758a9c24fc3440c8e968c62f31a7aee": {
      "model_module": "@jupyter-widgets/controls",
      "model_module_version": "1.5.0",
      "model_name": "ButtonModel",
      "state": {
       "button_style": "warning",
       "icon": "camera",
       "layout": "IPY_MODEL_3289abae8cbe4c34a56c50c280401346",
       "style": "IPY_MODEL_af39bcabe6244aafacaa554d7ab085ad",
       "tooltip": "Click to open this DataSet's snapshot in a tab above."
      }
     },
     "087a4a428a0f461c87b6cf60b76af561": {
      "model_module": "@jupyter-widgets/controls",
      "model_module_version": "1.5.0",
      "model_name": "ButtonStyleModel",
      "state": {}
     },
     "0998dc2dfb684c82a0633ff940213a61": {
      "model_module": "@jupyter-widgets/base",
      "model_module_version": "1.2.0",
      "model_name": "LayoutModel",
      "state": {
       "height": "auto",
       "width": "auto"
      }
     },
     "0ec061fdd0984e39b910f7ea0c48de13": {
      "model_module": "@jupyter-widgets/controls",
      "model_module_version": "1.5.0",
      "model_name": "ButtonStyleModel",
      "state": {}
     },
     "0f2fddf476f745418a9df990f3f9a17a": {
      "model_module": "@jupyter-widgets/controls",
      "model_module_version": "1.5.0",
      "model_name": "VBoxModel",
      "state": {
       "children": [
        "IPY_MODEL_0f426dbd46ed4ff686df6a573db07695"
       ],
       "layout": "IPY_MODEL_a9a391a937474c00ba4514a693a42635"
      }
     },
     "0f426dbd46ed4ff686df6a573db07695": {
      "model_module": "@jupyter-widgets/controls",
      "model_module_version": "1.5.0",
      "model_name": "ButtonModel",
      "state": {
       "button_style": "success",
       "icon": "edit",
       "layout": "IPY_MODEL_3039df826f914e1ea3cb775b4011b637",
       "style": "IPY_MODEL_b37660c9d149494aa9371319fc292fd3"
      }
     },
     "11a1a2ed661448f08f2109ad060497d1": {
      "model_module": "@jupyter-widgets/controls",
      "model_module_version": "1.5.0",
      "model_name": "ButtonModel",
      "state": {
       "button_style": "warning",
       "icon": "camera",
       "layout": "IPY_MODEL_4c2c1ae6ea114479bed03156c71c888e",
       "style": "IPY_MODEL_4feabc18c39e4c23882501b1cc8afdfb",
       "tooltip": "Click to open this DataSet's snapshot in a tab above."
      }
     },
     "11f36f64bd59439387d7fa3db19f9d8a": {
      "model_module": "@jupyter-widgets/controls",
      "model_module_version": "1.5.0",
      "model_name": "ButtonStyleModel",
      "state": {}
     },
     "128c6dfe8a9b4632bac7b876e8733f5c": {
      "model_module": "@jupyter-widgets/controls",
      "model_module_version": "1.5.0",
      "model_name": "VBoxModel",
      "state": {
       "children": [
        "IPY_MODEL_a4b814ec91c04f688f4230e39b97551e"
       ],
       "layout": "IPY_MODEL_836e42125ddc48cc99d9ffd5ddf46fde"
      }
     },
     "12eaf3cff0824f5c994119746663e6c5": {
      "model_module": "@jupyter-widgets/base",
      "model_module_version": "1.2.0",
      "model_name": "LayoutModel",
      "state": {
       "grid_area": "widget030",
       "height": "auto",
       "width": "auto"
      }
     },
     "147a4371064548de81777aadd9c1f6a7": {
      "model_module": "@jupyter-widgets/controls",
      "model_module_version": "1.5.0",
      "model_name": "ButtonStyleModel",
      "state": {}
     },
     "14d6182280524c0f8a601a1bd1401858": {
      "model_module": "@jupyter-widgets/base",
      "model_module_version": "1.2.0",
      "model_name": "LayoutModel",
      "state": {
       "height": "auto",
       "width": "auto"
      }
     },
     "15bc1b86c6fd40cc8a31c0d5208d2bac": {
      "model_module": "@jupyter-widgets/base",
      "model_module_version": "1.2.0",
      "model_name": "LayoutModel",
      "state": {
       "grid_area": "widget032",
       "height": "auto",
       "width": "auto"
      }
     },
     "17287d588695469280f7a39b7703e46b": {
      "model_module": "@jupyter-widgets/controls",
      "model_module_version": "1.5.0",
      "model_name": "VBoxModel",
      "state": {
       "children": [
        "IPY_MODEL_a9f1e7056ce64610b0eb3c4e9971656d"
       ],
       "layout": "IPY_MODEL_79e9d94197fa4493bffb5d98f85f95ac"
      }
     },
     "17d57a0564024383bbd6aedbe1940f9c": {
      "model_module": "@jupyter-widgets/base",
      "model_module_version": "1.2.0",
      "model_name": "LayoutModel",
      "state": {
       "height": "auto",
       "width": "auto"
      }
     },
     "17e4fbccde4b460891c6c007b5c488a7": {
      "model_module": "@jupyter-widgets/controls",
      "model_module_version": "1.5.0",
      "model_name": "LabelModel",
      "state": {
       "layout": "IPY_MODEL_76a18359864348e0800558a63cdfb878",
       "style": "IPY_MODEL_bc2b8395fdbd4f889065a725730a32be"
      }
     },
     "1c3baf314eba4800b40f84db936d58d4": {
      "model_module": "@jupyter-widgets/controls",
      "model_module_version": "1.5.0",
      "model_name": "DescriptionStyleModel",
      "state": {
       "description_width": ""
      }
     },
     "2087c7b2d7674693bc40e3d4da5ff819": {
      "model_module": "@jupyter-widgets/base",
      "model_module_version": "1.2.0",
      "model_name": "LayoutModel",
      "state": {
       "grid_area": "widget014",
       "height": "auto",
       "width": "auto"
      }
     },
     "20afd2c3b678489cb964ae40472c737c": {
      "model_module": "@jupyter-widgets/controls",
      "model_module_version": "1.5.0",
      "model_name": "VBoxModel",
      "state": {
       "children": [
        "IPY_MODEL_a682f0c022634160adc91e0ed91c956a"
       ],
       "layout": "IPY_MODEL_3478ba9ca5124a82bf82ab72e93baa65"
      }
     },
     "20d63f170ff546b5a018a4e29a3ec5f6": {
      "model_module": "@jupyter-widgets/controls",
      "model_module_version": "1.5.0",
      "model_name": "ButtonStyleModel",
      "state": {}
     },
     "216867e27c504bd7a4da7dbc01446e67": {
      "model_module": "@jupyter-widgets/base",
      "model_module_version": "1.2.0",
      "model_name": "LayoutModel",
      "state": {
       "grid_area": "widget004",
       "height": "auto",
       "width": "auto"
      }
     },
     "2432aad361bd4f379eec5092b2132e42": {
      "model_module": "@jupyter-widgets/controls",
      "model_module_version": "1.5.0",
      "model_name": "ButtonStyleModel",
      "state": {}
     },
     "25395f04f24e4bbc828c09052c8c29b0": {
      "model_module": "@jupyter-widgets/controls",
      "model_module_version": "1.5.0",
      "model_name": "ButtonStyleModel",
      "state": {}
     },
     "25b2ffc8c9494339969339d9d4e8b43a": {
      "model_module": "@jupyter-widgets/controls",
      "model_module_version": "1.5.0",
      "model_name": "HBoxModel",
      "state": {
       "children": [
        "IPY_MODEL_b63216b564384249886f456c0c5ecd19",
        "IPY_MODEL_cf7733e6a54849ea96225d63f3c8054d",
        "IPY_MODEL_2ed4c3dca6164f1ba10671765a24523f"
       ],
       "layout": "IPY_MODEL_e361a4ef4c854ee0b1ec0a37d01e7164"
      }
     },
     "27d69751bb064d5ebd2531f627b3946b": {
      "model_module": "@jupyter-widgets/controls",
      "model_module_version": "1.5.0",
      "model_name": "ButtonModel",
      "state": {
       "button_style": "success",
       "description": "6",
       "layout": "IPY_MODEL_ad3070cca3b14fb79f6aac004563f550",
       "style": "IPY_MODEL_93a16beb2eec495f9f2943bdeec97363",
       "tooltip": "6"
      }
     },
     "29c80aa1ee57452886fc32dd1b400413": {
      "model_module": "@jupyter-widgets/controls",
      "model_module_version": "1.5.0",
      "model_name": "VBoxModel",
      "state": {
       "children": [
        "IPY_MODEL_4942910b4da94d808aaec177bd3b7b24"
       ],
       "layout": "IPY_MODEL_4c4bdf687f8248b6b185b4eba85f18ad"
      }
     },
     "2afb6a62ad5e40a2a7715b5595c06625": {
      "model_module": "@jupyter-widgets/controls",
      "model_module_version": "1.5.0",
      "model_name": "ButtonStyleModel",
      "state": {}
     },
     "2b104c0aa79b44f7841cb76cb108f5ee": {
      "model_module": "@jupyter-widgets/controls",
      "model_module_version": "1.5.0",
      "model_name": "ButtonStyleModel",
      "state": {}
     },
     "2dd62d894bef4b368b947b67c37c4342": {
      "model_module": "@jupyter-widgets/base",
      "model_module_version": "1.2.0",
      "model_name": "LayoutModel",
      "state": {
       "grid_area": "widget019",
       "height": "max-content",
       "width": "auto"
      }
     },
     "2df53c8863e943caa7f8d5da6022233b": {
      "model_module": "@jupyter-widgets/controls",
      "model_module_version": "1.5.0",
      "model_name": "ButtonStyleModel",
      "state": {}
     },
     "2ed4c3dca6164f1ba10671765a24523f": {
      "model_module": "@jupyter-widgets/controls",
      "model_module_version": "1.5.0",
      "model_name": "HTMLModel",
      "state": {
       "layout": "IPY_MODEL_0330ce9fffd7464caffa02c5d562098c",
       "style": "IPY_MODEL_de7788c7155c467ea88a16c58917e9c9",
       "value": " 400/400 [00:06&lt;00:00, 57.81it/s]"
      }
     },
     "2f18d8ea405147498982202832c3c736": {
      "model_module": "@jupyter-widgets/controls",
      "model_module_version": "1.5.0",
      "model_name": "VBoxModel",
      "state": {
       "children": [
        "IPY_MODEL_aaf1bb2548144c0bb8266a610fbb7eae"
       ],
       "layout": "IPY_MODEL_05e2e78c0d2c4af59f6aeb5ab39ca3fc"
      }
     },
     "3039df826f914e1ea3cb775b4011b637": {
      "model_module": "@jupyter-widgets/base",
      "model_module_version": "1.2.0",
      "model_name": "LayoutModel",
      "state": {
       "height": "auto",
       "width": "auto"
      }
     },
     "31598707a34b4ecdbfdb1e8f63afcc97": {
      "model_module": "@jupyter-widgets/controls",
      "model_module_version": "1.5.0",
      "model_name": "ButtonModel",
      "state": {
       "button_style": "success",
       "description": "tutorial_exp, synthetic data",
       "layout": "IPY_MODEL_3984994568164be59e3f3518e71fb431",
       "style": "IPY_MODEL_9c96711ff8a34f9796b4082c180d2cd8",
       "tooltip": "tutorial_exp, synthetic data"
      }
     },
     "31beebacd87f46d39a42fb1e57a4f219": {
      "model_module": "@jupyter-widgets/controls",
      "model_module_version": "1.5.0",
      "model_name": "ButtonModel",
      "state": {
       "button_style": "success",
       "icon": "edit",
       "layout": "IPY_MODEL_c85ac998e29f46adbaeaf443ba9edfa2",
       "style": "IPY_MODEL_950d86b90c194f9fae88c9174db8c587"
      }
     },
     "3289abae8cbe4c34a56c50c280401346": {
      "model_module": "@jupyter-widgets/base",
      "model_module_version": "1.2.0",
      "model_name": "LayoutModel",
      "state": {
       "grid_area": "widget055",
       "height": "auto",
       "width": "auto"
      }
     },
     "328de8905bd04a6289167ea78a0a90f5": {
      "model_module": "@jupyter-widgets/controls",
      "model_module_version": "1.5.0",
      "model_name": "ButtonModel",
      "state": {
       "button_style": "success",
       "description": "3",
       "layout": "IPY_MODEL_14d6182280524c0f8a601a1bd1401858",
       "style": "IPY_MODEL_bcce46bc1b8b48bc904f0af11f7b60dd",
       "tooltip": "3"
      }
     },
     "3478ba9ca5124a82bf82ab72e93baa65": {
      "model_module": "@jupyter-widgets/base",
      "model_module_version": "1.2.0",
      "model_name": "LayoutModel",
      "state": {
       "grid_area": "widget041",
       "height": "auto",
       "width": "auto"
      }
     },
     "352b62e8ec4049e086334d5677498858": {
      "model_module": "@jupyter-widgets/base",
      "model_module_version": "1.2.0",
      "model_name": "LayoutModel",
      "state": {
       "grid_area": "widget040",
       "height": "auto",
       "width": "auto"
      }
     },
     "364e9d753eaa4dfeb8ec9881da4c1c8d": {
      "model_module": "@jupyter-widgets/controls",
      "model_module_version": "1.5.0",
      "model_name": "ButtonModel",
      "state": {
       "button_style": "warning",
       "icon": "camera",
       "layout": "IPY_MODEL_7f4c13c5522b448c89be9d4a950b8107",
       "style": "IPY_MODEL_768d649ddd3b4b55bb09211c74d3e422",
       "tooltip": "Click to open this DataSet's snapshot in a tab above."
      }
     },
     "370bc6b7b21b478a85f61f18a6c6a034": {
      "model_module": "@jupyter-widgets/base",
      "model_module_version": "1.2.0",
      "model_name": "LayoutModel",
      "state": {}
     },
     "37a44d09d04a4575b1406d0580acdcaf": {
      "model_module": "@jupyter-widgets/controls",
      "model_module_version": "1.5.0",
      "model_name": "ButtonModel",
      "state": {
       "button_style": "info",
       "description": "MSMT Time",
       "layout": "IPY_MODEL_b7a8758809594a4e9460394e891923e4",
       "style": "IPY_MODEL_2df53c8863e943caa7f8d5da6022233b",
       "tooltip": "MSMT Time"
      }
     },
     "39831ad08d2a4c3e94af53d0e0c6888c": {
      "model_module": "@jupyter-widgets/controls",
      "model_module_version": "1.5.0",
      "model_name": "LabelModel",
      "state": {
       "layout": "IPY_MODEL_6ad129a08aa54e408fffcf1a9abddfdf",
       "style": "IPY_MODEL_a3e80aceaf6348a8b263e204c59fda50",
       "value": "dond_example"
      }
     },
     "3984994568164be59e3f3518e71fb431": {
      "model_module": "@jupyter-widgets/base",
      "model_module_version": "1.2.0",
      "model_name": "LayoutModel",
      "state": {
       "height": "auto",
       "width": "auto"
      }
     },
     "3a7f26d3693d4ca9ae4b56d57c86d878": {
      "model_module": "@jupyter-widgets/controls",
      "model_module_version": "1.5.0",
      "model_name": "ButtonStyleModel",
      "state": {}
     },
     "3cc263f6c9ee40f6b9062d631492b9b7": {
      "model_module": "@jupyter-widgets/controls",
      "model_module_version": "1.5.0",
      "model_name": "VBoxModel",
      "state": {
       "children": [
        "IPY_MODEL_ed09e15f352b40b79fdfc02f281dbd69"
       ],
       "layout": "IPY_MODEL_7918e60c97a044fab57c4ad53cda47a2"
      }
     },
     "3d4b3aa3a28b4308a43c7acf685a4964": {
      "model_module": "@jupyter-widgets/controls",
      "model_module_version": "1.5.0",
      "model_name": "ButtonModel",
      "state": {
       "button_style": "warning",
       "icon": "line-chart",
       "layout": "IPY_MODEL_b3d7726d6dba4ee3aebe9a4e710db51d",
       "style": "IPY_MODEL_a1ab6035508244e0bed7ac261c82e52c",
       "tooltip": "Click to open this DataSet's plot in a tab above."
      }
     },
     "3dafea22bc1246b89cfd2b796d6225fa": {
      "model_module": "@jupyter-widgets/base",
      "model_module_version": "1.2.0",
      "model_name": "LayoutModel",
      "state": {
       "grid_area": "widget029",
       "height": "auto",
       "width": "auto"
      }
     },
     "3db7546506d54ab8b0c36f3217d914c4": {
      "model_module": "@jupyter-widgets/controls",
      "model_module_version": "1.5.0",
      "model_name": "ButtonStyleModel",
      "state": {}
     },
     "3e24e41d532d4ed5a8140e59fa5529e6": {
      "model_module": "@jupyter-widgets/controls",
      "model_module_version": "1.5.0",
      "model_name": "VBoxModel",
      "state": {
       "children": [
        "IPY_MODEL_d483c40cff4f4ab5b3e4187962bd084a"
       ],
       "layout": "IPY_MODEL_b8a994c9f2dd42cfb53b050e7e8ef18a"
      }
     },
     "3ecee6abbf7a47d3938943810b927503": {
      "model_module": "@jupyter-widgets/base",
      "model_module_version": "1.2.0",
      "model_name": "LayoutModel",
      "state": {
       "grid_area": "widget021",
       "height": "auto",
       "width": "auto"
      }
     },
     "3ff70e610ed14a0a862adf4b2e45c3b8": {
      "model_module": "@jupyter-widgets/controls",
      "model_module_version": "1.5.0",
      "model_name": "ProgressStyleModel",
      "state": {
       "description_width": ""
      }
     },
     "41aa75a2062d48a59a1e68d04e0b68fc": {
      "model_module": "@jupyter-widgets/controls",
      "model_module_version": "1.5.0",
      "model_name": "ButtonModel",
      "state": {
       "button_style": "success",
       "description": "2022-02-28 11:57:34",
       "layout": "IPY_MODEL_6fad272d9bda43159aea01dd2edcbb74",
       "style": "IPY_MODEL_b615332aa8fb43f39d2367f4aee425b2",
       "tooltip": "2022-02-28 11:57:34"
      }
     },
     "433081ea78ac4c9a9bc383de1de7fa81": {
      "model_module": "@jupyter-widgets/controls",
      "model_module_version": "1.5.0",
      "model_name": "ButtonStyleModel",
      "state": {}
     },
     "4675b457d4f64f64b74fbd5fe7c5a96b": {
      "model_module": "@jupyter-widgets/base",
      "model_module_version": "1.2.0",
      "model_name": "LayoutModel",
      "state": {
       "grid_area": "widget027",
       "height": "max-content",
       "width": "auto"
      }
     },
     "481220ee79594e3ca1a159a30e8a9d22": {
      "model_module": "@jupyter-widgets/controls",
      "model_module_version": "1.5.0",
      "model_name": "ButtonStyleModel",
      "state": {}
     },
     "4942910b4da94d808aaec177bd3b7b24": {
      "model_module": "@jupyter-widgets/controls",
      "model_module_version": "1.5.0",
      "model_name": "ButtonModel",
      "state": {
       "button_style": "success",
       "icon": "edit",
       "layout": "IPY_MODEL_0998dc2dfb684c82a0633ff940213a61",
       "style": "IPY_MODEL_25395f04f24e4bbc828c09052c8c29b0"
      }
     },
     "4b266435b6db498e839a0ec12bd4ac82": {
      "model_module": "@jupyter-widgets/controls",
      "model_module_version": "1.5.0",
      "model_name": "ButtonModel",
      "state": {
       "button_style": "warning",
       "icon": "camera",
       "layout": "IPY_MODEL_eb389048b3c34b08bc4e0f23a11fe16c",
       "style": "IPY_MODEL_3db7546506d54ab8b0c36f3217d914c4",
       "tooltip": "Click to open this DataSet's snapshot in a tab above."
      }
     },
     "4bf3ee61043f45348c91c7a650bcc93b": {
      "model_module": "@jupyter-widgets/base",
      "model_module_version": "1.2.0",
      "model_name": "LayoutModel",
      "state": {
       "grid_area": "widget035",
       "height": "max-content",
       "width": "auto"
      }
     },
     "4c1c6c2e1292438cb04f14e599414cfa": {
      "model_module": "@jupyter-widgets/controls",
      "model_module_version": "1.5.0",
      "model_name": "ButtonModel",
      "state": {
       "button_style": "info",
       "description": "Parameters",
       "layout": "IPY_MODEL_216867e27c504bd7a4da7dbc01446e67",
       "style": "IPY_MODEL_cb94d7f63f924bc7b36f93bd1403f579",
       "tooltip": "Parameters"
      }
     },
     "4c2c1ae6ea114479bed03156c71c888e": {
      "model_module": "@jupyter-widgets/base",
      "model_module_version": "1.2.0",
      "model_name": "LayoutModel",
      "state": {
       "grid_area": "widget023",
       "height": "auto",
       "width": "auto"
      }
     },
     "4c4bdf687f8248b6b185b4eba85f18ad": {
      "model_module": "@jupyter-widgets/base",
      "model_module_version": "1.2.0",
      "model_name": "LayoutModel",
      "state": {
       "grid_area": "widget054",
       "height": "auto",
       "width": "auto"
      }
     },
     "4c9f8e7a3d2b431b80051c830bc71bb1": {
      "model_module": "@jupyter-widgets/controls",
      "model_module_version": "1.5.0",
      "model_name": "ButtonModel",
      "state": {
       "button_style": "warning",
       "icon": "camera",
       "layout": "IPY_MODEL_b828d008f3854a479c70a31c27e43bf2",
       "style": "IPY_MODEL_a598e9bbbf8c48afba9d3cf03bbcbd48",
       "tooltip": "Click to open this DataSet's snapshot in a tab above."
      }
     },
     "4d55591a0ef14ee6a003e464c21c7f0d": {
      "model_module": "@jupyter-widgets/controls",
      "model_module_version": "1.5.0",
      "model_name": "ButtonStyleModel",
      "state": {}
     },
     "4f78af3dcb46462aa16655a24bf8b250": {
      "model_module": "@jupyter-widgets/base",
      "model_module_version": "1.2.0",
      "model_name": "LayoutModel",
      "state": {
       "height": "auto",
       "width": "auto"
      }
     },
     "4fe14145069c469e84a642a596b91845": {
      "model_module": "@jupyter-widgets/controls",
      "model_module_version": "1.5.0",
      "model_name": "LabelModel",
      "state": {
       "layout": "IPY_MODEL_4675b457d4f64f64b74fbd5fe7c5a96b",
       "style": "IPY_MODEL_e2cf8578ecce4cb39578018f0498b6f5",
       "value": "dond_example"
      }
     },
     "4feabc18c39e4c23882501b1cc8afdfb": {
      "model_module": "@jupyter-widgets/controls",
      "model_module_version": "1.5.0",
      "model_name": "ButtonStyleModel",
      "state": {}
     },
     "500f85484279432e80de8f4071fd92cb": {
      "model_module": "@jupyter-widgets/controls",
      "model_module_version": "1.5.0",
      "model_name": "VBoxModel",
      "state": {
       "children": [
        "IPY_MODEL_9883da4c05f94777b2eb7bc2293a9963"
       ],
       "layout": "IPY_MODEL_b14f6772770e48ff96afbf70963ef0c9"
      }
     },
     "50594a62720045d489ec923113165026": {
      "model_module": "@jupyter-widgets/controls",
      "model_module_version": "1.5.0",
      "model_name": "VBoxModel",
      "state": {
       "children": [
        "IPY_MODEL_6aa71e1ad22a49c9a2be50350a3c1012"
       ],
       "layout": "IPY_MODEL_d614d4ac5e97484db1e29f088d5ba152"
      }
     },
     "54008a8d811948699b21e8301550f815": {
      "model_module": "@jupyter-widgets/controls",
      "model_module_version": "1.5.0",
      "model_name": "DescriptionStyleModel",
      "state": {
       "description_width": ""
      }
     },
     "56b1b64ec7e745b3b2bb4e37d7643928": {
      "model_module": "@jupyter-widgets/base",
      "model_module_version": "1.2.0",
      "model_name": "LayoutModel",
      "state": {
       "grid_area": "widget051",
       "height": "max-content",
       "width": "auto"
      }
     },
     "5757ab66a05f4916a063887fe59a0651": {
      "model_module": "@jupyter-widgets/controls",
      "model_module_version": "1.5.0",
      "model_name": "ButtonModel",
      "state": {
       "button_style": "success",
       "description": "2022-02-28 11:57:48",
       "layout": "IPY_MODEL_9f3f130dc9ce4ffbb7c435868cb6dd16",
       "style": "IPY_MODEL_e99a0e3dcbe944b893935efc759bc860",
       "tooltip": "2022-02-28 11:57:48"
      }
     },
     "576daa673aab4968941ae09c8579b77a": {
      "model_module": "@jupyter-widgets/base",
      "model_module_version": "1.2.0",
      "model_name": "LayoutModel",
      "state": {
       "grid_area": "widget001",
       "height": "auto",
       "width": "auto"
      }
     },
     "5af9f35ecadb492fa6135c78efcf5643": {
      "model_module": "@jupyter-widgets/base",
      "model_module_version": "1.2.0",
      "model_name": "LayoutModel",
      "state": {
       "grid_area": "widget003",
       "height": "auto",
       "width": "auto"
      }
     },
     "5c848bf7d44a4aaa9a76da7b3846b54b": {
      "model_module": "@jupyter-widgets/base",
      "model_module_version": "1.2.0",
      "model_name": "LayoutModel",
      "state": {
       "grid_area": "widget006",
       "height": "auto",
       "width": "auto"
      }
     },
     "5eb33b3a7349456a893912bc050c5c98": {
      "model_module": "@jupyter-widgets/controls",
      "model_module_version": "1.5.0",
      "model_name": "LabelModel",
      "state": {
       "layout": "IPY_MODEL_4bf3ee61043f45348c91c7a650bcc93b",
       "style": "IPY_MODEL_dc41b8c20b924c69992aab2679c7281e",
       "value": "dond_example"
      }
     },
     "600eeff88ef94a20a9375ac6607b06aa": {
      "model_module": "@jupyter-widgets/controls",
      "model_module_version": "1.5.0",
      "model_name": "ButtonModel",
      "state": {
       "button_style": "success",
       "description": "2022-02-28 11:57:18",
       "layout": "IPY_MODEL_4f78af3dcb46462aa16655a24bf8b250",
       "style": "IPY_MODEL_bee6ade5f7934ae4b23262a0d1a1dc84",
       "tooltip": "2022-02-28 11:57:18"
      }
     },
     "60158740f5f0440095a2278b8d81ec3f": {
      "model_module": "@jupyter-widgets/controls",
      "model_module_version": "1.5.0",
      "model_name": "ButtonStyleModel",
      "state": {}
     },
     "6084fbc7289d401da56bac80499dffc2": {
      "model_module": "@jupyter-widgets/base",
      "model_module_version": "1.2.0",
      "model_name": "LayoutModel",
      "state": {
       "grid_area": "widget007",
       "height": "auto",
       "width": "auto"
      }
     },
     "6103c51820214fe2b5bd5374d27240c0": {
      "model_module": "@jupyter-widgets/controls",
      "model_module_version": "1.5.0",
      "model_name": "ButtonModel",
      "state": {
       "button_style": "info",
       "description": "Plot",
       "layout": "IPY_MODEL_a4973b84eb104dea9e09732e1531ce99",
       "style": "IPY_MODEL_d84dfa93d8b247389969068a5f5a4b78",
       "tooltip": "Plot"
      }
     },
     "6128db78834e4611a710751ff1843dd6": {
      "model_module": "@jupyter-widgets/controls",
      "model_module_version": "1.5.0",
      "model_name": "LabelModel",
      "state": {
       "layout": "IPY_MODEL_56b1b64ec7e745b3b2bb4e37d7643928",
       "style": "IPY_MODEL_7e292ab8c3be488a9aac132b74eaf946",
       "value": "context_example"
      }
     },
     "6268f62313a64bd98783343a7c1f3fdd": {
      "model_module": "@jupyter-widgets/controls",
      "model_module_version": "1.5.0",
      "model_name": "DescriptionStyleModel",
      "state": {
       "description_width": ""
      }
     },
     "63b8ece8d4224a73aa9e5f723cd5a479": {
      "model_module": "@jupyter-widgets/base",
      "model_module_version": "1.2.0",
      "model_name": "LayoutModel",
      "state": {
       "grid_area": "widget002",
       "height": "auto",
       "width": "auto"
      }
     },
     "64a3ee4e99754041b17f9b632e0e5dae": {
      "model_module": "@jupyter-widgets/controls",
      "model_module_version": "1.5.0",
      "model_name": "ButtonModel",
      "state": {
       "button_style": "warning",
       "icon": "line-chart",
       "layout": "IPY_MODEL_e1eed0df78eb4eeb86f34ed3bfbf8ffd",
       "style": "IPY_MODEL_2b104c0aa79b44f7841cb76cb108f5ee",
       "tooltip": "Click to open this DataSet's plot in a tab above."
      }
     },
     "65447e8bc1d74eeab6ebfe275a2fdc32": {
      "model_module": "@jupyter-widgets/controls",
      "model_module_version": "1.5.0",
      "model_name": "VBoxModel",
      "state": {
       "children": [
        "IPY_MODEL_b5bbe4a29c0c444e9d4ecd80c1668b70"
       ],
       "layout": "IPY_MODEL_8cee26896bdd490b93e2a2dd207d0776"
      }
     },
     "65e6bfef31824c1b85671ac123f090b5": {
      "model_module": "@jupyter-widgets/controls",
      "model_module_version": "1.5.0",
      "model_name": "ButtonStyleModel",
      "state": {}
     },
     "67d5af1564084e268809bf0ba16a61c6": {
      "model_module": "@jupyter-widgets/controls",
      "model_module_version": "1.5.0",
      "model_name": "VBoxModel",
      "state": {
       "children": [
        "IPY_MODEL_01c5308aba7a4834a06ba7d593d50d96"
       ],
       "layout": "IPY_MODEL_888e5650f5ba41408c0475552930a6e0"
      }
     },
     "681e09b457094933bde4c581d85c2719": {
      "model_module": "@jupyter-widgets/controls",
      "model_module_version": "1.5.0",
      "model_name": "ButtonModel",
      "state": {
       "button_style": "success",
       "description": "tutorial_exp, synthetic data",
       "layout": "IPY_MODEL_17d57a0564024383bbd6aedbe1940f9c",
       "style": "IPY_MODEL_9798fd1d5b784282a4067130d17106ab",
       "tooltip": "tutorial_exp, synthetic data"
      }
     },
     "6a53dc39b2aa4e7e957211cf5b35152d": {
      "model_module": "@jupyter-widgets/controls",
      "model_module_version": "1.5.0",
      "model_name": "ButtonStyleModel",
      "state": {}
     },
     "6aa71e1ad22a49c9a2be50350a3c1012": {
      "model_module": "@jupyter-widgets/controls",
      "model_module_version": "1.5.0",
      "model_name": "ButtonModel",
      "state": {
       "button_style": "success",
       "description": "1",
       "layout": "IPY_MODEL_e7af9982173649ad8a6797293d609c8d",
       "style": "IPY_MODEL_65e6bfef31824c1b85671ac123f090b5",
       "tooltip": "1"
      }
     },
     "6ad129a08aa54e408fffcf1a9abddfdf": {
      "model_module": "@jupyter-widgets/base",
      "model_module_version": "1.2.0",
      "model_name": "LayoutModel",
      "state": {
       "grid_area": "widget011",
       "height": "max-content",
       "width": "auto"
      }
     },
     "6b7d6b9e26c5435d85926636f980a776": {
      "model_module": "@jupyter-widgets/controls",
      "model_module_version": "1.5.0",
      "model_name": "ButtonModel",
      "state": {
       "button_style": "success",
       "description": "4",
       "layout": "IPY_MODEL_9981f390cc1140f6bf17a580b573eff4",
       "style": "IPY_MODEL_b37af9f4b6f041d1b34dce053d385c75",
       "tooltip": "4"
      }
     },
     "6d344637ec104ebb8a7aedb0fa28143f": {
      "model_module": "@jupyter-widgets/base",
      "model_module_version": "1.2.0",
      "model_name": "LayoutModel",
      "state": {
       "height": "auto",
       "width": "auto"
      }
     },
     "6e80b6ef8d1d45ba996c923654206427": {
      "model_module": "@jupyter-widgets/controls",
      "model_module_version": "1.5.0",
      "model_name": "ButtonStyleModel",
      "state": {}
     },
     "6ecb7c4aa402438e8c9e65d44d8c2921": {
      "model_module": "@jupyter-widgets/base",
      "model_module_version": "1.2.0",
      "model_name": "LayoutModel",
      "state": {
       "height": "auto",
       "width": "auto"
      }
     },
     "6f13da93851f435fbf89903b1ed02702": {
      "model_module": "@jupyter-widgets/base",
      "model_module_version": "1.2.0",
      "model_name": "LayoutModel",
      "state": {
       "height": "auto",
       "width": "auto"
      }
     },
     "6fad272d9bda43159aea01dd2edcbb74": {
      "model_module": "@jupyter-widgets/base",
      "model_module_version": "1.2.0",
      "model_name": "LayoutModel",
      "state": {
       "height": "auto",
       "width": "auto"
      }
     },
     "71565ef3c8a84f58a7d456767a839514": {
      "model_module": "@jupyter-widgets/controls",
      "model_module_version": "1.5.0",
      "model_name": "VBoxModel",
      "state": {
       "children": [
        "IPY_MODEL_41aa75a2062d48a59a1e68d04e0b68fc"
       ],
       "layout": "IPY_MODEL_d12d6cd5d1d54ce8a282a68cc8a5a9d8"
      }
     },
     "71f1f29cb08949b0b9f017e939047944": {
      "model_module": "@jupyter-widgets/base",
      "model_module_version": "1.2.0",
      "model_name": "LayoutModel",
      "state": {
       "height": "auto",
       "width": "auto"
      }
     },
     "720a389ba6924e4984fd697ccbd9667b": {
      "model_module": "@jupyter-widgets/base",
      "model_module_version": "1.2.0",
      "model_name": "LayoutModel",
      "state": {}
     },
     "731f2af140e540c18d8a56b71b291936": {
      "model_module": "@jupyter-widgets/base",
      "model_module_version": "1.2.0",
      "model_name": "LayoutModel",
      "state": {
       "height": "auto",
       "width": "auto"
      }
     },
     "7357e0d879594701a22ccce54abffa05": {
      "model_module": "@jupyter-widgets/base",
      "model_module_version": "1.2.0",
      "model_name": "LayoutModel",
      "state": {
       "grid_area": "widget053",
       "height": "auto",
       "width": "auto"
      }
     },
     "7382c646755a4e70ac7b9efe408b4ce3": {
      "model_module": "@jupyter-widgets/base",
      "model_module_version": "1.2.0",
      "model_name": "LayoutModel",
      "state": {
       "grid_area": "widget013",
       "height": "auto",
       "width": "auto"
      }
     },
     "768d649ddd3b4b55bb09211c74d3e422": {
      "model_module": "@jupyter-widgets/controls",
      "model_module_version": "1.5.0",
      "model_name": "ButtonStyleModel",
      "state": {}
     },
     "769165c9bf5c4cddb0d476d369300714": {
      "model_module": "@jupyter-widgets/controls",
      "model_module_version": "1.5.0",
      "model_name": "ButtonModel",
      "state": {
       "button_style": "warning",
       "icon": "camera",
       "layout": "IPY_MODEL_91bf4503f19a45d5b44fc80b38dc3499",
       "style": "IPY_MODEL_2432aad361bd4f379eec5092b2132e42",
       "tooltip": "Click to open this DataSet's snapshot in a tab above."
      }
     },
     "76a18359864348e0800558a63cdfb878": {
      "model_module": "@jupyter-widgets/base",
      "model_module_version": "1.2.0",
      "model_name": "LayoutModel",
      "state": {
       "height": "max-content",
       "width": "auto"
      }
     },
     "76d07c2430f04baca1f727fc1f760f6d": {
      "model_module": "@jupyter-widgets/controls",
      "model_module_version": "1.5.0",
      "model_name": "ButtonModel",
      "state": {
       "button_style": "info",
       "description": "Snapshot",
       "layout": "IPY_MODEL_6084fbc7289d401da56bac80499dffc2",
       "style": "IPY_MODEL_6e80b6ef8d1d45ba996c923654206427",
       "tooltip": "Snapshot"
      }
     },
     "78afa3e8e4554bd8aedbfb22a12005c7": {
      "model_module": "@jupyter-widgets/base",
      "model_module_version": "1.2.0",
      "model_name": "LayoutModel",
      "state": {
       "height": "auto",
       "width": "auto"
      }
     },
     "7918e60c97a044fab57c4ad53cda47a2": {
      "model_module": "@jupyter-widgets/base",
      "model_module_version": "1.2.0",
      "model_name": "LayoutModel",
      "state": {
       "grid_area": "widget028",
       "height": "auto",
       "width": "auto"
      }
     },
     "79e9d94197fa4493bffb5d98f85f95ac": {
      "model_module": "@jupyter-widgets/base",
      "model_module_version": "1.2.0",
      "model_name": "LayoutModel",
      "state": {
       "grid_area": "widget017",
       "height": "auto",
       "width": "auto"
      }
     },
     "7c5edfb2e3c94d6f8aef4698e9933a22": {
      "model_module": "@jupyter-widgets/base",
      "model_module_version": "1.2.0",
      "model_name": "LayoutModel",
      "state": {}
     },
     "7e292ab8c3be488a9aac132b74eaf946": {
      "model_module": "@jupyter-widgets/controls",
      "model_module_version": "1.5.0",
      "model_name": "DescriptionStyleModel",
      "state": {
       "description_width": ""
      }
     },
     "7e5f5164f5a140bd82a5b5f0a59fb861": {
      "model_module": "@jupyter-widgets/base",
      "model_module_version": "1.2.0",
      "model_name": "LayoutModel",
      "state": {
       "grid_area": "widget034",
       "height": "auto",
       "width": "auto"
      }
     },
     "7e5fce5ea8d5486d80199bb76a7c3fb6": {
      "model_module": "@jupyter-widgets/controls",
      "model_module_version": "1.5.0",
      "model_name": "ButtonStyleModel",
      "state": {}
     },
     "7f4c13c5522b448c89be9d4a950b8107": {
      "model_module": "@jupyter-widgets/base",
      "model_module_version": "1.2.0",
      "model_name": "LayoutModel",
      "state": {
       "grid_area": "widget047",
       "height": "auto",
       "width": "auto"
      }
     },
     "7fb184f5049f4ba5b37178ac0b7f94df": {
      "model_module": "@jupyter-widgets/base",
      "model_module_version": "1.2.0",
      "model_name": "LayoutModel",
      "state": {
       "height": "auto",
       "width": "auto"
      }
     },
     "8129f9ad5dd14e94a82e68a6c1393dfb": {
      "model_module": "@jupyter-widgets/base",
      "model_module_version": "1.2.0",
      "model_name": "LayoutModel",
      "state": {
       "grid_area": "widget025",
       "height": "auto",
       "width": "auto"
      }
     },
     "836e42125ddc48cc99d9ffd5ddf46fde": {
      "model_module": "@jupyter-widgets/base",
      "model_module_version": "1.2.0",
      "model_name": "LayoutModel",
      "state": {
       "grid_area": "widget036",
       "height": "auto",
       "width": "auto"
      }
     },
     "84ec39515cd9437b8057d26629056a06": {
      "model_module": "@jupyter-widgets/base",
      "model_module_version": "1.2.0",
      "model_name": "LayoutModel",
      "state": {
       "grid_area": "widget024",
       "height": "auto",
       "width": "auto"
      }
     },
     "858137f00e7e4b2ba96cd8616e65e6b3": {
      "model_module": "@jupyter-widgets/base",
      "model_module_version": "1.2.0",
      "model_name": "LayoutModel",
      "state": {
       "grid_template_areas": "\"widget001 widget002 widget003 widget004 widget005 widget006 widget007 widget008\"\n\"widget009 widget010 widget011 widget012 widget013 widget014 widget015 widget016\"\n\"widget017 widget018 widget019 widget020 widget021 widget022 widget023 widget024\"\n\"widget025 widget026 widget027 widget028 widget029 widget030 widget031 widget032\"\n\"widget033 widget034 widget035 widget036 widget037 widget038 widget039 widget040\"\n\"widget041 widget042 widget043 widget044 widget045 widget046 widget047 widget048\"\n\"widget049 widget050 widget051 widget052 widget053 widget054 widget055 widget056\"",
       "grid_template_columns": "auto auto auto auto auto auto auto auto ",
       "grid_template_rows": "auto auto auto auto auto auto auto "
      }
     },
     "888e5650f5ba41408c0475552930a6e0": {
      "model_module": "@jupyter-widgets/base",
      "model_module_version": "1.2.0",
      "model_name": "LayoutModel",
      "state": {
       "grid_area": "widget022",
       "height": "auto",
       "width": "auto"
      }
     },
     "88a3c74eada245d8b7ed05a6a78831ea": {
      "model_module": "@jupyter-widgets/controls",
      "model_module_version": "1.5.0",
      "model_name": "GridBoxModel",
      "state": {
       "children": [
        "IPY_MODEL_ae6e85c41c494f6bbd0286a039d06119",
        "IPY_MODEL_c7add74fd66347de8ccdce40c7bee9ca",
        "IPY_MODEL_c94967c21c4f46838ed3a89531ba0a3e",
        "IPY_MODEL_4c1c6c2e1292438cb04f14e599414cfa",
        "IPY_MODEL_37a44d09d04a4575b1406d0580acdcaf",
        "IPY_MODEL_bce8868b7d94494fa665b444770cf1c5",
        "IPY_MODEL_76d07c2430f04baca1f727fc1f760f6d",
        "IPY_MODEL_6103c51820214fe2b5bd5374d27240c0",
        "IPY_MODEL_c4ca49a25e6d44879d705e24e9df03a9",
        "IPY_MODEL_e67d35fed95848e4a0b80fd98087a131",
        "IPY_MODEL_39831ad08d2a4c3e94af53d0e0c6888c",
        "IPY_MODEL_3e24e41d532d4ed5a8140e59fa5529e6",
        "IPY_MODEL_ffc8993272bf46e8be30f12153456757",
        "IPY_MODEL_996917dfe6184aea9ef602b762a47bcf",
        "IPY_MODEL_769165c9bf5c4cddb0d476d369300714",
        "IPY_MODEL_64a3ee4e99754041b17f9b632e0e5dae",
        "IPY_MODEL_17287d588695469280f7a39b7703e46b",
        "IPY_MODEL_c46238bd7f3b4b9c8884da9a418f9ccd",
        "IPY_MODEL_aac6d11c846c4b01bf89ea58cf34fd27",
        "IPY_MODEL_2f18d8ea405147498982202832c3c736",
        "IPY_MODEL_c97eb54facfe4b339ab99f54dbfbb796",
        "IPY_MODEL_67d5af1564084e268809bf0ba16a61c6",
        "IPY_MODEL_11a1a2ed661448f08f2109ad060497d1",
        "IPY_MODEL_e2485b5ac3614c1197eb3135562fa83e",
        "IPY_MODEL_ee4acd3ed9a24667bac0c5acc85e722b",
        "IPY_MODEL_b49bffa0c4a34ca2a2dde3b9be38d95c",
        "IPY_MODEL_4fe14145069c469e84a642a596b91845",
        "IPY_MODEL_3cc263f6c9ee40f6b9062d631492b9b7",
        "IPY_MODEL_cd2ef4071aae4d17a1b9702d2c23d312",
        "IPY_MODEL_f6b8a96d1e1149b2883669b4a95f8387",
        "IPY_MODEL_4b266435b6db498e839a0ec12bd4ac82",
        "IPY_MODEL_eab9b815257f48bab9cfb2fe8ab93b64",
        "IPY_MODEL_a44f4f88c4a04c3facf2f15e27abfba4",
        "IPY_MODEL_f4e1e0c09f214497b9d2bfc115b83e89",
        "IPY_MODEL_5eb33b3a7349456a893912bc050c5c98",
        "IPY_MODEL_128c6dfe8a9b4632bac7b876e8733f5c",
        "IPY_MODEL_71565ef3c8a84f58a7d456767a839514",
        "IPY_MODEL_0f2fddf476f745418a9df990f3f9a17a",
        "IPY_MODEL_4c9f8e7a3d2b431b80051c830bc71bb1",
        "IPY_MODEL_f2b41bc3a74f460dad79fa06305b5e4f",
        "IPY_MODEL_20afd2c3b678489cb964ae40472c737c",
        "IPY_MODEL_65447e8bc1d74eeab6ebfe275a2fdc32",
        "IPY_MODEL_8af7b96fbf8c42228d8426770abc2613",
        "IPY_MODEL_c45c167917f7489a844e3573493b7211",
        "IPY_MODEL_acac18f21e0b4da794c3980ed47fb4c7",
        "IPY_MODEL_bada311a0fcb4406881476130de7c38d",
        "IPY_MODEL_364e9d753eaa4dfeb8ec9881da4c1c8d",
        "IPY_MODEL_3d4b3aa3a28b4308a43c7acf685a4964",
        "IPY_MODEL_50594a62720045d489ec923113165026",
        "IPY_MODEL_e855dc5b6d6e4594b44ae704cf1cf2e1",
        "IPY_MODEL_6128db78834e4611a710751ff1843dd6",
        "IPY_MODEL_500f85484279432e80de8f4071fd92cb",
        "IPY_MODEL_e13caf1ab6d94a5c992a67cf00ac43e5",
        "IPY_MODEL_29c80aa1ee57452886fc32dd1b400413",
        "IPY_MODEL_0758a9c24fc3440c8e968c62f31a7aee",
        "IPY_MODEL_f0bb28f962404affadbaf4ee029d2a96"
       ],
       "layout": "IPY_MODEL_858137f00e7e4b2ba96cd8616e65e6b3"
      }
     },
     "891a18026b88422cbc2a517068849312": {
      "model_module": "@jupyter-widgets/base",
      "model_module_version": "1.2.0",
      "model_name": "LayoutModel",
      "state": {
       "grid_area": "widget045",
       "height": "auto",
       "width": "auto"
      }
     },
     "8af7b96fbf8c42228d8426770abc2613": {
      "model_module": "@jupyter-widgets/controls",
      "model_module_version": "1.5.0",
      "model_name": "LabelModel",
      "state": {
       "layout": "IPY_MODEL_e3958e59bac849108b4aab3aeedc8360",
       "style": "IPY_MODEL_1c3baf314eba4800b40f84db936d58d4",
       "value": "dond_example"
      }
     },
     "8cc1824d659a403a888f975970e3a55d": {
      "model_module": "@jupyter-widgets/base",
      "model_module_version": "1.2.0",
      "model_name": "LayoutModel",
      "state": {
       "grid_area": "widget018",
       "height": "auto",
       "width": "auto"
      }
     },
     "8cee26896bdd490b93e2a2dd207d0776": {
      "model_module": "@jupyter-widgets/base",
      "model_module_version": "1.2.0",
      "model_name": "LayoutModel",
      "state": {
       "grid_area": "widget042",
       "height": "auto",
       "width": "auto"
      }
     },
     "91bf4503f19a45d5b44fc80b38dc3499": {
      "model_module": "@jupyter-widgets/base",
      "model_module_version": "1.2.0",
      "model_name": "LayoutModel",
      "state": {
       "grid_area": "widget015",
       "height": "auto",
       "width": "auto"
      }
     },
     "93a16beb2eec495f9f2943bdeec97363": {
      "model_module": "@jupyter-widgets/controls",
      "model_module_version": "1.5.0",
      "model_name": "ButtonStyleModel",
      "state": {}
     },
     "943b52812bca401c936cd1e04511633b": {
      "model_module": "@jupyter-widgets/base",
      "model_module_version": "1.2.0",
      "model_name": "LayoutModel",
      "state": {
       "height": "auto",
       "width": "auto"
      }
     },
     "950d86b90c194f9fae88c9174db8c587": {
      "model_module": "@jupyter-widgets/controls",
      "model_module_version": "1.5.0",
      "model_name": "ButtonStyleModel",
      "state": {}
     },
     "9798fd1d5b784282a4067130d17106ab": {
      "model_module": "@jupyter-widgets/controls",
      "model_module_version": "1.5.0",
      "model_name": "ButtonStyleModel",
      "state": {}
     },
     "9870bec495844367b10e415e6b15dbaf": {
      "model_module": "@jupyter-widgets/base",
      "model_module_version": "1.2.0",
      "model_name": "LayoutModel",
      "state": {
       "height": "auto",
       "width": "auto"
      }
     },
     "9883da4c05f94777b2eb7bc2293a9963": {
      "model_module": "@jupyter-widgets/controls",
      "model_module_version": "1.5.0",
      "model_name": "ButtonModel",
      "state": {
       "button_style": "success",
       "description": "dac_ch1,dmm_v1",
       "layout": "IPY_MODEL_9870bec495844367b10e415e6b15dbaf",
       "style": "IPY_MODEL_147a4371064548de81777aadd9c1f6a7",
       "tooltip": "dac_ch1,dmm_v1"
      }
     },
     "996917dfe6184aea9ef602b762a47bcf": {
      "model_module": "@jupyter-widgets/controls",
      "model_module_version": "1.5.0",
      "model_name": "VBoxModel",
      "state": {
       "children": [
        "IPY_MODEL_c1fa2c45fb054cad815c361f2439de5d"
       ],
       "layout": "IPY_MODEL_2087c7b2d7674693bc40e3d4da5ff819"
      }
     },
     "9981f390cc1140f6bf17a580b573eff4": {
      "model_module": "@jupyter-widgets/base",
      "model_module_version": "1.2.0",
      "model_name": "LayoutModel",
      "state": {
       "height": "auto",
       "width": "auto"
      }
     },
     "9b74947de3884b84806dbe3d95024955": {
      "model_module": "@jupyter-widgets/controls",
      "model_module_version": "1.5.0",
      "model_name": "ButtonStyleModel",
      "state": {}
     },
     "9c96711ff8a34f9796b4082c180d2cd8": {
      "model_module": "@jupyter-widgets/controls",
      "model_module_version": "1.5.0",
      "model_name": "ButtonStyleModel",
      "state": {}
     },
     "9cf0ea6c7dd2485895405871e2a7d2eb": {
      "model_module": "@jupyter-widgets/base",
      "model_module_version": "1.2.0",
      "model_name": "LayoutModel",
      "state": {
       "height": "auto",
       "width": "auto"
      }
     },
     "9f3f130dc9ce4ffbb7c435868cb6dd16": {
      "model_module": "@jupyter-widgets/base",
      "model_module_version": "1.2.0",
      "model_name": "LayoutModel",
      "state": {
       "height": "auto",
       "width": "auto"
      }
     },
     "9fffbfde565841b9a4717c042fe38e33": {
      "model_module": "@jupyter-widgets/controls",
      "model_module_version": "1.5.0",
      "model_name": "ButtonStyleModel",
      "state": {}
     },
     "a146a24c7e644eb38b94aab50ced4c5e": {
      "model_module": "@jupyter-widgets/base",
      "model_module_version": "1.2.0",
      "model_name": "LayoutModel",
      "state": {
       "grid_area": "widget026",
       "height": "auto",
       "width": "auto"
      }
     },
     "a1ab6035508244e0bed7ac261c82e52c": {
      "model_module": "@jupyter-widgets/controls",
      "model_module_version": "1.5.0",
      "model_name": "ButtonStyleModel",
      "state": {}
     },
     "a24c6f2ee1664ba29dc38dc342a7e3ea": {
      "model_module": "@jupyter-widgets/controls",
      "model_module_version": "1.5.0",
      "model_name": "ButtonModel",
      "state": {
       "button_style": "success",
       "description": "tutorial_exp, synthetic data",
       "layout": "IPY_MODEL_7fb184f5049f4ba5b37178ac0b7f94df",
       "style": "IPY_MODEL_6a53dc39b2aa4e7e957211cf5b35152d",
       "tooltip": "tutorial_exp, synthetic data"
      }
     },
     "a3e80aceaf6348a8b263e204c59fda50": {
      "model_module": "@jupyter-widgets/controls",
      "model_module_version": "1.5.0",
      "model_name": "DescriptionStyleModel",
      "state": {
       "description_width": ""
      }
     },
     "a44f4f88c4a04c3facf2f15e27abfba4": {
      "model_module": "@jupyter-widgets/controls",
      "model_module_version": "1.5.0",
      "model_name": "VBoxModel",
      "state": {
       "children": [
        "IPY_MODEL_328de8905bd04a6289167ea78a0a90f5"
       ],
       "layout": "IPY_MODEL_cfeb9d204da34f7897c14f93905630ae"
      }
     },
     "a4973b84eb104dea9e09732e1531ce99": {
      "model_module": "@jupyter-widgets/base",
      "model_module_version": "1.2.0",
      "model_name": "LayoutModel",
      "state": {
       "grid_area": "widget008",
       "height": "auto",
       "width": "auto"
      }
     },
     "a4a3bbfad58043a991e52aedb63166e8": {
      "model_module": "@jupyter-widgets/controls",
      "model_module_version": "1.5.0",
      "model_name": "ButtonStyleModel",
      "state": {}
     },
     "a4b814ec91c04f688f4230e39b97551e": {
      "model_module": "@jupyter-widgets/controls",
      "model_module_version": "1.5.0",
      "model_name": "ButtonModel",
      "state": {
       "button_style": "success",
       "description": "dac_ch1,dac_ch2,dmm_v1,dmm_v2",
       "layout": "IPY_MODEL_e1a3d66b73d24140bc71fcebdaa11f9f",
       "style": "IPY_MODEL_f489ac4b8fc34138b9609c095d6b690f",
       "tooltip": "dac_ch1,dac_ch2,dmm_v1,dmm_v2"
      }
     },
     "a598e9bbbf8c48afba9d3cf03bbcbd48": {
      "model_module": "@jupyter-widgets/controls",
      "model_module_version": "1.5.0",
      "model_name": "ButtonStyleModel",
      "state": {}
     },
     "a682f0c022634160adc91e0ed91c956a": {
      "model_module": "@jupyter-widgets/controls",
      "model_module_version": "1.5.0",
      "model_name": "ButtonModel",
      "state": {
       "button_style": "success",
       "description": "2",
       "layout": "IPY_MODEL_9cf0ea6c7dd2485895405871e2a7d2eb",
       "style": "IPY_MODEL_008ddf0133984bfb8888c46f5d695058",
       "tooltip": "2"
      }
     },
     "a7f6501890af4745af2757af8eaeab41": {
      "model_module": "@jupyter-widgets/controls",
      "model_module_version": "1.5.0",
      "model_name": "ButtonModel",
      "state": {
       "button_style": "success",
       "icon": "edit",
       "layout": "IPY_MODEL_71f1f29cb08949b0b9f017e939047944",
       "style": "IPY_MODEL_d348013b254b43e09ec0f29dd2fbca8f"
      }
     },
     "a986474758014596ad5947f258d45d9b": {
      "model_module": "@jupyter-widgets/controls",
      "model_module_version": "1.5.0",
      "model_name": "ButtonModel",
      "state": {
       "button_style": "success",
       "description": "2022-02-28 11:57:16",
       "layout": "IPY_MODEL_731f2af140e540c18d8a56b71b291936",
       "style": "IPY_MODEL_dbe915b15eec4fe4adee4476082cfeaf",
       "tooltip": "2022-02-28 11:57:16"
      }
     },
     "a9a391a937474c00ba4514a693a42635": {
      "model_module": "@jupyter-widgets/base",
      "model_module_version": "1.2.0",
      "model_name": "LayoutModel",
      "state": {
       "grid_area": "widget038",
       "height": "auto",
       "width": "auto"
      }
     },
     "a9a6761b89a249d098581e39120a3790": {
      "model_module": "@jupyter-widgets/base",
      "model_module_version": "1.2.0",
      "model_name": "LayoutModel",
      "state": {
       "height": "auto",
       "width": "auto"
      }
     },
     "a9bc1604f489402797e1f8a95b97df18": {
      "model_module": "@jupyter-widgets/controls",
      "model_module_version": "1.5.0",
      "model_name": "ButtonModel",
      "state": {
       "button_style": "success",
       "description": "dac_ch1,dac_ch2,dmm_v1,dmm_v2",
       "layout": "IPY_MODEL_eb2c001accf044cf8c745155c55a3716",
       "style": "IPY_MODEL_20d63f170ff546b5a018a4e29a3ec5f6",
       "tooltip": "dac_ch1,dac_ch2,dmm_v1,dmm_v2"
      }
     },
     "a9f1e7056ce64610b0eb3c4e9971656d": {
      "model_module": "@jupyter-widgets/controls",
      "model_module_version": "1.5.0",
      "model_name": "ButtonModel",
      "state": {
       "button_style": "success",
       "description": "5",
       "layout": "IPY_MODEL_a9a6761b89a249d098581e39120a3790",
       "style": "IPY_MODEL_a4a3bbfad58043a991e52aedb63166e8",
       "tooltip": "5"
      }
     },
     "aac6d11c846c4b01bf89ea58cf34fd27": {
      "model_module": "@jupyter-widgets/controls",
      "model_module_version": "1.5.0",
      "model_name": "LabelModel",
      "state": {
       "layout": "IPY_MODEL_2dd62d894bef4b368b947b67c37c4342",
       "style": "IPY_MODEL_6268f62313a64bd98783343a7c1f3fdd",
       "value": "context_example"
      }
     },
     "aaf1bb2548144c0bb8266a610fbb7eae": {
      "model_module": "@jupyter-widgets/controls",
      "model_module_version": "1.5.0",
      "model_name": "ButtonModel",
      "state": {
       "button_style": "success",
       "description": "dac_ch1,dmm_v1",
       "layout": "IPY_MODEL_6d344637ec104ebb8a7aedb0fa28143f",
       "style": "IPY_MODEL_02688342bee349bc9a502c61bb6e54ee",
       "tooltip": "dac_ch1,dmm_v1"
      }
     },
     "aba60a869abd4035a559164540eb6c15": {
      "model_module": "@jupyter-widgets/base",
      "model_module_version": "1.2.0",
      "model_name": "LayoutModel",
      "state": {
       "grid_area": "widget056",
       "height": "auto",
       "width": "auto"
      }
     },
     "acac18f21e0b4da794c3980ed47fb4c7": {
      "model_module": "@jupyter-widgets/controls",
      "model_module_version": "1.5.0",
      "model_name": "VBoxModel",
      "state": {
       "children": [
        "IPY_MODEL_600eeff88ef94a20a9375ac6607b06aa"
       ],
       "layout": "IPY_MODEL_891a18026b88422cbc2a517068849312"
      }
     },
     "ad3070cca3b14fb79f6aac004563f550": {
      "model_module": "@jupyter-widgets/base",
      "model_module_version": "1.2.0",
      "model_name": "LayoutModel",
      "state": {
       "height": "auto",
       "width": "auto"
      }
     },
     "ae6e85c41c494f6bbd0286a039d06119": {
      "model_module": "@jupyter-widgets/controls",
      "model_module_version": "1.5.0",
      "model_name": "ButtonModel",
      "state": {
       "button_style": "info",
       "description": "Run ID",
       "layout": "IPY_MODEL_576daa673aab4968941ae09c8579b77a",
       "style": "IPY_MODEL_481220ee79594e3ca1a159a30e8a9d22",
       "tooltip": "Run ID"
      }
     },
     "af39bcabe6244aafacaa554d7ab085ad": {
      "model_module": "@jupyter-widgets/controls",
      "model_module_version": "1.5.0",
      "model_name": "ButtonStyleModel",
      "state": {}
     },
     "b14f6772770e48ff96afbf70963ef0c9": {
      "model_module": "@jupyter-widgets/base",
      "model_module_version": "1.2.0",
      "model_name": "LayoutModel",
      "state": {
       "grid_area": "widget052",
       "height": "auto",
       "width": "auto"
      }
     },
     "b32058de4d0944579546d25e4e3a0188": {
      "model_module": "@jupyter-widgets/base",
      "model_module_version": "1.2.0",
      "model_name": "LayoutModel",
      "state": {
       "grid_area": "widget044",
       "height": "auto",
       "width": "auto"
      }
     },
     "b37660c9d149494aa9371319fc292fd3": {
      "model_module": "@jupyter-widgets/controls",
      "model_module_version": "1.5.0",
      "model_name": "ButtonStyleModel",
      "state": {}
     },
     "b37af9f4b6f041d1b34dce053d385c75": {
      "model_module": "@jupyter-widgets/controls",
      "model_module_version": "1.5.0",
      "model_name": "ButtonStyleModel",
      "state": {}
     },
     "b3d7726d6dba4ee3aebe9a4e710db51d": {
      "model_module": "@jupyter-widgets/base",
      "model_module_version": "1.2.0",
      "model_name": "LayoutModel",
      "state": {
       "grid_area": "widget048",
       "height": "auto",
       "width": "auto"
      }
     },
     "b49bffa0c4a34ca2a2dde3b9be38d95c": {
      "model_module": "@jupyter-widgets/controls",
      "model_module_version": "1.5.0",
      "model_name": "VBoxModel",
      "state": {
       "children": [
        "IPY_MODEL_681e09b457094933bde4c581d85c2719"
       ],
       "layout": "IPY_MODEL_a146a24c7e644eb38b94aab50ced4c5e"
      }
     },
     "b54fd1fe98474a69bb255dba8c6a1006": {
      "model_module": "@jupyter-widgets/controls",
      "model_module_version": "1.5.0",
      "model_name": "VBoxModel",
      "state": {
       "children": [
        "IPY_MODEL_05fbe214ed884567b0212aeb6ad38a0a",
        "IPY_MODEL_f151427c40d04719a62d3dcc22288640",
        "IPY_MODEL_88a3c74eada245d8b7ed05a6a78831ea"
       ],
       "layout": "IPY_MODEL_fa2fc00423c0469f8feca94694951afc"
      }
     },
     "b5bbe4a29c0c444e9d4ecd80c1668b70": {
      "model_module": "@jupyter-widgets/controls",
      "model_module_version": "1.5.0",
      "model_name": "ButtonModel",
      "state": {
       "button_style": "success",
       "description": "tutorial_exp, synthetic data",
       "layout": "IPY_MODEL_e204dd991a30448e8e5d3479fd26f06d",
       "style": "IPY_MODEL_edf44fb784734c87b3c2c8aea6694f9d",
       "tooltip": "tutorial_exp, synthetic data"
      }
     },
     "b615332aa8fb43f39d2367f4aee425b2": {
      "model_module": "@jupyter-widgets/controls",
      "model_module_version": "1.5.0",
      "model_name": "ButtonStyleModel",
      "state": {}
     },
     "b63216b564384249886f456c0c5ecd19": {
      "model_module": "@jupyter-widgets/controls",
      "model_module_version": "1.5.0",
      "model_name": "HTMLModel",
      "state": {
       "layout": "IPY_MODEL_bb0d97f5fbb1404da3de6aba5a2f9368",
       "style": "IPY_MODEL_54008a8d811948699b21e8301550f815",
       "value": "100%"
      }
     },
     "b7a8758809594a4e9460394e891923e4": {
      "model_module": "@jupyter-widgets/base",
      "model_module_version": "1.2.0",
      "model_name": "LayoutModel",
      "state": {
       "grid_area": "widget005",
       "height": "auto",
       "width": "auto"
      }
     },
     "b828d008f3854a479c70a31c27e43bf2": {
      "model_module": "@jupyter-widgets/base",
      "model_module_version": "1.2.0",
      "model_name": "LayoutModel",
      "state": {
       "grid_area": "widget039",
       "height": "auto",
       "width": "auto"
      }
     },
     "b8a994c9f2dd42cfb53b050e7e8ef18a": {
      "model_module": "@jupyter-widgets/base",
      "model_module_version": "1.2.0",
      "model_name": "LayoutModel",
      "state": {
       "grid_area": "widget012",
       "height": "auto",
       "width": "auto"
      }
     },
     "b94a8b118ed74f06b73dc19e43627907": {
      "model_module": "@jupyter-widgets/base",
      "model_module_version": "1.2.0",
      "model_name": "LayoutModel",
      "state": {}
     },
     "bada311a0fcb4406881476130de7c38d": {
      "model_module": "@jupyter-widgets/controls",
      "model_module_version": "1.5.0",
      "model_name": "VBoxModel",
      "state": {
       "children": [
        "IPY_MODEL_31beebacd87f46d39a42fb1e57a4f219"
       ],
       "layout": "IPY_MODEL_00e8ffb3845244a69b263719aa57e420"
      }
     },
     "bb0d97f5fbb1404da3de6aba5a2f9368": {
      "model_module": "@jupyter-widgets/base",
      "model_module_version": "1.2.0",
      "model_name": "LayoutModel",
      "state": {}
     },
     "bc2b8395fdbd4f889065a725730a32be": {
      "model_module": "@jupyter-widgets/controls",
      "model_module_version": "1.5.0",
      "model_name": "DescriptionStyleModel",
      "state": {
       "description_width": ""
      }
     },
     "bcce46bc1b8b48bc904f0af11f7b60dd": {
      "model_module": "@jupyter-widgets/controls",
      "model_module_version": "1.5.0",
      "model_name": "ButtonStyleModel",
      "state": {}
     },
     "bce8868b7d94494fa665b444770cf1c5": {
      "model_module": "@jupyter-widgets/controls",
      "model_module_version": "1.5.0",
      "model_name": "ButtonModel",
      "state": {
       "button_style": "info",
       "description": "Notes",
       "layout": "IPY_MODEL_5c848bf7d44a4aaa9a76da7b3846b54b",
       "style": "IPY_MODEL_c9f3fcf3b8e74dceb426eb6bcff9b431",
       "tooltip": "Notes"
      }
     },
     "bee6ade5f7934ae4b23262a0d1a1dc84": {
      "model_module": "@jupyter-widgets/controls",
      "model_module_version": "1.5.0",
      "model_name": "ButtonStyleModel",
      "state": {}
     },
     "c0fb5841a2ea4cbc9fbfc40e372151e4": {
      "model_module": "@jupyter-widgets/output",
      "model_module_version": "1.0.0",
      "model_name": "OutputModel",
      "state": {
       "layout": "IPY_MODEL_720a389ba6924e4984fd697ccbd9667b",
       "outputs": [
        {
         "name": "stdout",
         "output_type": "stream",
         "text": "Plots and snapshots will show up here!\n"
        }
       ]
      }
     },
     "c1fa2c45fb054cad815c361f2439de5d": {
      "model_module": "@jupyter-widgets/controls",
      "model_module_version": "1.5.0",
      "model_name": "ButtonModel",
      "state": {
       "button_style": "success",
       "icon": "edit",
       "layout": "IPY_MODEL_e35163cdfcda4dc5ae0ec3876057c327",
       "style": "IPY_MODEL_dfdf6f57dcea4564913c3c8a36ffd347"
      }
     },
     "c45c167917f7489a844e3573493b7211": {
      "model_module": "@jupyter-widgets/controls",
      "model_module_version": "1.5.0",
      "model_name": "VBoxModel",
      "state": {
       "children": [
        "IPY_MODEL_a9bc1604f489402797e1f8a95b97df18"
       ],
       "layout": "IPY_MODEL_b32058de4d0944579546d25e4e3a0188"
      }
     },
     "c46238bd7f3b4b9c8884da9a418f9ccd": {
      "model_module": "@jupyter-widgets/controls",
      "model_module_version": "1.5.0",
      "model_name": "VBoxModel",
      "state": {
       "children": [
        "IPY_MODEL_f9dc3eaf321041e083caeb424b5920cc"
       ],
       "layout": "IPY_MODEL_8cc1824d659a403a888f975970e3a55d"
      }
     },
     "c4ca49a25e6d44879d705e24e9df03a9": {
      "model_module": "@jupyter-widgets/controls",
      "model_module_version": "1.5.0",
      "model_name": "VBoxModel",
      "state": {
       "children": [
        "IPY_MODEL_27d69751bb064d5ebd2531f627b3946b"
       ],
       "layout": "IPY_MODEL_cc96f92055f74718b3def912a9c1b664"
      }
     },
     "c61bb50525844b1b8093bc304377dba4": {
      "model_module": "@jupyter-widgets/base",
      "model_module_version": "1.2.0",
      "model_name": "LayoutModel",
      "state": {
       "height": "auto",
       "width": "auto"
      }
     },
     "c6856c062e80496dbcc3706af459011e": {
      "model_module": "@jupyter-widgets/base",
      "model_module_version": "1.2.0",
      "model_name": "LayoutModel",
      "state": {
       "height": "auto",
       "width": "auto"
      }
     },
     "c7add74fd66347de8ccdce40c7bee9ca": {
      "model_module": "@jupyter-widgets/controls",
      "model_module_version": "1.5.0",
      "model_name": "ButtonModel",
      "state": {
       "button_style": "info",
       "description": "Experiment",
       "layout": "IPY_MODEL_63b8ece8d4224a73aa9e5f723cd5a479",
       "style": "IPY_MODEL_3a7f26d3693d4ca9ae4b56d57c86d878",
       "tooltip": "Experiment"
      }
     },
     "c85ac998e29f46adbaeaf443ba9edfa2": {
      "model_module": "@jupyter-widgets/base",
      "model_module_version": "1.2.0",
      "model_name": "LayoutModel",
      "state": {
       "height": "auto",
       "width": "auto"
      }
     },
     "c94967c21c4f46838ed3a89531ba0a3e": {
      "model_module": "@jupyter-widgets/controls",
      "model_module_version": "1.5.0",
      "model_name": "ButtonModel",
      "state": {
       "button_style": "info",
       "description": "Name",
       "layout": "IPY_MODEL_5af9f35ecadb492fa6135c78efcf5643",
       "style": "IPY_MODEL_9b74947de3884b84806dbe3d95024955",
       "tooltip": "Name"
      }
     },
     "c97eb54facfe4b339ab99f54dbfbb796": {
      "model_module": "@jupyter-widgets/controls",
      "model_module_version": "1.5.0",
      "model_name": "VBoxModel",
      "state": {
       "children": [
        "IPY_MODEL_d7ef591d31f8482b8243a3c50e69ecfe"
       ],
       "layout": "IPY_MODEL_3ecee6abbf7a47d3938943810b927503"
      }
     },
     "c9f3fcf3b8e74dceb426eb6bcff9b431": {
      "model_module": "@jupyter-widgets/controls",
      "model_module_version": "1.5.0",
      "model_name": "ButtonStyleModel",
      "state": {}
     },
     "cb94d7f63f924bc7b36f93bd1403f579": {
      "model_module": "@jupyter-widgets/controls",
      "model_module_version": "1.5.0",
      "model_name": "ButtonStyleModel",
      "state": {}
     },
     "cc96f92055f74718b3def912a9c1b664": {
      "model_module": "@jupyter-widgets/base",
      "model_module_version": "1.2.0",
      "model_name": "LayoutModel",
      "state": {
       "grid_area": "widget009",
       "height": "auto",
       "width": "auto"
      }
     },
     "cd2ef4071aae4d17a1b9702d2c23d312": {
      "model_module": "@jupyter-widgets/controls",
      "model_module_version": "1.5.0",
      "model_name": "VBoxModel",
      "state": {
       "children": [
        "IPY_MODEL_5757ab66a05f4916a063887fe59a0651"
       ],
       "layout": "IPY_MODEL_3dafea22bc1246b89cfd2b796d6225fa"
      }
     },
     "cf7733e6a54849ea96225d63f3c8054d": {
      "model_module": "@jupyter-widgets/controls",
      "model_module_version": "1.5.0",
      "model_name": "FloatProgressModel",
      "state": {
       "bar_style": "success",
       "layout": "IPY_MODEL_7c5edfb2e3c94d6f8aef4698e9933a22",
       "max": 400,
       "style": "IPY_MODEL_3ff70e610ed14a0a862adf4b2e45c3b8",
       "value": 400
      }
     },
     "cfeb9d204da34f7897c14f93905630ae": {
      "model_module": "@jupyter-widgets/base",
      "model_module_version": "1.2.0",
      "model_name": "LayoutModel",
      "state": {
       "grid_area": "widget033",
       "height": "auto",
       "width": "auto"
      }
     },
     "d12d6cd5d1d54ce8a282a68cc8a5a9d8": {
      "model_module": "@jupyter-widgets/base",
      "model_module_version": "1.2.0",
      "model_name": "LayoutModel",
      "state": {
       "grid_area": "widget037",
       "height": "auto",
       "width": "auto"
      }
     },
     "d1dbb7c269914b3096ddbe7479c91897": {
      "model_module": "@jupyter-widgets/base",
      "model_module_version": "1.2.0",
      "model_name": "LayoutModel",
      "state": {
       "height": "auto",
       "width": "auto"
      }
     },
     "d348013b254b43e09ec0f29dd2fbca8f": {
      "model_module": "@jupyter-widgets/controls",
      "model_module_version": "1.5.0",
      "model_name": "ButtonStyleModel",
      "state": {}
     },
     "d483c40cff4f4ab5b3e4187962bd084a": {
      "model_module": "@jupyter-widgets/controls",
      "model_module_version": "1.5.0",
      "model_name": "ButtonModel",
      "state": {
       "button_style": "success",
       "description": "dac_ch1,dac_ch2,dmm_v1,dmm_v2",
       "layout": "IPY_MODEL_943b52812bca401c936cd1e04511633b",
       "style": "IPY_MODEL_433081ea78ac4c9a9bc383de1de7fa81",
       "tooltip": "dac_ch1,dac_ch2,dmm_v1,dmm_v2"
      }
     },
     "d51c156ef8ee4fb29c371e8405702c21": {
      "model_module": "@jupyter-widgets/controls",
      "model_module_version": "1.5.0",
      "model_name": "ButtonStyleModel",
      "state": {}
     },
     "d5898c27e1f94c8b9914cee2bb667122": {
      "model_module": "@jupyter-widgets/controls",
      "model_module_version": "1.5.0",
      "model_name": "ButtonStyleModel",
      "state": {}
     },
     "d614d4ac5e97484db1e29f088d5ba152": {
      "model_module": "@jupyter-widgets/base",
      "model_module_version": "1.2.0",
      "model_name": "LayoutModel",
      "state": {
       "grid_area": "widget049",
       "height": "auto",
       "width": "auto"
      }
     },
     "d7ef591d31f8482b8243a3c50e69ecfe": {
      "model_module": "@jupyter-widgets/controls",
      "model_module_version": "1.5.0",
      "model_name": "ButtonModel",
      "state": {
       "button_style": "success",
       "description": "2022-03-03 12:10:02",
       "layout": "IPY_MODEL_c61bb50525844b1b8093bc304377dba4",
       "style": "IPY_MODEL_0ec061fdd0984e39b910f7ea0c48de13",
       "tooltip": "2022-03-03 12:10:02"
      }
     },
     "d83c36d75ef543f4bb1ccb50d195f49a": {
      "model_module": "@jupyter-widgets/controls",
      "model_module_version": "1.5.0",
      "model_name": "DescriptionStyleModel",
      "state": {
       "description_width": ""
      }
     },
     "d84dfa93d8b247389969068a5f5a4b78": {
      "model_module": "@jupyter-widgets/controls",
      "model_module_version": "1.5.0",
      "model_name": "ButtonStyleModel",
      "state": {}
     },
     "dbe915b15eec4fe4adee4476082cfeaf": {
      "model_module": "@jupyter-widgets/controls",
      "model_module_version": "1.5.0",
      "model_name": "ButtonStyleModel",
      "state": {}
     },
     "dc41b8c20b924c69992aab2679c7281e": {
      "model_module": "@jupyter-widgets/controls",
      "model_module_version": "1.5.0",
      "model_name": "DescriptionStyleModel",
      "state": {
       "description_width": ""
      }
     },
     "de7788c7155c467ea88a16c58917e9c9": {
      "model_module": "@jupyter-widgets/controls",
      "model_module_version": "1.5.0",
      "model_name": "DescriptionStyleModel",
      "state": {
       "description_width": ""
      }
     },
     "dfdf6f57dcea4564913c3c8a36ffd347": {
      "model_module": "@jupyter-widgets/controls",
      "model_module_version": "1.5.0",
      "model_name": "ButtonStyleModel",
      "state": {}
     },
     "e13caf1ab6d94a5c992a67cf00ac43e5": {
      "model_module": "@jupyter-widgets/controls",
      "model_module_version": "1.5.0",
      "model_name": "VBoxModel",
      "state": {
       "children": [
        "IPY_MODEL_a986474758014596ad5947f258d45d9b"
       ],
       "layout": "IPY_MODEL_7357e0d879594701a22ccce54abffa05"
      }
     },
     "e1a3d66b73d24140bc71fcebdaa11f9f": {
      "model_module": "@jupyter-widgets/base",
      "model_module_version": "1.2.0",
      "model_name": "LayoutModel",
      "state": {
       "height": "auto",
       "width": "auto"
      }
     },
     "e1eed0df78eb4eeb86f34ed3bfbf8ffd": {
      "model_module": "@jupyter-widgets/base",
      "model_module_version": "1.2.0",
      "model_name": "LayoutModel",
      "state": {
       "grid_area": "widget016",
       "height": "auto",
       "width": "auto"
      }
     },
     "e204dd991a30448e8e5d3479fd26f06d": {
      "model_module": "@jupyter-widgets/base",
      "model_module_version": "1.2.0",
      "model_name": "LayoutModel",
      "state": {
       "height": "auto",
       "width": "auto"
      }
     },
     "e2485b5ac3614c1197eb3135562fa83e": {
      "model_module": "@jupyter-widgets/controls",
      "model_module_version": "1.5.0",
      "model_name": "ButtonModel",
      "state": {
       "button_style": "warning",
       "icon": "line-chart",
       "layout": "IPY_MODEL_84ec39515cd9437b8057d26629056a06",
       "style": "IPY_MODEL_2afb6a62ad5e40a2a7715b5595c06625",
       "tooltip": "Click to open this DataSet's plot in a tab above."
      }
     },
     "e2cf8578ecce4cb39578018f0498b6f5": {
      "model_module": "@jupyter-widgets/controls",
      "model_module_version": "1.5.0",
      "model_name": "DescriptionStyleModel",
      "state": {
       "description_width": ""
      }
     },
     "e35163cdfcda4dc5ae0ec3876057c327": {
      "model_module": "@jupyter-widgets/base",
      "model_module_version": "1.2.0",
      "model_name": "LayoutModel",
      "state": {
       "height": "auto",
       "width": "auto"
      }
     },
     "e361a4ef4c854ee0b1ec0a37d01e7164": {
      "model_module": "@jupyter-widgets/base",
      "model_module_version": "1.2.0",
      "model_name": "LayoutModel",
      "state": {}
     },
     "e3958e59bac849108b4aab3aeedc8360": {
      "model_module": "@jupyter-widgets/base",
      "model_module_version": "1.2.0",
      "model_name": "LayoutModel",
      "state": {
       "grid_area": "widget043",
       "height": "max-content",
       "width": "auto"
      }
     },
     "e67d35fed95848e4a0b80fd98087a131": {
      "model_module": "@jupyter-widgets/controls",
      "model_module_version": "1.5.0",
      "model_name": "VBoxModel",
      "state": {
       "children": [
        "IPY_MODEL_f1b4870e7cf74cc981643f003cc7c2e6"
       ],
       "layout": "IPY_MODEL_027edb7bd197485586016be56b28afb4"
      }
     },
     "e7af9982173649ad8a6797293d609c8d": {
      "model_module": "@jupyter-widgets/base",
      "model_module_version": "1.2.0",
      "model_name": "LayoutModel",
      "state": {
       "height": "auto",
       "width": "auto"
      }
     },
     "e855dc5b6d6e4594b44ae704cf1cf2e1": {
      "model_module": "@jupyter-widgets/controls",
      "model_module_version": "1.5.0",
      "model_name": "VBoxModel",
      "state": {
       "children": [
        "IPY_MODEL_a24c6f2ee1664ba29dc38dc342a7e3ea"
       ],
       "layout": "IPY_MODEL_fa381e10d2474c5f8ce4aac33729ffd9"
      }
     },
     "e99a0e3dcbe944b893935efc759bc860": {
      "model_module": "@jupyter-widgets/controls",
      "model_module_version": "1.5.0",
      "model_name": "ButtonStyleModel",
      "state": {}
     },
     "eab9b815257f48bab9cfb2fe8ab93b64": {
      "model_module": "@jupyter-widgets/controls",
      "model_module_version": "1.5.0",
      "model_name": "ButtonModel",
      "state": {
       "button_style": "warning",
       "icon": "line-chart",
       "layout": "IPY_MODEL_15bc1b86c6fd40cc8a31c0d5208d2bac",
       "style": "IPY_MODEL_11f36f64bd59439387d7fa3db19f9d8a",
       "tooltip": "Click to open this DataSet's plot in a tab above."
      }
     },
     "eb2c001accf044cf8c745155c55a3716": {
      "model_module": "@jupyter-widgets/base",
      "model_module_version": "1.2.0",
      "model_name": "LayoutModel",
      "state": {
       "height": "auto",
       "width": "auto"
      }
     },
     "eb389048b3c34b08bc4e0f23a11fe16c": {
      "model_module": "@jupyter-widgets/base",
      "model_module_version": "1.2.0",
      "model_name": "LayoutModel",
      "state": {
       "grid_area": "widget031",
       "height": "auto",
       "width": "auto"
      }
     },
     "ed09e15f352b40b79fdfc02f281dbd69": {
      "model_module": "@jupyter-widgets/controls",
      "model_module_version": "1.5.0",
      "model_name": "ButtonModel",
      "state": {
       "button_style": "success",
       "description": "dac_ch1,dac_ch2,dmm_v1,dmm_v2",
       "layout": "IPY_MODEL_d1dbb7c269914b3096ddbe7479c91897",
       "style": "IPY_MODEL_d5898c27e1f94c8b9914cee2bb667122",
       "tooltip": "dac_ch1,dac_ch2,dmm_v1,dmm_v2"
      }
     },
     "edc7eeb74842474fbe330acc877fd046": {
      "model_module": "@jupyter-widgets/controls",
      "model_module_version": "1.5.0",
      "model_name": "ButtonModel",
      "state": {
       "button_style": "success",
       "description": "2022-03-03 12:10:02",
       "layout": "IPY_MODEL_6ecb7c4aa402438e8c9e65d44d8c2921",
       "style": "IPY_MODEL_d51c156ef8ee4fb29c371e8405702c21",
       "tooltip": "2022-03-03 12:10:02"
      }
     },
     "edf44fb784734c87b3c2c8aea6694f9d": {
      "model_module": "@jupyter-widgets/controls",
      "model_module_version": "1.5.0",
      "model_name": "ButtonStyleModel",
      "state": {}
     },
     "ee4acd3ed9a24667bac0c5acc85e722b": {
      "model_module": "@jupyter-widgets/controls",
      "model_module_version": "1.5.0",
      "model_name": "VBoxModel",
      "state": {
       "children": [
        "IPY_MODEL_6b7d6b9e26c5435d85926636f980a776"
       ],
       "layout": "IPY_MODEL_8129f9ad5dd14e94a82e68a6c1393dfb"
      }
     },
     "f0bb28f962404affadbaf4ee029d2a96": {
      "model_module": "@jupyter-widgets/controls",
      "model_module_version": "1.5.0",
      "model_name": "ButtonModel",
      "state": {
       "button_style": "warning",
       "icon": "line-chart",
       "layout": "IPY_MODEL_aba60a869abd4035a559164540eb6c15",
       "style": "IPY_MODEL_7e5fce5ea8d5486d80199bb76a7c3fb6",
       "tooltip": "Click to open this DataSet's plot in a tab above."
      }
     },
     "f151427c40d04719a62d3dcc22288640": {
      "model_module": "@jupyter-widgets/controls",
      "model_module_version": "1.5.0",
      "model_name": "TabModel",
      "state": {
       "_titles": {
        "0": "Info"
       },
       "children": [
        "IPY_MODEL_c0fb5841a2ea4cbc9fbfc40e372151e4"
       ],
       "layout": "IPY_MODEL_b94a8b118ed74f06b73dc19e43627907"
      }
     },
     "f1b4870e7cf74cc981643f003cc7c2e6": {
      "model_module": "@jupyter-widgets/controls",
      "model_module_version": "1.5.0",
      "model_name": "ButtonModel",
      "state": {
       "button_style": "success",
       "description": "tutorial_exp, synthetic data",
       "layout": "IPY_MODEL_c6856c062e80496dbcc3706af459011e",
       "style": "IPY_MODEL_4d55591a0ef14ee6a003e464c21c7f0d",
       "tooltip": "tutorial_exp, synthetic data"
      }
     },
     "f2b41bc3a74f460dad79fa06305b5e4f": {
      "model_module": "@jupyter-widgets/controls",
      "model_module_version": "1.5.0",
      "model_name": "ButtonModel",
      "state": {
       "button_style": "warning",
       "icon": "line-chart",
       "layout": "IPY_MODEL_352b62e8ec4049e086334d5677498858",
       "style": "IPY_MODEL_087a4a428a0f461c87b6cf60b76af561",
       "tooltip": "Click to open this DataSet's plot in a tab above."
      }
     },
     "f489ac4b8fc34138b9609c095d6b690f": {
      "model_module": "@jupyter-widgets/controls",
      "model_module_version": "1.5.0",
      "model_name": "ButtonStyleModel",
      "state": {}
     },
     "f4e1e0c09f214497b9d2bfc115b83e89": {
      "model_module": "@jupyter-widgets/controls",
      "model_module_version": "1.5.0",
      "model_name": "VBoxModel",
      "state": {
       "children": [
        "IPY_MODEL_31598707a34b4ecdbfdb1e8f63afcc97"
       ],
       "layout": "IPY_MODEL_7e5f5164f5a140bd82a5b5f0a59fb861"
      }
     },
     "f6b8a96d1e1149b2883669b4a95f8387": {
      "model_module": "@jupyter-widgets/controls",
      "model_module_version": "1.5.0",
      "model_name": "VBoxModel",
      "state": {
       "children": [
        "IPY_MODEL_a7f6501890af4745af2757af8eaeab41"
       ],
       "layout": "IPY_MODEL_12eaf3cff0824f5c994119746663e6c5"
      }
     },
     "f9dc3eaf321041e083caeb424b5920cc": {
      "model_module": "@jupyter-widgets/controls",
      "model_module_version": "1.5.0",
      "model_name": "ButtonModel",
      "state": {
       "button_style": "success",
       "description": "tutorial_exp, synthetic data",
       "layout": "IPY_MODEL_78afa3e8e4554bd8aedbfb22a12005c7",
       "style": "IPY_MODEL_9fffbfde565841b9a4717c042fe38e33",
       "tooltip": "tutorial_exp, synthetic data"
      }
     },
     "fa2fc00423c0469f8feca94694951afc": {
      "model_module": "@jupyter-widgets/base",
      "model_module_version": "1.2.0",
      "model_name": "LayoutModel",
      "state": {}
     },
     "fa381e10d2474c5f8ce4aac33729ffd9": {
      "model_module": "@jupyter-widgets/base",
      "model_module_version": "1.2.0",
      "model_name": "LayoutModel",
      "state": {
       "grid_area": "widget050",
       "height": "auto",
       "width": "auto"
      }
     },
     "ffc8993272bf46e8be30f12153456757": {
      "model_module": "@jupyter-widgets/controls",
      "model_module_version": "1.5.0",
      "model_name": "VBoxModel",
      "state": {
       "children": [
        "IPY_MODEL_edc7eeb74842474fbe330acc877fd046"
       ],
       "layout": "IPY_MODEL_7382c646755a4e70ac7b9efe408b4ce3"
      }
     }
    },
    "version_major": 2,
    "version_minor": 0
   }
  }
 },
 "nbformat": 4,
 "nbformat_minor": 4
}
