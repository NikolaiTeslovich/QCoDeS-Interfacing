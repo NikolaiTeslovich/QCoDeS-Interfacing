{
 "cells": [
  {
   "cell_type": "markdown",
   "id": "1178b8c0-0728-4f0b-91c6-63a1ec7250ad",
   "metadata": {
    "tags": []
   },
   "source": [
    "# Example of initializing an instrument with pyvisa in QCoDeS over a USB interface"
   ]
  },
  {
   "cell_type": "markdown",
   "id": "27776cda-efbf-4a7e-a698-8796c714538d",
   "metadata": {},
   "source": [
    "Based on the following [QCoDeS example documentation](https://qcodes.github.io/Qcodes/examples/driver_examples/Qcodes%20example%20with%20Yokogawa%20GS2xx.html), expect that a different method is used to connect to the instrument. Simply initializing the ni-visa backend did not work for some reason, so first the pyvisa-py backend opens a connection with the interface, followed by the ni-visa backend. Only then is the instrument properly recognized and can connect."
   ]
  },
  {
   "cell_type": "code",
   "execution_count": 1,
   "id": "e028de37-84b0-4b2c-8e64-329d15a6dda7",
   "metadata": {},
   "outputs": [
    {
     "name": "stdout",
     "output_type": "stream",
     "text": [
      "Resource Manager of Visa Library at py\n",
      "Resource Manager of Visa Library at /usr/lib/x86_64-linux-gnu/libvisa.so.21.5.0\n"
     ]
    }
   ],
   "source": [
    "# importing packages\n",
    "import numpy as np\n",
    "import time\n",
    "import qcodes\n",
    "import pyvisa as visa\n",
    "import ipywidgets as widgets\n",
    "# enable to get a more debuggable output:\n",
    "#visa.log_to_screen()\n",
    "\n",
    "# pyvisa-py resource manager\n",
    "py_rm = visa.ResourceManager('@py')\n",
    "# national instruments resource manager\n",
    "ni_rm = visa.ResourceManager()\n",
    "\n",
    "\n",
    "print(py_rm)\n",
    "print(ni_rm) "
   ]
  },
  {
   "cell_type": "code",
   "execution_count": 2,
   "id": "708c1ddc-85c8-42ab-88f0-0a1a64da9323",
   "metadata": {},
   "outputs": [
    {
     "name": "stdout",
     "output_type": "stream",
     "text": [
      "pyvisa-py: ('ASRL/dev/ttyS4::INSTR',)\n"
     ]
    },
    {
     "name": "stderr",
     "output_type": "stream",
     "text": [
      "libgpib: invalid descriptor\n",
      "libgpib: invalid descriptor\n",
      "libgpib: invalid descriptor\n",
      "libgpib: invalid descriptor\n",
      "libgpib: invalid descriptor\n",
      "libgpib: invalid descriptor\n",
      "libgpib: invalid descriptor\n",
      "libgpib: invalid descriptor\n",
      "libgpib: invalid descriptor\n",
      "libgpib: invalid descriptor\n",
      "libgpib: invalid descriptor\n",
      "libgpib: invalid descriptor\n",
      "libgpib: invalid descriptor\n",
      "libgpib: invalid descriptor\n",
      "libgpib: invalid descriptor\n",
      "libgpib: invalid descriptor\n",
      "libgpib: invalid descriptor\n",
      "libgpib: invalid descriptor\n",
      "libgpib: invalid descriptor\n",
      "libgpib: invalid descriptor\n",
      "libgpib: invalid descriptor\n",
      "libgpib: invalid descriptor\n",
      "libgpib: invalid descriptor\n",
      "libgpib: invalid descriptor\n",
      "libgpib: invalid descriptor\n",
      "libgpib: invalid descriptor\n",
      "libgpib: invalid descriptor\n",
      "libgpib: invalid descriptor\n",
      "libgpib: invalid descriptor\n",
      "libgpib: invalid descriptor\n",
      "libgpib: invalid descriptor\n",
      "libgpib: invalid descriptor\n",
      "libgpib: invalid descriptor\n",
      "libgpib: invalid descriptor\n",
      "libgpib: invalid descriptor\n",
      "libgpib: invalid descriptor\n",
      "libgpib: invalid descriptor\n",
      "libgpib: invalid descriptor\n",
      "libgpib: invalid descriptor\n",
      "libgpib: invalid descriptor\n",
      "libgpib: invalid descriptor\n",
      "libgpib: invalid descriptor\n",
      "libgpib: invalid descriptor\n",
      "libgpib: invalid descriptor\n",
      "libgpib: invalid descriptor\n",
      "libgpib: invalid descriptor\n",
      "libgpib: invalid descriptor\n",
      "libgpib: invalid descriptor\n",
      "libgpib: invalid descriptor\n",
      "libgpib: invalid descriptor\n",
      "libgpib: invalid descriptor\n",
      "libgpib: invalid descriptor\n",
      "libgpib: invalid descriptor\n",
      "libgpib: invalid descriptor\n",
      "libgpib: invalid descriptor\n",
      "libgpib: invalid descriptor\n",
      "libgpib: invalid descriptor\n",
      "libgpib: invalid descriptor\n",
      "libgpib: invalid descriptor\n",
      "libgpib: invalid descriptor\n"
     ]
    }
   ],
   "source": [
    "# list the resources that the visapy-py backend detects, should look something like:\n",
    "# `('ASRL/dev/ttyS4::INSTR', 'USB0::2849::57::91LA25023::0::INSTR')`\n",
    "print(\"pyvisa-py: \" + str(py_rm.list_resources()))"
   ]
  },
  {
   "cell_type": "markdown",
   "id": "b21eb8cb-5573-415b-b758-a9fe24a6db14",
   "metadata": {},
   "source": [
    "Select the one that you are interested in testing the connection, choose `USB` over `ASRL` for a USB device to work properly"
   ]
  },
  {
   "cell_type": "code",
   "execution_count": 3,
   "id": "5e5f12be-6113-46c4-a108-23909782a578",
   "metadata": {},
   "outputs": [
    {
     "data": {
      "application/vnd.jupyter.widget-view+json": {
       "model_id": "1478d275d9c644049b969e3420b2bdfe",
       "version_major": 2,
       "version_minor": 0
      },
      "text/plain": [
       "Dropdown(description='py Interface:', layout=Layout(width='max-content'), options=('ASRL/dev/ttyS4::INSTR',), …"
      ]
     },
     "metadata": {},
     "output_type": "display_data"
    }
   ],
   "source": [
    "# show the interfaces that the visapy-py backend detects\n",
    "py_rm_interface = widgets.Dropdown(\n",
    "    options=py_rm.list_resources(),\n",
    "    #value='2',\n",
    "    description='py Interface:',\n",
    "    disabled=False,\n",
    "    layout={'width': 'max-content'}\n",
    ")\n",
    "\n",
    "display(py_rm_interface)"
   ]
  },
  {
   "cell_type": "code",
   "execution_count": 4,
   "id": "27ca8ba0-8dd7-40d3-a4d4-5015399a3e85",
   "metadata": {},
   "outputs": [
    {
     "name": "stdout",
     "output_type": "stream",
     "text": [
      "ni-visa: ('ASRL5::INSTR',)\n"
     ]
    }
   ],
   "source": [
    "# list the resources that the ni-visa backend detects, should look something like:\n",
    "# `('USB0::0x0B21::0x0039::91LA25023::INSTR', 'ASRL5::INSTR')`\n",
    "print(\"ni-visa: \" + str(ni_rm.list_resources()))"
   ]
  },
  {
   "cell_type": "markdown",
   "id": "1615d35c-6960-4641-9c88-1f724d82a029",
   "metadata": {},
   "source": [
    "Select the one that you are interested in testing the connection, choose `USB` over `ASRL` for a USB device to work properly"
   ]
  },
  {
   "cell_type": "code",
   "execution_count": 5,
   "id": "290cb6fb-c420-46e0-9fa6-0231cc72cb20",
   "metadata": {},
   "outputs": [
    {
     "data": {
      "application/vnd.jupyter.widget-view+json": {
       "model_id": "4a5bc8e820fc4071b9cf75e93d1e9295",
       "version_major": 2,
       "version_minor": 0
      },
      "text/plain": [
       "Dropdown(description='ni Interface:', layout=Layout(width='max-content'), options=('ASRL5::INSTR',), value='AS…"
      ]
     },
     "metadata": {},
     "output_type": "display_data"
    }
   ],
   "source": [
    "### IMPORTANT ###\n",
    "# for some reason, the USB interface of the instrument has to be opened with the pyvisa-py resource manager before ni-visa\n",
    "\n",
    "# so, open whichever interface was selected in the prior cell\n",
    "py_rm.open_resource(py_rm_interface.value)\n",
    "\n",
    "# show the interfaces that the pyvisa-py backend detects\n",
    "ni_rm_interface = widgets.Dropdown(\n",
    "    options=ni_rm.list_resources(),\n",
    "    #value='2',\n",
    "    description='ni Interface:',\n",
    "    disabled=False,\n",
    "    layout={'width': 'max-content'}\n",
    ")\n",
    "\n",
    "display(ni_rm_interface)"
   ]
  },
  {
   "cell_type": "markdown",
   "id": "d4377c1f-7075-4d3f-8997-3fae29f14477",
   "metadata": {},
   "source": [
    "Here is an example of how you would connect to a Yokogama GS210 with integrated QCoDeS drivers:"
   ]
  },
  {
   "cell_type": "code",
   "execution_count": 6,
   "id": "24567cca-90cc-4d36-b36a-67a593faee17",
   "metadata": {},
   "outputs": [
    {
     "ename": "VisaIOError",
     "evalue": "('VI_ERROR_TMO (-1073807339): Timeout expired before operation completed.', \"asking ':SOUR:FUNC?' to <GS200: gs200>\", 'getting gs200_source_mode')",
     "output_type": "error",
     "traceback": [
      "\u001b[0;31m---------------------------------------------------------------------------\u001b[0m",
      "\u001b[0;31mVisaIOError\u001b[0m                               Traceback (most recent call last)",
      "Input \u001b[0;32mIn [6]\u001b[0m, in \u001b[0;36m<cell line: 7>\u001b[0;34m()\u001b[0m\n\u001b[1;32m      2\u001b[0m \u001b[38;5;28;01mfrom\u001b[39;00m \u001b[38;5;21;01mqcodes\u001b[39;00m\u001b[38;5;21;01m.\u001b[39;00m\u001b[38;5;21;01minstrument_drivers\u001b[39;00m\u001b[38;5;21;01m.\u001b[39;00m\u001b[38;5;21;01myokogawa\u001b[39;00m\u001b[38;5;21;01m.\u001b[39;00m\u001b[38;5;21;01mGS200\u001b[39;00m \u001b[38;5;28;01mimport\u001b[39;00m GS200\n\u001b[1;32m      4\u001b[0m \u001b[38;5;66;03m# intialize the instrument with the following parameters\u001b[39;00m\n\u001b[1;32m      5\u001b[0m \n\u001b[1;32m      6\u001b[0m \u001b[38;5;66;03m# the instrument is initialized and stored as a variable gs, where \"gs200\" is its name\u001b[39;00m\n\u001b[0;32m----> 7\u001b[0m gs \u001b[38;5;241m=\u001b[39m \u001b[43mGS200\u001b[49m\u001b[43m(\u001b[49m\u001b[38;5;124;43m\"\u001b[39;49m\u001b[38;5;124;43mgs200\u001b[39;49m\u001b[38;5;124;43m\"\u001b[39;49m\u001b[43m,\u001b[49m\u001b[43m \u001b[49m\u001b[43maddress\u001b[49m\u001b[38;5;241;43m=\u001b[39;49m\u001b[43mni_rm_interface\u001b[49m\u001b[38;5;241;43m.\u001b[39;49m\u001b[43mvalue\u001b[49m\u001b[43m,\u001b[49m\u001b[43m \u001b[49m\u001b[43mterminator\u001b[49m\u001b[38;5;241;43m=\u001b[39;49m\u001b[38;5;124;43m\"\u001b[39;49m\u001b[38;5;130;43;01m\\n\u001b[39;49;00m\u001b[38;5;124;43m\"\u001b[39;49m\u001b[43m)\u001b[49m\n\u001b[1;32m      9\u001b[0m \u001b[38;5;66;03m# close the pyvisa-py resource manager:\u001b[39;00m\n\u001b[1;32m     10\u001b[0m py_rm\u001b[38;5;241m.\u001b[39mclose()\n",
      "File \u001b[0;32m~/miniconda3/envs/qcodes/lib/python3.9/site-packages/qcodes/instrument/base.py:559\u001b[0m, in \u001b[0;36mInstrumentMeta.__call__\u001b[0;34m(cls, *args, **kwargs)\u001b[0m\n\u001b[1;32m    554\u001b[0m \u001b[38;5;28;01mdef\u001b[39;00m \u001b[38;5;21m__call__\u001b[39m(\u001b[38;5;28mcls\u001b[39m, \u001b[38;5;241m*\u001b[39margs: Any, \u001b[38;5;241m*\u001b[39m\u001b[38;5;241m*\u001b[39mkwargs: Any) \u001b[38;5;241m-\u001b[39m\u001b[38;5;241m>\u001b[39m Any:\n\u001b[1;32m    555\u001b[0m     \u001b[38;5;124;03m\"\"\"\u001b[39;00m\n\u001b[1;32m    556\u001b[0m \u001b[38;5;124;03m    Overloads `type.__call__` to add code that runs only if __init__ completes\u001b[39;00m\n\u001b[1;32m    557\u001b[0m \u001b[38;5;124;03m    successfully.\u001b[39;00m\n\u001b[1;32m    558\u001b[0m \u001b[38;5;124;03m    \"\"\"\u001b[39;00m\n\u001b[0;32m--> 559\u001b[0m     new_inst \u001b[38;5;241m=\u001b[39m \u001b[38;5;28;43msuper\u001b[39;49m\u001b[43m(\u001b[49m\u001b[43m)\u001b[49m\u001b[38;5;241;43m.\u001b[39;49m\u001b[38;5;21;43m__call__\u001b[39;49m\u001b[43m(\u001b[49m\u001b[38;5;241;43m*\u001b[39;49m\u001b[43margs\u001b[49m\u001b[43m,\u001b[49m\u001b[43m \u001b[49m\u001b[38;5;241;43m*\u001b[39;49m\u001b[38;5;241;43m*\u001b[39;49m\u001b[43mkwargs\u001b[49m\u001b[43m)\u001b[49m\n\u001b[1;32m    560\u001b[0m     is_abstract \u001b[38;5;241m=\u001b[39m new_inst\u001b[38;5;241m.\u001b[39m_is_abstract()\n\u001b[1;32m    561\u001b[0m     \u001b[38;5;28;01mif\u001b[39;00m is_abstract:\n",
      "File \u001b[0;32m~/miniconda3/envs/qcodes/lib/python3.9/site-packages/qcodes/instrument_drivers/yokogawa/GS200.py:264\u001b[0m, in \u001b[0;36mGS200.__init__\u001b[0;34m(self, name, address, terminator, **kwargs)\u001b[0m\n\u001b[1;32m    255\u001b[0m \u001b[38;5;28mself\u001b[39m\u001b[38;5;241m.\u001b[39madd_parameter(\u001b[38;5;124m'\u001b[39m\u001b[38;5;124msource_mode\u001b[39m\u001b[38;5;124m'\u001b[39m,\n\u001b[1;32m    256\u001b[0m                    label\u001b[38;5;241m=\u001b[39m\u001b[38;5;124m'\u001b[39m\u001b[38;5;124mSource Mode\u001b[39m\u001b[38;5;124m'\u001b[39m,\n\u001b[1;32m    257\u001b[0m                    get_cmd\u001b[38;5;241m=\u001b[39m\u001b[38;5;124m'\u001b[39m\u001b[38;5;124m:SOUR:FUNC?\u001b[39m\u001b[38;5;124m'\u001b[39m,\n\u001b[1;32m    258\u001b[0m                    set_cmd\u001b[38;5;241m=\u001b[39m\u001b[38;5;28mself\u001b[39m\u001b[38;5;241m.\u001b[39m_set_source_mode,\n\u001b[1;32m    259\u001b[0m                    vals\u001b[38;5;241m=\u001b[39mEnum(\u001b[38;5;124m'\u001b[39m\u001b[38;5;124mVOLT\u001b[39m\u001b[38;5;124m'\u001b[39m, \u001b[38;5;124m'\u001b[39m\u001b[38;5;124mCURR\u001b[39m\u001b[38;5;124m'\u001b[39m))\n\u001b[1;32m    261\u001b[0m \u001b[38;5;66;03m# We need to get the source_mode value here as we cannot rely on the\u001b[39;00m\n\u001b[1;32m    262\u001b[0m \u001b[38;5;66;03m# default value that may have been changed before we connect to the\u001b[39;00m\n\u001b[1;32m    263\u001b[0m \u001b[38;5;66;03m# instrument (in a previous session or via the frontpanel).\u001b[39;00m\n\u001b[0;32m--> 264\u001b[0m \u001b[38;5;28;43mself\u001b[39;49m\u001b[38;5;241;43m.\u001b[39;49m\u001b[43msource_mode\u001b[49m\u001b[43m(\u001b[49m\u001b[43m)\u001b[49m\n\u001b[1;32m    266\u001b[0m \u001b[38;5;28mself\u001b[39m\u001b[38;5;241m.\u001b[39madd_parameter(\u001b[38;5;124m'\u001b[39m\u001b[38;5;124mvoltage_range\u001b[39m\u001b[38;5;124m'\u001b[39m,\n\u001b[1;32m    267\u001b[0m                    label\u001b[38;5;241m=\u001b[39m\u001b[38;5;124m'\u001b[39m\u001b[38;5;124mVoltage Source Range\u001b[39m\u001b[38;5;124m'\u001b[39m,\n\u001b[1;32m    268\u001b[0m                    unit\u001b[38;5;241m=\u001b[39m\u001b[38;5;124m'\u001b[39m\u001b[38;5;124mV\u001b[39m\u001b[38;5;124m'\u001b[39m,\n\u001b[0;32m   (...)\u001b[0m\n\u001b[1;32m    272\u001b[0m                    snapshot_exclude\u001b[38;5;241m=\u001b[39m\u001b[38;5;28mself\u001b[39m\u001b[38;5;241m.\u001b[39msource_mode() \u001b[38;5;241m==\u001b[39m \u001b[38;5;124m'\u001b[39m\u001b[38;5;124mCURR\u001b[39m\u001b[38;5;124m'\u001b[39m\n\u001b[1;32m    273\u001b[0m                    )\n\u001b[1;32m    275\u001b[0m \u001b[38;5;28mself\u001b[39m\u001b[38;5;241m.\u001b[39madd_parameter(\u001b[38;5;124m'\u001b[39m\u001b[38;5;124mcurrent_range\u001b[39m\u001b[38;5;124m'\u001b[39m,\n\u001b[1;32m    276\u001b[0m                    label\u001b[38;5;241m=\u001b[39m\u001b[38;5;124m'\u001b[39m\u001b[38;5;124mCurrent Source Range\u001b[39m\u001b[38;5;124m'\u001b[39m,\n\u001b[1;32m    277\u001b[0m                    unit\u001b[38;5;241m=\u001b[39m\u001b[38;5;124m'\u001b[39m\u001b[38;5;124mI\u001b[39m\u001b[38;5;124m'\u001b[39m,\n\u001b[0;32m   (...)\u001b[0m\n\u001b[1;32m    281\u001b[0m                    snapshot_exclude\u001b[38;5;241m=\u001b[39m\u001b[38;5;28mself\u001b[39m\u001b[38;5;241m.\u001b[39msource_mode() \u001b[38;5;241m==\u001b[39m \u001b[38;5;124m\"\u001b[39m\u001b[38;5;124mVOLT\u001b[39m\u001b[38;5;124m\"\u001b[39m\n\u001b[1;32m    282\u001b[0m                    )\n",
      "File \u001b[0;32m~/miniconda3/envs/qcodes/lib/python3.9/site-packages/qcodes/instrument/parameter.py:456\u001b[0m, in \u001b[0;36m_BaseParameter.__call__\u001b[0;34m(self, *args, **kwargs)\u001b[0m\n\u001b[1;32m    454\u001b[0m \u001b[38;5;28;01mif\u001b[39;00m \u001b[38;5;28mlen\u001b[39m(args) \u001b[38;5;241m==\u001b[39m \u001b[38;5;241m0\u001b[39m \u001b[38;5;129;01mand\u001b[39;00m \u001b[38;5;28mlen\u001b[39m(kwargs) \u001b[38;5;241m==\u001b[39m \u001b[38;5;241m0\u001b[39m:\n\u001b[1;32m    455\u001b[0m     \u001b[38;5;28;01mif\u001b[39;00m \u001b[38;5;28mself\u001b[39m\u001b[38;5;241m.\u001b[39mgettable:\n\u001b[0;32m--> 456\u001b[0m         \u001b[38;5;28;01mreturn\u001b[39;00m \u001b[38;5;28;43mself\u001b[39;49m\u001b[38;5;241;43m.\u001b[39;49m\u001b[43mget\u001b[49m\u001b[43m(\u001b[49m\u001b[43m)\u001b[49m\n\u001b[1;32m    457\u001b[0m     \u001b[38;5;28;01melse\u001b[39;00m:\n\u001b[1;32m    458\u001b[0m         \u001b[38;5;28;01mraise\u001b[39;00m \u001b[38;5;167;01mNotImplementedError\u001b[39;00m(\u001b[38;5;124m'\u001b[39m\u001b[38;5;124mno get cmd found in\u001b[39m\u001b[38;5;124m'\u001b[39m \u001b[38;5;241m+\u001b[39m\n\u001b[1;32m    459\u001b[0m                                   \u001b[38;5;124mf\u001b[39m\u001b[38;5;124m'\u001b[39m\u001b[38;5;124m Parameter \u001b[39m\u001b[38;5;132;01m{\u001b[39;00m\u001b[38;5;28mself\u001b[39m\u001b[38;5;241m.\u001b[39mname\u001b[38;5;132;01m}\u001b[39;00m\u001b[38;5;124m'\u001b[39m)\n",
      "File \u001b[0;32m~/miniconda3/envs/qcodes/lib/python3.9/site-packages/qcodes/instrument/parameter.py:661\u001b[0m, in \u001b[0;36m_BaseParameter._wrap_get.<locals>.get_wrapper\u001b[0;34m(*args, **kwargs)\u001b[0m\n\u001b[1;32m    659\u001b[0m \u001b[38;5;28;01mexcept\u001b[39;00m \u001b[38;5;167;01mException\u001b[39;00m \u001b[38;5;28;01mas\u001b[39;00m e:\n\u001b[1;32m    660\u001b[0m     e\u001b[38;5;241m.\u001b[39margs \u001b[38;5;241m=\u001b[39m e\u001b[38;5;241m.\u001b[39margs \u001b[38;5;241m+\u001b[39m (\u001b[38;5;124mf\u001b[39m\u001b[38;5;124m'\u001b[39m\u001b[38;5;124mgetting \u001b[39m\u001b[38;5;132;01m{\u001b[39;00m\u001b[38;5;28mself\u001b[39m\u001b[38;5;132;01m}\u001b[39;00m\u001b[38;5;124m'\u001b[39m,)\n\u001b[0;32m--> 661\u001b[0m     \u001b[38;5;28;01mraise\u001b[39;00m e\n",
      "File \u001b[0;32m~/miniconda3/envs/qcodes/lib/python3.9/site-packages/qcodes/instrument/parameter.py:648\u001b[0m, in \u001b[0;36m_BaseParameter._wrap_get.<locals>.get_wrapper\u001b[0;34m(*args, **kwargs)\u001b[0m\n\u001b[1;32m    643\u001b[0m     \u001b[38;5;28;01mraise\u001b[39;00m \u001b[38;5;167;01mNotImplementedError\u001b[39;00m(\n\u001b[1;32m    644\u001b[0m         \u001b[38;5;124mf\u001b[39m\u001b[38;5;124m\"\u001b[39m\u001b[38;5;124mTrying to get an abstract parameter: \u001b[39m\u001b[38;5;132;01m{\u001b[39;00m\u001b[38;5;28mself\u001b[39m\u001b[38;5;241m.\u001b[39mfull_name\u001b[38;5;132;01m}\u001b[39;00m\u001b[38;5;124m\"\u001b[39m\n\u001b[1;32m    645\u001b[0m     )\n\u001b[1;32m    646\u001b[0m \u001b[38;5;28;01mtry\u001b[39;00m:\n\u001b[1;32m    647\u001b[0m     \u001b[38;5;66;03m# There might be cases where a .get also has args/kwargs\u001b[39;00m\n\u001b[0;32m--> 648\u001b[0m     raw_value \u001b[38;5;241m=\u001b[39m \u001b[43mget_function\u001b[49m\u001b[43m(\u001b[49m\u001b[38;5;241;43m*\u001b[39;49m\u001b[43margs\u001b[49m\u001b[43m,\u001b[49m\u001b[43m \u001b[49m\u001b[38;5;241;43m*\u001b[39;49m\u001b[38;5;241;43m*\u001b[39;49m\u001b[43mkwargs\u001b[49m\u001b[43m)\u001b[49m\n\u001b[1;32m    650\u001b[0m     value \u001b[38;5;241m=\u001b[39m \u001b[38;5;28mself\u001b[39m\u001b[38;5;241m.\u001b[39m_from_raw_value_to_value(raw_value)\n\u001b[1;32m    652\u001b[0m     \u001b[38;5;28;01mif\u001b[39;00m \u001b[38;5;28mself\u001b[39m\u001b[38;5;241m.\u001b[39m_validate_on_get:\n",
      "File \u001b[0;32m~/miniconda3/envs/qcodes/lib/python3.9/site-packages/qcodes/utils/command.py:203\u001b[0m, in \u001b[0;36mCommand.__call__\u001b[0;34m(self, *args)\u001b[0m\n\u001b[1;32m    201\u001b[0m \u001b[38;5;28;01mif\u001b[39;00m \u001b[38;5;28mlen\u001b[39m(args) \u001b[38;5;241m!=\u001b[39m \u001b[38;5;28mself\u001b[39m\u001b[38;5;241m.\u001b[39marg_count:\n\u001b[1;32m    202\u001b[0m     \u001b[38;5;28;01mraise\u001b[39;00m \u001b[38;5;167;01mTypeError\u001b[39;00m(\u001b[38;5;124mf\u001b[39m\u001b[38;5;124m\"\u001b[39m\u001b[38;5;124mcommand takes exactly \u001b[39m\u001b[38;5;132;01m{\u001b[39;00m\u001b[38;5;28mself\u001b[39m\u001b[38;5;241m.\u001b[39marg_count\u001b[38;5;132;01m}\u001b[39;00m\u001b[38;5;124m args\u001b[39m\u001b[38;5;124m\"\u001b[39m)\n\u001b[0;32m--> 203\u001b[0m \u001b[38;5;28;01mreturn\u001b[39;00m \u001b[38;5;28;43mself\u001b[39;49m\u001b[38;5;241;43m.\u001b[39;49m\u001b[43mexec_function\u001b[49m\u001b[43m(\u001b[49m\u001b[38;5;241;43m*\u001b[39;49m\u001b[43margs\u001b[49m\u001b[43m)\u001b[49m\n",
      "File \u001b[0;32m~/miniconda3/envs/qcodes/lib/python3.9/site-packages/qcodes/utils/command.py:151\u001b[0m, in \u001b[0;36mCommand.call_by_str\u001b[0;34m(self, *args)\u001b[0m\n\u001b[1;32m    149\u001b[0m \u001b[38;5;28;01mdef\u001b[39;00m \u001b[38;5;21mcall_by_str\u001b[39m(\u001b[38;5;28mself\u001b[39m, \u001b[38;5;241m*\u001b[39margs: Any) \u001b[38;5;241m-\u001b[39m\u001b[38;5;241m>\u001b[39m Output:\n\u001b[1;32m    150\u001b[0m     \u001b[38;5;124;03m\"\"\"Execute a formatted string.\"\"\"\u001b[39;00m\n\u001b[0;32m--> 151\u001b[0m     \u001b[38;5;28;01mreturn\u001b[39;00m \u001b[38;5;28;43mself\u001b[39;49m\u001b[38;5;241;43m.\u001b[39;49m\u001b[43mexec_str\u001b[49m\u001b[43m(\u001b[49m\u001b[38;5;28;43mself\u001b[39;49m\u001b[38;5;241;43m.\u001b[39;49m\u001b[43mcmd_str\u001b[49m\u001b[38;5;241;43m.\u001b[39;49m\u001b[43mformat\u001b[49m\u001b[43m(\u001b[49m\u001b[38;5;241;43m*\u001b[39;49m\u001b[43margs\u001b[49m\u001b[43m)\u001b[49m\u001b[43m)\u001b[49m\n",
      "File \u001b[0;32m~/miniconda3/envs/qcodes/lib/python3.9/site-packages/qcodes/instrument/base.py:961\u001b[0m, in \u001b[0;36mInstrument.ask\u001b[0;34m(self, cmd)\u001b[0m\n\u001b[1;32m    959\u001b[0m inst \u001b[38;5;241m=\u001b[39m \u001b[38;5;28mrepr\u001b[39m(\u001b[38;5;28mself\u001b[39m)\n\u001b[1;32m    960\u001b[0m e\u001b[38;5;241m.\u001b[39margs \u001b[38;5;241m=\u001b[39m e\u001b[38;5;241m.\u001b[39margs \u001b[38;5;241m+\u001b[39m (\u001b[38;5;124m'\u001b[39m\u001b[38;5;124masking \u001b[39m\u001b[38;5;124m'\u001b[39m \u001b[38;5;241m+\u001b[39m \u001b[38;5;28mrepr\u001b[39m(cmd) \u001b[38;5;241m+\u001b[39m \u001b[38;5;124m'\u001b[39m\u001b[38;5;124m to \u001b[39m\u001b[38;5;124m'\u001b[39m \u001b[38;5;241m+\u001b[39m inst,)\n\u001b[0;32m--> 961\u001b[0m \u001b[38;5;28;01mraise\u001b[39;00m e\n",
      "File \u001b[0;32m~/miniconda3/envs/qcodes/lib/python3.9/site-packages/qcodes/instrument/base.py:954\u001b[0m, in \u001b[0;36mInstrument.ask\u001b[0;34m(self, cmd)\u001b[0m\n\u001b[1;32m    936\u001b[0m \u001b[38;5;124;03m\"\"\"\u001b[39;00m\n\u001b[1;32m    937\u001b[0m \u001b[38;5;124;03mWrite a command string to the hardware and return a response.\u001b[39;00m\n\u001b[1;32m    938\u001b[0m \n\u001b[0;32m   (...)\u001b[0m\n\u001b[1;32m    951\u001b[0m \u001b[38;5;124;03m        including the command and the instrument.\u001b[39;00m\n\u001b[1;32m    952\u001b[0m \u001b[38;5;124;03m\"\"\"\u001b[39;00m\n\u001b[1;32m    953\u001b[0m \u001b[38;5;28;01mtry\u001b[39;00m:\n\u001b[0;32m--> 954\u001b[0m     answer \u001b[38;5;241m=\u001b[39m \u001b[38;5;28;43mself\u001b[39;49m\u001b[38;5;241;43m.\u001b[39;49m\u001b[43mask_raw\u001b[49m\u001b[43m(\u001b[49m\u001b[43mcmd\u001b[49m\u001b[43m)\u001b[49m\n\u001b[1;32m    956\u001b[0m     \u001b[38;5;28;01mreturn\u001b[39;00m answer\n\u001b[1;32m    958\u001b[0m \u001b[38;5;28;01mexcept\u001b[39;00m \u001b[38;5;167;01mException\u001b[39;00m \u001b[38;5;28;01mas\u001b[39;00m e:\n",
      "File \u001b[0;32m~/miniconda3/envs/qcodes/lib/python3.9/site-packages/qcodes/instrument/visa.py:227\u001b[0m, in \u001b[0;36mVisaInstrument.ask_raw\u001b[0;34m(self, cmd)\u001b[0m\n\u001b[1;32m    225\u001b[0m \u001b[38;5;28;01mwith\u001b[39;00m DelayedKeyboardInterrupt():\n\u001b[1;32m    226\u001b[0m     \u001b[38;5;28mself\u001b[39m\u001b[38;5;241m.\u001b[39mvisa_log\u001b[38;5;241m.\u001b[39mdebug(\u001b[38;5;124mf\u001b[39m\u001b[38;5;124m\"\u001b[39m\u001b[38;5;124mQuerying: \u001b[39m\u001b[38;5;132;01m{\u001b[39;00mcmd\u001b[38;5;132;01m}\u001b[39;00m\u001b[38;5;124m\"\u001b[39m)\n\u001b[0;32m--> 227\u001b[0m     response \u001b[38;5;241m=\u001b[39m \u001b[38;5;28;43mself\u001b[39;49m\u001b[38;5;241;43m.\u001b[39;49m\u001b[43mvisa_handle\u001b[49m\u001b[38;5;241;43m.\u001b[39;49m\u001b[43mquery\u001b[49m\u001b[43m(\u001b[49m\u001b[43mcmd\u001b[49m\u001b[43m)\u001b[49m\n\u001b[1;32m    228\u001b[0m     \u001b[38;5;28mself\u001b[39m\u001b[38;5;241m.\u001b[39mvisa_log\u001b[38;5;241m.\u001b[39mdebug(\u001b[38;5;124mf\u001b[39m\u001b[38;5;124m\"\u001b[39m\u001b[38;5;124mResponse: \u001b[39m\u001b[38;5;132;01m{\u001b[39;00mresponse\u001b[38;5;132;01m}\u001b[39;00m\u001b[38;5;124m\"\u001b[39m)\n\u001b[1;32m    229\u001b[0m \u001b[38;5;28;01mreturn\u001b[39;00m response\n",
      "File \u001b[0;32m~/miniconda3/envs/qcodes/lib/python3.9/site-packages/pyvisa/resources/messagebased.py:644\u001b[0m, in \u001b[0;36mMessageBasedResource.query\u001b[0;34m(self, message, delay)\u001b[0m\n\u001b[1;32m    641\u001b[0m \u001b[38;5;28;01mif\u001b[39;00m delay \u001b[38;5;241m>\u001b[39m \u001b[38;5;241m0.0\u001b[39m:\n\u001b[1;32m    642\u001b[0m     time\u001b[38;5;241m.\u001b[39msleep(delay)\n\u001b[0;32m--> 644\u001b[0m \u001b[38;5;28;01mreturn\u001b[39;00m \u001b[38;5;28;43mself\u001b[39;49m\u001b[38;5;241;43m.\u001b[39;49m\u001b[43mread\u001b[49m\u001b[43m(\u001b[49m\u001b[43m)\u001b[49m\n",
      "File \u001b[0;32m~/miniconda3/envs/qcodes/lib/python3.9/site-packages/pyvisa/resources/messagebased.py:486\u001b[0m, in \u001b[0;36mMessageBasedResource.read\u001b[0;34m(self, termination, encoding)\u001b[0m\n\u001b[1;32m    484\u001b[0m \u001b[38;5;28;01mif\u001b[39;00m termination \u001b[38;5;129;01mis\u001b[39;00m \u001b[38;5;28;01mNone\u001b[39;00m:\n\u001b[1;32m    485\u001b[0m     termination \u001b[38;5;241m=\u001b[39m \u001b[38;5;28mself\u001b[39m\u001b[38;5;241m.\u001b[39m_read_termination\n\u001b[0;32m--> 486\u001b[0m     message \u001b[38;5;241m=\u001b[39m \u001b[38;5;28;43mself\u001b[39;49m\u001b[38;5;241;43m.\u001b[39;49m\u001b[43m_read_raw\u001b[49m\u001b[43m(\u001b[49m\u001b[43m)\u001b[49m\u001b[38;5;241m.\u001b[39mdecode(enco)\n\u001b[1;32m    487\u001b[0m \u001b[38;5;28;01melse\u001b[39;00m:\n\u001b[1;32m    488\u001b[0m     \u001b[38;5;28;01mwith\u001b[39;00m \u001b[38;5;28mself\u001b[39m\u001b[38;5;241m.\u001b[39mread_termination_context(termination):\n",
      "File \u001b[0;32m~/miniconda3/envs/qcodes/lib/python3.9/site-packages/pyvisa/resources/messagebased.py:442\u001b[0m, in \u001b[0;36mMessageBasedResource._read_raw\u001b[0;34m(self, size)\u001b[0m\n\u001b[1;32m    435\u001b[0m     \u001b[38;5;28;01mwhile\u001b[39;00m status \u001b[38;5;241m==\u001b[39m loop_status:\n\u001b[1;32m    436\u001b[0m         logger\u001b[38;5;241m.\u001b[39mdebug(\n\u001b[1;32m    437\u001b[0m             \u001b[38;5;124m\"\u001b[39m\u001b[38;5;132;01m%s\u001b[39;00m\u001b[38;5;124m - reading \u001b[39m\u001b[38;5;132;01m%d\u001b[39;00m\u001b[38;5;124m bytes (last status \u001b[39m\u001b[38;5;132;01m%r\u001b[39;00m\u001b[38;5;124m)\u001b[39m\u001b[38;5;124m\"\u001b[39m,\n\u001b[1;32m    438\u001b[0m             \u001b[38;5;28mself\u001b[39m\u001b[38;5;241m.\u001b[39m_resource_name,\n\u001b[1;32m    439\u001b[0m             size,\n\u001b[1;32m    440\u001b[0m             status,\n\u001b[1;32m    441\u001b[0m         )\n\u001b[0;32m--> 442\u001b[0m         chunk, status \u001b[38;5;241m=\u001b[39m \u001b[38;5;28;43mself\u001b[39;49m\u001b[38;5;241;43m.\u001b[39;49m\u001b[43mvisalib\u001b[49m\u001b[38;5;241;43m.\u001b[39;49m\u001b[43mread\u001b[49m\u001b[43m(\u001b[49m\u001b[38;5;28;43mself\u001b[39;49m\u001b[38;5;241;43m.\u001b[39;49m\u001b[43msession\u001b[49m\u001b[43m,\u001b[49m\u001b[43m \u001b[49m\u001b[43msize\u001b[49m\u001b[43m)\u001b[49m\n\u001b[1;32m    443\u001b[0m         ret\u001b[38;5;241m.\u001b[39mextend(chunk)\n\u001b[1;32m    444\u001b[0m \u001b[38;5;28;01mexcept\u001b[39;00m errors\u001b[38;5;241m.\u001b[39mVisaIOError \u001b[38;5;28;01mas\u001b[39;00m e:\n",
      "File \u001b[0;32m~/miniconda3/envs/qcodes/lib/python3.9/site-packages/pyvisa/ctwrapper/functions.py:2337\u001b[0m, in \u001b[0;36mread\u001b[0;34m(library, session, count)\u001b[0m\n\u001b[1;32m   2335\u001b[0m buffer \u001b[38;5;241m=\u001b[39m create_string_buffer(count)\n\u001b[1;32m   2336\u001b[0m return_count \u001b[38;5;241m=\u001b[39m ViUInt32()\n\u001b[0;32m-> 2337\u001b[0m ret \u001b[38;5;241m=\u001b[39m \u001b[43mlibrary\u001b[49m\u001b[38;5;241;43m.\u001b[39;49m\u001b[43mviRead\u001b[49m\u001b[43m(\u001b[49m\u001b[43msession\u001b[49m\u001b[43m,\u001b[49m\u001b[43m \u001b[49m\u001b[43mbuffer\u001b[49m\u001b[43m,\u001b[49m\u001b[43m \u001b[49m\u001b[43mcount\u001b[49m\u001b[43m,\u001b[49m\u001b[43m \u001b[49m\u001b[43mbyref\u001b[49m\u001b[43m(\u001b[49m\u001b[43mreturn_count\u001b[49m\u001b[43m)\u001b[49m\u001b[43m)\u001b[49m\n\u001b[1;32m   2338\u001b[0m \u001b[38;5;28;01mreturn\u001b[39;00m buffer\u001b[38;5;241m.\u001b[39mraw[: return_count\u001b[38;5;241m.\u001b[39mvalue], ret\n",
      "File \u001b[0;32m~/miniconda3/envs/qcodes/lib/python3.9/site-packages/pyvisa/ctwrapper/highlevel.py:222\u001b[0m, in \u001b[0;36mIVIVisaLibrary._return_handler\u001b[0;34m(self, ret_value, func, arguments)\u001b[0m\n\u001b[1;32m    219\u001b[0m         \u001b[38;5;66;03m# Set session back to a safe value\u001b[39;00m\n\u001b[1;32m    220\u001b[0m         session \u001b[38;5;241m=\u001b[39m \u001b[38;5;28;01mNone\u001b[39;00m\n\u001b[0;32m--> 222\u001b[0m \u001b[38;5;28;01mreturn\u001b[39;00m \u001b[38;5;28;43mself\u001b[39;49m\u001b[38;5;241;43m.\u001b[39;49m\u001b[43mhandle_return_value\u001b[49m\u001b[43m(\u001b[49m\u001b[43msession\u001b[49m\u001b[43m,\u001b[49m\u001b[43m \u001b[49m\u001b[43mret_value\u001b[49m\u001b[43m)\u001b[49m\n",
      "File \u001b[0;32m~/miniconda3/envs/qcodes/lib/python3.9/site-packages/pyvisa/highlevel.py:251\u001b[0m, in \u001b[0;36mVisaLibraryBase.handle_return_value\u001b[0;34m(self, session, status_code)\u001b[0m\n\u001b[1;32m    248\u001b[0m     \u001b[38;5;28mself\u001b[39m\u001b[38;5;241m.\u001b[39m_last_status_in_session[session] \u001b[38;5;241m=\u001b[39m rv\n\u001b[1;32m    250\u001b[0m \u001b[38;5;28;01mif\u001b[39;00m rv \u001b[38;5;241m<\u001b[39m \u001b[38;5;241m0\u001b[39m:\n\u001b[0;32m--> 251\u001b[0m     \u001b[38;5;28;01mraise\u001b[39;00m errors\u001b[38;5;241m.\u001b[39mVisaIOError(rv)\n\u001b[1;32m    253\u001b[0m \u001b[38;5;28;01mif\u001b[39;00m rv \u001b[38;5;129;01min\u001b[39;00m \u001b[38;5;28mself\u001b[39m\u001b[38;5;241m.\u001b[39missue_warning_on:\n\u001b[1;32m    254\u001b[0m     \u001b[38;5;28;01mif\u001b[39;00m session \u001b[38;5;129;01mand\u001b[39;00m rv \u001b[38;5;129;01mnot\u001b[39;00m \u001b[38;5;129;01min\u001b[39;00m \u001b[38;5;28mself\u001b[39m\u001b[38;5;241m.\u001b[39m_ignore_warning_in_session[session]:\n",
      "\u001b[0;31mVisaIOError\u001b[0m: ('VI_ERROR_TMO (-1073807339): Timeout expired before operation completed.', \"asking ':SOUR:FUNC?' to <GS200: gs200>\", 'getting gs200_source_mode')"
     ]
    }
   ],
   "source": [
    "# importing an instrument driver\n",
    "from qcodes.instrument_drivers.yokogawa.GS200 import GS200\n",
    "\n",
    "# intialize the instrument with the following parameters\n",
    "\n",
    "# the instrument is initialized and stored as a variable gs, where \"gs200\" is its name\n",
    "gs = GS200(\"gs200\", address=ni_rm_interface.value, terminator=\"\\n\")\n",
    "\n",
    "# close the pyvisa-py resource manager:\n",
    "py_rm.close()"
   ]
  },
  {
   "cell_type": "code",
   "execution_count": null,
   "id": "586c4534-c429-4eaa-a86d-9dfa6f17df3f",
   "metadata": {},
   "outputs": [],
   "source": []
  }
 ],
 "metadata": {
  "kernelspec": {
   "display_name": "Python 3 (ipykernel)",
   "language": "python",
   "name": "python3"
  },
  "language_info": {
   "codemirror_mode": {
    "name": "ipython",
    "version": 3
   },
   "file_extension": ".py",
   "mimetype": "text/x-python",
   "name": "python",
   "nbconvert_exporter": "python",
   "pygments_lexer": "ipython3",
   "version": "3.9.12"
  }
 },
 "nbformat": 4,
 "nbformat_minor": 5
}
