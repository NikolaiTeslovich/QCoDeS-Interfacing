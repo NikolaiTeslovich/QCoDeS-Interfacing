{
 "cells": [
  {
   "cell_type": "markdown",
   "id": "2efe80d5-97c7-4245-bc90-ba3e15553e05",
   "metadata": {},
   "source": [
    "A simple jupyter widgets voltage/current selector button for the GS210"
   ]
  },
  {
   "cell_type": "code",
   "execution_count": null,
   "id": "35f76fee-62c6-482c-a655-ebffaf77ed3f",
   "metadata": {},
   "outputs": [
    {
     "name": "stderr",
     "output_type": "stream",
     "text": [
      "/home/nikolai/miniconda3/envs/qcodes/lib/python3.9/site-packages/gpib_ctypes/gpib/gpib.py:54: UserWarning: GPIB library not found. Please manually load it using _load_lib(filename). All GPIB functions will raise OSError until the library is manually loaded.\n",
      "  warnings.warn(message)\n"
     ]
    }
   ],
   "source": [
    "# importing packages\n",
    "import numpy as np\n",
    "import time\n",
    "import qcodes\n",
    "import pyvisa as visa\n",
    "import ipywidgets as widgets\n",
    "# enable to get a more debuggable output:\n",
    "#visa.log_to_screen()\n",
    "\n",
    "# pyvisa-py resource manager\n",
    "py_rm = visa.ResourceManager('@py')\n",
    "# national instruments resource manager\n",
    "ni_rm = visa.ResourceManager()"
   ]
  },
  {
   "cell_type": "code",
   "execution_count": 2,
   "id": "9e26eca0-df8d-498e-b6b1-5ee09023c28a",
   "metadata": {},
   "outputs": [
    {
     "data": {
      "application/vnd.jupyter.widget-view+json": {
       "model_id": "aec98b56edf44c61a4b17e9f1f1520b0",
       "version_major": 2,
       "version_minor": 0
      },
      "text/plain": [
       "Dropdown(description='py Interface:', layout=Layout(width='max-content'), options=('ASRL/dev/ttyS4::INSTR', 'U…"
      ]
     },
     "metadata": {},
     "output_type": "display_data"
    }
   ],
   "source": [
    "# show the interfaces that the visapy-py backend detects\n",
    "py_rm_interface = widgets.Dropdown(\n",
    "    options=py_rm.list_resources(),\n",
    "    #value='2',\n",
    "    description='py Interface:',\n",
    "    disabled=False,\n",
    "    layout={'width': 'max-content'}\n",
    ")\n",
    "\n",
    "display(py_rm_interface)"
   ]
  },
  {
   "cell_type": "code",
   "execution_count": 3,
   "id": "e0098ea3-3366-4898-a7fe-eed44f855590",
   "metadata": {},
   "outputs": [
    {
     "data": {
      "application/vnd.jupyter.widget-view+json": {
       "model_id": "d2dbd29036204dedadb9bff80689f7c0",
       "version_major": 2,
       "version_minor": 0
      },
      "text/plain": [
       "Dropdown(description='ni Interface:', layout=Layout(width='max-content'), options=('USB0::0x0B21::0x0039::91LA…"
      ]
     },
     "metadata": {},
     "output_type": "display_data"
    }
   ],
   "source": [
    "### IMPORTANT ###\n",
    "# for some reason, the USB interface of the instrument has to be opened with the pyvisa-py resource manager before ni-visa\n",
    "\n",
    "# so, open whichever interface was selected in the prior cell\n",
    "py_rm.open_resource(py_rm_interface.value)\n",
    "\n",
    "# show the interfaces that the pyvisa-py backend detects\n",
    "ni_rm_interface = widgets.Dropdown(\n",
    "    options=ni_rm.list_resources(),\n",
    "    #value='2',\n",
    "    description='ni Interface:',\n",
    "    disabled=False,\n",
    "    layout={'width': 'max-content'}\n",
    ")\n",
    "\n",
    "display(ni_rm_interface)"
   ]
  },
  {
   "cell_type": "code",
   "execution_count": 4,
   "id": "41776219-2d8c-4be8-9b40-60a2d9f2b492",
   "metadata": {},
   "outputs": [
    {
     "name": "stdout",
     "output_type": "stream",
     "text": [
      "Connected to: YOKOGAWA GS210 (serial:91LA25023, firmware:1.05) in 0.25s\n"
     ]
    }
   ],
   "source": [
    "# importing an instrument driver\n",
    "from qcodes.instrument_drivers.yokogawa.GS200 import GS200\n",
    "\n",
    "# intialize the instrument with the following parameters\n",
    "\n",
    "# the instrument is initialized and stored as a variable gs, where \"gs200\" is its name\n",
    "gs = GS200(\"gs200\", address=ni_rm_interface.value, terminator=\"\\n\")\n",
    "\n",
    "# close the pyvisa-py resource manager:\n",
    "py_rm.close()"
   ]
  },
  {
   "cell_type": "code",
   "execution_count": 5,
   "id": "77986df8-3c77-4bcc-a31c-10e15df9caa1",
   "metadata": {},
   "outputs": [],
   "source": [
    "# resetting the instrument\n",
    "gs.reset()\n",
    "gs.auto_range(True)"
   ]
  },
  {
   "cell_type": "code",
   "execution_count": 6,
   "id": "99404ff4-94c1-4ea9-876a-3aa9480931b0",
   "metadata": {},
   "outputs": [
    {
     "data": {
      "application/vnd.jupyter.widget-view+json": {
       "model_id": "23a8d485417c4364b61fc89b45c89247",
       "version_major": 2,
       "version_minor": 0
      },
      "text/plain": [
       "ToggleButtons(description='Mode:', options=('Voltage', 'Current'), value='Voltage')"
      ]
     },
     "metadata": {},
     "output_type": "display_data"
    }
   ],
   "source": [
    "# code for the toggle buttons to work with the GS210\n",
    "import ipywidgets as widgets\n",
    "from IPython.display import display\n",
    "mode_toggle = widgets.ToggleButtons(\n",
    "    options=['Voltage', 'Current'],\n",
    "    description='Mode:',\n",
    "    disabled=False,\n",
    "    button_style='', # 'success', 'info', 'warning', 'danger' or ''\n",
    "    #tooltips=['Description of slow', 'Description of regular', 'Description of fast'],\n",
    "#     icons=['check'] * 3\n",
    ")\n",
    "\n",
    "def changed(change):\n",
    "    print(mode_toggle.value)\n",
    "    gs.source_mode(mode_toggle.value[:4].upper())\n",
    "    \n",
    "mode_toggle.observe(changed, 'value')\n",
    "\n",
    "mode_toggle"
   ]
  },
  {
   "cell_type": "code",
   "execution_count": 7,
   "id": "8e9af780-cc4b-46a3-b2b2-f2a21f7e1d17",
   "metadata": {},
   "outputs": [],
   "source": [
    "# close the interface\n",
    "gs.close()"
   ]
  }
 ],
 "metadata": {
  "kernelspec": {
   "display_name": "Python 3 (ipykernel)",
   "language": "python",
   "name": "python3"
  },
  "language_info": {
   "codemirror_mode": {
    "name": "ipython",
    "version": 3
   },
   "file_extension": ".py",
   "mimetype": "text/x-python",
   "name": "python",
   "nbconvert_exporter": "python",
   "pygments_lexer": "ipython3",
   "version": "3.9.12"
  }
 },
 "nbformat": 4,
 "nbformat_minor": 5
}
