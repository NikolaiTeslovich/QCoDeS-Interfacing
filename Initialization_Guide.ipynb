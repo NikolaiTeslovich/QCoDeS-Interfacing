{
 "cells": [
  {
   "cell_type": "markdown",
   "id": "1178b8c0-0728-4f0b-91c6-63a1ec7250ad",
   "metadata": {
    "tags": []
   },
   "source": [
    "# Example of initializing an instrument with pyvisa in QCoDeS over a USB interface"
   ]
  },
  {
   "cell_type": "markdown",
   "id": "27776cda-efbf-4a7e-a698-8796c714538d",
   "metadata": {},
   "source": [
    "Based on the following [QCoDeS example documentation](https://qcodes.github.io/Qcodes/examples/driver_examples/Qcodes%20example%20with%20Yokogawa%20GS2xx.html), expect that a different method is used to connect to the instrument. Simply initializing the ni-visa backend did not work for some reason, so first the pyvisa-py backend opens a connection with the interface, followed by the ni-visa backend. Only then is the instrument properly recognized and can connect."
   ]
  },
  {
   "cell_type": "code",
   "execution_count": 1,
   "id": "e028de37-84b0-4b2c-8e64-329d15a6dda7",
   "metadata": {},
   "outputs": [
    {
     "name": "stderr",
     "output_type": "stream",
     "text": [
      "/home/nikolai/miniconda3/envs/qcodes/lib/python3.9/site-packages/gpib_ctypes/gpib/gpib.py:54: UserWarning: GPIB library not found. Please manually load it using _load_lib(filename). All GPIB functions will raise OSError until the library is manually loaded.\n",
      "  warnings.warn(message)\n"
     ]
    },
    {
     "name": "stdout",
     "output_type": "stream",
     "text": [
      "Resource Manager of Visa Library at py\n",
      "Resource Manager of Visa Library at /usr/lib/x86_64-linux-gnu/libvisa.so.21.5.0\n"
     ]
    }
   ],
   "source": [
    "# importing packages\n",
    "import numpy as np\n",
    "import time\n",
    "import qcodes\n",
    "import pyvisa as visa\n",
    "# enable to get a more debuggable output:\n",
    "#visa.log_to_screen()\n",
    "\n",
    "# importing an instrument driver\n",
    "from qcodes.instrument_drivers.yokogawa.GS200 import GS200\n",
    "# visapy-py resource manager\n",
    "py_rm = visa.ResourceManager('@py')\n",
    "# national instruments resource manager\n",
    "ni_rm = visa.ResourceManager()\n",
    "\n",
    "print(py_rm)\n",
    "print(ni_rm) "
   ]
  },
  {
   "cell_type": "code",
   "execution_count": 2,
   "id": "aaa219e5-d9f9-4cf5-b3a4-08d80ffcba49",
   "metadata": {},
   "outputs": [
    {
     "name": "stdout",
     "output_type": "stream",
     "text": [
      "visa-py: ('ASRL/dev/ttyS4::INSTR', 'USB0::2849::57::91LA25023::0::INSTR')\n"
     ]
    }
   ],
   "source": [
    "# print out the interfaces that are connected using the visapy-py resource manager\n",
    "print(\"visa-py: \" + str(py_rm.list_resources()))"
   ]
  },
  {
   "cell_type": "code",
   "execution_count": 3,
   "id": "290cb6fb-c420-46e0-9fa6-0231cc72cb20",
   "metadata": {},
   "outputs": [
    {
     "name": "stdout",
     "output_type": "stream",
     "text": [
      "visa-ni: ('USB0::0x0B21::0x0039::91LA25023::INSTR', 'ASRL5::INSTR')\n"
     ]
    }
   ],
   "source": [
    "### IMPORTANT ###\n",
    "# for some reason, the USB interface of the instrument has to be opened with the visapy-py resource manager before ni-visa\n",
    "\n",
    "# so, open the USB interface, the one with `USB`, which is in position 1 of the list\n",
    "py_rm.open_resource(py_rm.list_resources()[1])\n",
    "\n",
    "# print out the interfaces that are connected using the visa-ni resource manager\n",
    "print(\"visa-ni: \" + str(ni_rm.list_resources()))"
   ]
  },
  {
   "cell_type": "code",
   "execution_count": 4,
   "id": "24567cca-90cc-4d36-b36a-67a593faee17",
   "metadata": {},
   "outputs": [
    {
     "name": "stdout",
     "output_type": "stream",
     "text": [
      "Connected to: YOKOGAWA GS210 (serial:91LA25023, firmware:1.05) in 0.25s\n"
     ]
    }
   ],
   "source": [
    "# intialize the instrument with the following parameters\n",
    "\n",
    "# the USB interface address is in the list position 0 of the ni-visa backend and this is stored as a variable\n",
    "gs_addr = ni_rm.list_resources()[0]\n",
    "\n",
    "# the instrument is initialized and stored as a variable gs, where \"gs200\" is its name\n",
    "gs = GS200(\"gs200\", address=gs_addr, terminator=\"\\n\")"
   ]
  }
 ],
 "metadata": {
  "kernelspec": {
   "display_name": "Python 3 (ipykernel)",
   "language": "python",
   "name": "python3"
  },
  "language_info": {
   "codemirror_mode": {
    "name": "ipython",
    "version": 3
   },
   "file_extension": ".py",
   "mimetype": "text/x-python",
   "name": "python",
   "nbconvert_exporter": "python",
   "pygments_lexer": "ipython3",
   "version": "3.9.12"
  }
 },
 "nbformat": 4,
 "nbformat_minor": 5
}
