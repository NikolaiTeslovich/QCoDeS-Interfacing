{
 "cells": [
  {
   "cell_type": "code",
   "execution_count": 1,
   "id": "e028de37-84b0-4b2c-8e64-329d15a6dda7",
   "metadata": {},
   "outputs": [
    {
     "name": "stdout",
     "output_type": "stream",
     "text": [
      "Resource Manager of Visa Library at py\n"
     ]
    }
   ],
   "source": [
    "# importing packages\n",
    "import pandas as pd\n",
    "import numpy as np\n",
    "import time\n",
    "import qcodes as qc\n",
    "import pyvisa as visa\n",
    "import ipywidgets as widgets\n",
    "# enable to get a more debuggable output:\n",
    "#visa.log_to_screen()\n",
    "\n",
    "# importing the instrument driver packages: \n",
    "from qcodes.instrument_drivers.yokogawa.GS200 import GS200\n",
    "from qcodes.instrument_drivers.tektronix.Keithley_2400 import Keithley_2400\n",
    "\n",
    "# pyvisa-py resource manager\n",
    "rm = visa.ResourceManager('@py')\n",
    "\n",
    "print(rm)"
   ]
  },
  {
   "cell_type": "code",
   "execution_count": 2,
   "id": "708c1ddc-85c8-42ab-88f0-0a1a64da9323",
   "metadata": {},
   "outputs": [
    {
     "name": "stderr",
     "output_type": "stream",
     "text": [
      "libgpib: invalid descriptor\n",
      "libgpib: invalid descriptor\n",
      "libgpib: invalid descriptor\n",
      "libgpib: invalid descriptor\n",
      "libgpib: invalid descriptor\n",
      "libgpib: invalid descriptor\n",
      "libgpib: invalid descriptor\n",
      "libgpib: invalid descriptor\n",
      "libgpib: invalid descriptor\n",
      "libgpib: invalid descriptor\n",
      "libgpib: invalid descriptor\n",
      "libgpib: invalid descriptor\n",
      "libgpib: invalid descriptor\n",
      "libgpib: invalid descriptor\n",
      "libgpib: invalid descriptor\n",
      "libgpib: invalid descriptor\n",
      "libgpib: invalid descriptor\n",
      "libgpib: invalid descriptor\n",
      "libgpib: invalid descriptor\n",
      "libgpib: invalid descriptor\n",
      "libgpib: invalid descriptor\n",
      "libgpib: invalid descriptor\n",
      "libgpib: invalid descriptor\n",
      "libgpib: invalid descriptor\n",
      "libgpib: invalid descriptor\n",
      "libgpib: invalid descriptor\n",
      "libgpib: invalid descriptor\n",
      "libgpib: invalid descriptor\n",
      "libgpib: invalid descriptor\n",
      "libgpib: invalid descriptor\n",
      "libgpib: invalid descriptor\n",
      "libgpib: invalid descriptor\n",
      "libgpib: invalid descriptor\n",
      "libgpib: invalid descriptor\n",
      "libgpib: invalid descriptor\n",
      "libgpib: invalid descriptor\n",
      "libgpib: invalid descriptor\n",
      "libgpib: invalid descriptor\n",
      "libgpib: invalid descriptor\n",
      "libgpib: invalid descriptor\n",
      "libgpib: invalid descriptor\n",
      "libgpib: invalid descriptor\n",
      "libgpib: invalid descriptor\n",
      "libgpib: invalid descriptor\n",
      "libgpib: invalid descriptor\n",
      "libgpib: invalid descriptor\n",
      "libgpib: invalid descriptor\n",
      "libgpib: invalid descriptor\n",
      "libgpib: invalid descriptor\n",
      "libgpib: invalid descriptor\n",
      "libgpib: invalid descriptor\n",
      "libgpib: invalid descriptor\n",
      "libgpib: invalid descriptor\n",
      "libgpib: invalid descriptor\n",
      "libgpib: invalid descriptor\n",
      "libgpib: invalid descriptor\n",
      "libgpib: invalid descriptor\n",
      "libgpib: invalid descriptor\n",
      "libgpib: invalid descriptor\n",
      "libgpib: invalid descriptor\n"
     ]
    },
    {
     "name": "stdout",
     "output_type": "stream",
     "text": [
      "Connected to: YOKOGAWA GS210 (serial:91LA25023, firmware:1.05) in 0.18s\n",
      "Connected to: KEITHLEY INSTRUMENTS INC. 2400 (serial:1371034, firmware:C32   Oct  4 2010 14:20:11/A02  /S/K) in 0.19s\n"
     ]
    }
   ],
   "source": [
    "# list the resources that the visapy-py backend detects, should look something like:\n",
    "# `('ASRL/dev/ttyS4::INSTR', 'USB0::2849::57::91LA25023::0::INSTR')`\n",
    "resources = rm.list_resources()\n",
    "\n",
    "# intialize the instrument with the following parameters:\n",
    "\n",
    "# the instrument is initialized and stored as a variable gs, where \"gs200\" is its name\n",
    "gs = GS200(\"gs200\", address=resources[0], terminator=\"\\n\")\n",
    "\n",
    "# the instrument is initialized and stored as a variable gs, where \"keith\" is its name\n",
    "keith = Keithley_2400(\"keithley2400\", address=resources[1])"
   ]
  },
  {
   "cell_type": "code",
   "execution_count": 3,
   "id": "2fa8a115-23a5-47bd-bda9-6421b19efb4e",
   "metadata": {},
   "outputs": [],
   "source": [
    "station = qc.Station()"
   ]
  },
  {
   "cell_type": "code",
   "execution_count": 4,
   "id": "9d658e12-26ef-43e4-b446-e4e2419f7ddc",
   "metadata": {},
   "outputs": [
    {
     "name": "stderr",
     "output_type": "stream",
     "text": [
      "[gs200_program(GS200Program)] Snapshot: Could not update parameter: trigger\n"
     ]
    },
    {
     "data": {
      "text/plain": [
       "'keithley2400'"
      ]
     },
     "execution_count": 4,
     "metadata": {},
     "output_type": "execute_result"
    }
   ],
   "source": [
    "station.add_component(gs)\n",
    "station.add_component(keith)"
   ]
  },
  {
   "cell_type": "code",
   "execution_count": 5,
   "id": "c40a3961-ef77-4e6b-b4e0-c653f0a90e46",
   "metadata": {},
   "outputs": [
    {
     "name": "stdout",
     "output_type": "stream",
     "text": [
      "keithley2400:\n",
      "\tparameter  value\n",
      "--------------------------------------------------------------------------------\n",
      "IDN         :\t{'vendor': 'KEITHLEY INSTRUMENTS INC.', 'model': '2400', 'seria...\n",
      "compliancei :\t1e-06 \n",
      "compliancev :\t3 \n",
      "curr        :\t-1.1742e-07 (A)\n",
      "mode        :\tVOLT \n",
      "nplci       :\t1 \n",
      "nplcv       :\t1 \n",
      "output      :\tTrue \n",
      "rangei      :\t1.05e-06 \n",
      "rangev      :\t210 \n",
      "resistance  :\t59537 (Ohm)\n",
      "sense       :\t\"VOLT:DC\",\"CURR:DC\" \n",
      "timeout     :\t10 (s)\n",
      "volt        :\t-0.0069671 (V)\n"
     ]
    }
   ],
   "source": [
    "keith.print_readable_snapshot()"
   ]
  },
  {
   "cell_type": "code",
   "execution_count": 6,
   "id": "b8dbf798-e58d-46bc-9f48-2974765235a1",
   "metadata": {},
   "outputs": [
    {
     "name": "stdout",
     "output_type": "stream",
     "text": [
      "gs200:\n",
      "\tparameter    value\n",
      "--------------------------------------------------------------------------------\n",
      "BNC_in        :\tTRIG \n",
      "BNC_out       :\tTRIG \n",
      "IDN           :\t{'vendor': 'YOKOGAWA', 'model': 'GS210', 'serial': '91LA25023...\n",
      "auto_range    :\tFalse \n",
      "current       :\t0 (I)\n",
      "current_limit :\t0.2 (I)\n",
      "current_range :\t0.001 (I)\n",
      "four_wire     :\toff \n",
      "guard         :\toff \n",
      "line_freq     :\t60 (Hz)\n",
      "output        :\ton \n",
      "output_level  :\t0 (I)\n",
      "range         :\t0.001 (I)\n",
      "source_mode   :\tCURR \n",
      "system_errors :\t-113,\"Undefined header, TRIG\" \n",
      "timeout       :\t10 (s)\n",
      "voltage_limit :\t30 (V)\n"
     ]
    },
    {
     "ename": "ValueError",
     "evalue": "max() arg is an empty sequence",
     "output_type": "error",
     "traceback": [
      "\u001b[0;31m---------------------------------------------------------------------------\u001b[0m",
      "\u001b[0;31mValueError\u001b[0m                                Traceback (most recent call last)",
      "Input \u001b[0;32mIn [6]\u001b[0m, in \u001b[0;36m<cell line: 1>\u001b[0;34m()\u001b[0m\n\u001b[0;32m----> 1\u001b[0m \u001b[43mgs\u001b[49m\u001b[38;5;241;43m.\u001b[39;49m\u001b[43mprint_readable_snapshot\u001b[49m\u001b[43m(\u001b[49m\u001b[43m)\u001b[49m\n",
      "File \u001b[0;32m/usr/local/lib/python3.10/dist-packages/qcodes/instrument/base.py:336\u001b[0m, in \u001b[0;36mInstrumentBase.print_readable_snapshot\u001b[0;34m(self, update, max_chars)\u001b[0m\n\u001b[1;32m    333\u001b[0m     \u001b[38;5;28mprint\u001b[39m(msg)\n\u001b[1;32m    335\u001b[0m \u001b[38;5;28;01mfor\u001b[39;00m submodule \u001b[38;5;129;01min\u001b[39;00m \u001b[38;5;28mself\u001b[39m\u001b[38;5;241m.\u001b[39msubmodules\u001b[38;5;241m.\u001b[39mvalues():\n\u001b[0;32m--> 336\u001b[0m     \u001b[43msubmodule\u001b[49m\u001b[38;5;241;43m.\u001b[39;49m\u001b[43mprint_readable_snapshot\u001b[49m\u001b[43m(\u001b[49m\u001b[43mupdate\u001b[49m\u001b[38;5;241;43m=\u001b[39;49m\u001b[43mupdate\u001b[49m\u001b[43m,\u001b[49m\n\u001b[1;32m    337\u001b[0m \u001b[43m                                      \u001b[49m\u001b[43mmax_chars\u001b[49m\u001b[38;5;241;43m=\u001b[39;49m\u001b[43mmax_chars\u001b[49m\u001b[43m)\u001b[49m\n",
      "File \u001b[0;32m/usr/local/lib/python3.10/dist-packages/qcodes/instrument/base.py:305\u001b[0m, in \u001b[0;36mInstrumentBase.print_readable_snapshot\u001b[0;34m(self, update, max_chars)\u001b[0m\n\u001b[1;32m    301\u001b[0m par_lengths \u001b[38;5;241m=\u001b[39m [\u001b[38;5;28mlen\u001b[39m(p) \u001b[38;5;28;01mfor\u001b[39;00m p \u001b[38;5;129;01min\u001b[39;00m snapshot[\u001b[38;5;124m'\u001b[39m\u001b[38;5;124mparameters\u001b[39m\u001b[38;5;124m'\u001b[39m]]\n\u001b[1;32m    303\u001b[0m \u001b[38;5;66;03m# Min of 50 is to prevent a super long parameter name to break this\u001b[39;00m\n\u001b[1;32m    304\u001b[0m \u001b[38;5;66;03m# function\u001b[39;00m\n\u001b[0;32m--> 305\u001b[0m par_field_len \u001b[38;5;241m=\u001b[39m \u001b[38;5;28mmin\u001b[39m(\u001b[38;5;28;43mmax\u001b[39;49m\u001b[43m(\u001b[49m\u001b[43mpar_lengths\u001b[49m\u001b[43m)\u001b[49m\u001b[38;5;241m+\u001b[39m\u001b[38;5;241m1\u001b[39m, \u001b[38;5;241m50\u001b[39m)\n\u001b[1;32m    307\u001b[0m \u001b[38;5;28mprint\u001b[39m(\u001b[38;5;28mself\u001b[39m\u001b[38;5;241m.\u001b[39mname \u001b[38;5;241m+\u001b[39m \u001b[38;5;124m'\u001b[39m\u001b[38;5;124m:\u001b[39m\u001b[38;5;124m'\u001b[39m)\n\u001b[1;32m    308\u001b[0m \u001b[38;5;28mprint\u001b[39m(\u001b[38;5;124m'\u001b[39m\u001b[38;5;124m{\u001b[39m\u001b[38;5;124m0:<\u001b[39m\u001b[38;5;132;01m{1}\u001b[39;00m\u001b[38;5;124m}\u001b[39m\u001b[38;5;124m'\u001b[39m\u001b[38;5;241m.\u001b[39mformat(\u001b[38;5;124m'\u001b[39m\u001b[38;5;130;01m\\t\u001b[39;00m\u001b[38;5;124mparameter \u001b[39m\u001b[38;5;124m'\u001b[39m, par_field_len) \u001b[38;5;241m+\u001b[39m \u001b[38;5;124m'\u001b[39m\u001b[38;5;124mvalue\u001b[39m\u001b[38;5;124m'\u001b[39m)\n",
      "\u001b[0;31mValueError\u001b[0m: max() arg is an empty sequence"
     ]
    }
   ],
   "source": [
    "gs.print_readable_snapshot()"
   ]
  },
  {
   "cell_type": "code",
   "execution_count": 7,
   "id": "bfede977-2aea-4023-980c-75b67443a015",
   "metadata": {},
   "outputs": [],
   "source": [
    "import numpy as np\n",
    "import qcodes as qc\n",
    "from qcodes.dataset import (\n",
    "    Measurement,\n",
    "    experiments,\n",
    "    initialise_or_create_database_at,\n",
    "    load_by_run_spec,\n",
    "    load_or_create_experiment,\n",
    ")\n",
    "\n",
    "## Dummy instruments for generating synthetic data\n",
    "from qcodes.tests.instrument_mocks import (\n",
    "    DummyInstrument, \n",
    "    DummyInstrumentWithMeasurement\n",
    ")\n",
    "\n",
    "## Multidimensional scanning module\n",
    "from qcodes.utils.dataset.doNd import (\n",
    "    dond, \n",
    "    LinSweep, \n",
    "    LogSweep\n",
    ")\n",
    "\n",
    "## Integrated plotting module\n",
    "from qcodes.dataset.plotting import plot_dataset\n",
    "\n",
    "## Using interactive widget\n",
    "from qcodes.interactive_widget import experiments_widget"
   ]
  },
  {
   "cell_type": "code",
   "execution_count": 8,
   "id": "313e0cd2-b364-4a20-905a-441bc2f11173",
   "metadata": {},
   "outputs": [],
   "source": [
    "gs.reset()\n",
    "gs.source_mode('CURR')\n",
    "gs.current(0)\n",
    "gs.auto_range(True)\n",
    "gs.output('on')"
   ]
  },
  {
   "cell_type": "code",
   "execution_count": 9,
   "id": "9f6bfd4c-b156-43de-9647-92eda1c55a89",
   "metadata": {},
   "outputs": [],
   "source": [
    "keith.reset()"
   ]
  },
  {
   "cell_type": "code",
   "execution_count": 10,
   "id": "48a63f78-9d72-4d42-9058-3cda1e7ae284",
   "metadata": {},
   "outputs": [],
   "source": [
    "# lower the compliance current all the way\n",
    "#keith.mode('VOLT')\n",
    "keith._set_mode_and_sense('CURR')\n",
    "keith._set_mode_and_sense('VOLT')\n",
    "keith.compliancei(1e-06)\n",
    "keith.rangev(30)\n",
    "#keith.sense()\n",
    "keith.output(1)\n",
    "# resetting the instrument"
   ]
  },
  {
   "cell_type": "code",
   "execution_count": 11,
   "id": "d31543ad-04c7-42f0-9072-848e85afe03d",
   "metadata": {},
   "outputs": [],
   "source": [
    "initialise_or_create_database_at(\"~/leds.db\")"
   ]
  },
  {
   "cell_type": "code",
   "execution_count": 12,
   "id": "b279aa59-ade4-4392-ba0b-905e16bf355f",
   "metadata": {},
   "outputs": [],
   "source": [
    "leds_exp = load_or_create_experiment(\n",
    "    experiment_name=\"leds_exp\",\n",
    "    sample_name=\"red_data\"\n",
    ")"
   ]
  },
  {
   "cell_type": "code",
   "execution_count": 13,
   "id": "4f108520-d6e8-484d-9988-c1ba50dfc549",
   "metadata": {},
   "outputs": [],
   "source": [
    "context_meas = Measurement(exp=leds_exp, name='context_example')"
   ]
  },
  {
   "cell_type": "code",
   "execution_count": 14,
   "id": "a512741c-75dd-4dd4-9020-9b225995d5ef",
   "metadata": {},
   "outputs": [
    {
     "data": {
      "text/plain": [
       "<qcodes.dataset.measurements.Measurement at 0x7fe820d00610>"
      ]
     },
     "execution_count": 14,
     "metadata": {},
     "output_type": "execute_result"
    }
   ],
   "source": [
    "# Register the independent parameter...\n",
    "context_meas.register_parameter(gs.current)\n",
    "# ...then register the dependent parameter\n",
    "context_meas.register_parameter(keith.volt, setpoints=(gs.current,))"
   ]
  },
  {
   "cell_type": "code",
   "execution_count": 91,
   "id": "ea017c9f-7ef8-4889-a69a-20cdacd9bd51",
   "metadata": {},
   "outputs": [],
   "source": [
    "# Setting up a doNd measurement\n",
    "sweep_1 = LinSweep(gs.current, 0.0000008, 0.0000012, 40, 0.01)"
   ]
  },
  {
   "cell_type": "code",
   "execution_count": 101,
   "id": "98b8d634-6008-4f78-96d3-7614cd956ece",
   "metadata": {},
   "outputs": [
    {
     "name": "stdout",
     "output_type": "stream",
     "text": [
      "Starting experimental run with id: 66. Using 'qcodes.dataset.dond'\n"
     ]
    },
    {
     "data": {
      "application/vnd.jupyter.widget-view+json": {
       "model_id": "06fc70bf24914b28948cd0d8f1166a55",
       "version_major": 2,
       "version_minor": 0
      },
      "text/plain": [
       "  0%|          | 0/40 [00:00<?, ?it/s]"
      ]
     },
     "metadata": {},
     "output_type": "display_data"
    },
    {
     "data": {
      "text/plain": [
       "(dond_example #66@/root/leds.db\n",
       " ------------------------------\n",
       " gs200_current - numeric\n",
       " keithley2400_volt - numeric,\n",
       " [None],\n",
       " [None])"
      ]
     },
     "execution_count": 101,
     "metadata": {},
     "output_type": "execute_result"
    }
   ],
   "source": [
    "gs.current(0)\n",
    "\n",
    "dond(\n",
    "    sweep_1,                          # 1st independent parameter\n",
    "    keith.volt,                 # 1st dependent parameter\n",
    "    measurement_name=\"dond_example\",  # Set the measurement name\n",
    "    exp=leds_exp,             # Set the experiment to save data to.\n",
    "    show_progress=True                # Optional progress bar\n",
    ")"
   ]
  },
  {
   "cell_type": "code",
   "execution_count": 102,
   "id": "f2a7ceee-48ce-4e47-a381-7dc00538ded8",
   "metadata": {},
   "outputs": [
    {
     "data": {
      "text/plain": [
       "[leds_exp#green_data#1@/root/leds.db\n",
       " -----------------------------------\n",
       " 1-dond_example-1-gs200_current,keithley2400_volt-50\n",
       " 2-dond_example-2-gs200_current,keithley2400_volt-500\n",
       " 3-dond_example-3-gs200_current,keithley2400_volt-100\n",
       " 4-dond_example-4-gs200_current,keithley2400_volt-100\n",
       " 5-dond_example-5-gs200_current,keithley2400_volt-100\n",
       " 6-dond_example-6-gs200_voltage,keithley2400_curr-100\n",
       " 7-dond_example-7-gs200_voltage,keithley2400_curr-100\n",
       " 8-dond_example-8-gs200_voltage,keithley2400_curr-100\n",
       " 9-dond_example-9-gs200_voltage,keithley2400_curr-100\n",
       " 10-dond_example-10-gs200_voltage,keithley2400_curr-100\n",
       " 11-dond_example-11-gs200_voltage,keithley2400_curr-100\n",
       " 12-dond_example-12-gs200_voltage,keithley2400_curr-100\n",
       " 13-dond_example-13-gs200_voltage,keithley2400_curr-100\n",
       " 14-dond_example-14-gs200_voltage,keithley2400_curr-100\n",
       " 15-dond_example-15-gs200_voltage,keithley2400_curr-100\n",
       " 16-dond_example-16-gs200_voltage,keithley2400_curr-100\n",
       " 17-dond_example-17-gs200_voltage,keithley2400_curr-100\n",
       " 18-dond_example-18-gs200_voltage,keithley2400_curr-100\n",
       " 19-dond_example-19-gs200_voltage,keithley2400_curr-100\n",
       " 20-dond_example-20-gs200_voltage,keithley2400_curr-100\n",
       " 21-dond_example-21-gs200_voltage,keithley2400_curr-100,\n",
       " leds_exp#red_data#2@/root/leds.db\n",
       " ---------------------------------\n",
       " 22-dond_example-1-gs200_current,keithley2400_volt-100\n",
       " 23-dond_example-2-gs200_current,keithley2400_volt-100\n",
       " 24-dond_example-3-gs200_current,keithley2400_volt-100\n",
       " 25-dond_example-4-gs200_current,keithley2400_volt-100\n",
       " 26-dond_example-5-gs200_current,keithley2400_volt-0\n",
       " 27-dond_example-6-gs200_current,keithley2400_volt-0\n",
       " 28-dond_example-7-gs200_current,keithley2400_volt-0\n",
       " 29-dond_example-8-gs200_current,keithley2400_volt-0\n",
       " 30-dond_example-9-gs200_current,keithley2400_volt-0\n",
       " 31-dond_example-10-gs200_current,keithley2400_volt-0\n",
       " 32-dond_example-11-gs200_current,keithley2400_volt-0\n",
       " 33-dond_example-12-gs200_current,keithley2400_volt-0\n",
       " 34-dond_example-13-gs200_current,keithley2400_volt-100\n",
       " 35-dond_example-14-gs200_current,keithley2400_volt-0\n",
       " 36-dond_example-15-gs200_current,keithley2400_volt-0\n",
       " 37-dond_example-16-gs200_current,keithley2400_volt-0\n",
       " 38-dond_example-17-gs200_current,keithley2400_volt-0\n",
       " 39-dond_example-18-gs200_current,keithley2400_volt-0\n",
       " 40-dond_example-19-gs200_current,keithley2400_volt-5\n",
       " 41-dond_example-20-gs200_current,keithley2400_volt-100\n",
       " 42-dond_example-21-gs200_current,keithley2400_volt-0\n",
       " 43-dond_example-22-gs200_current,keithley2400_volt-0\n",
       " 44-dond_example-23-gs200_current,keithley2400_volt-0\n",
       " 45-dond_example-24-gs200_current,keithley2400_volt-0\n",
       " 46-dond_example-25-gs200_current,keithley2400_volt-100\n",
       " 47-dond_example-26-gs200_current,keithley2400_volt-100\n",
       " 48-dond_example-27-gs200_current,keithley2400_volt-100\n",
       " 49-dond_example-28-gs200_current,keithley2400_volt-1000\n",
       " 50-dond_example-29-gs200_current,keithley2400_volt-1000\n",
       " 51-dond_example-30-gs200_current,keithley2400_volt-100\n",
       " 52-dond_example-31-gs200_current,keithley2400_volt-100\n",
       " 53-dond_example-32-gs200_current,keithley2400_volt-100\n",
       " 54-dond_example-33-gs200_current,keithley2400_volt-44\n",
       " 55-dond_example-34-gs200_current,keithley2400_volt-0\n",
       " 56-dond_example-35-gs200_current,keithley2400_volt-0\n",
       " 57-dond_example-36-gs200_current,keithley2400_volt-100\n",
       " 58-dond_example-37-gs200_current,keithley2400_volt-100\n",
       " 59-dond_example-38-gs200_current,keithley2400_volt-100\n",
       " 60-dond_example-39-gs200_current,keithley2400_volt-100\n",
       " 61-dond_example-40-gs200_current,keithley2400_volt-100\n",
       " 62-dond_example-41-gs200_current,keithley2400_volt-100\n",
       " 63-dond_example-42-gs200_current,keithley2400_volt-100\n",
       " 64-dond_example-43-gs200_current,keithley2400_volt-100\n",
       " 65-dond_example-44-gs200_current,keithley2400_volt-40\n",
       " 66-dond_example-45-gs200_current,keithley2400_volt-40]"
      ]
     },
     "execution_count": 102,
     "metadata": {},
     "output_type": "execute_result"
    }
   ],
   "source": [
    "experiments() "
   ]
  },
  {
   "cell_type": "code",
   "execution_count": 103,
   "id": "537acedc-9d5a-4684-876b-10dad1de084f",
   "metadata": {},
   "outputs": [
    {
     "data": {
      "text/plain": [
       "dond_example #66@/root/leds.db\n",
       "------------------------------\n",
       "gs200_current - numeric\n",
       "keithley2400_volt - numeric"
      ]
     },
     "execution_count": 103,
     "metadata": {},
     "output_type": "execute_result"
    }
   ],
   "source": [
    "leds_exp.data_sets()[-1]"
   ]
  },
  {
   "cell_type": "code",
   "execution_count": 104,
   "id": "0f154d8e-2932-4379-9b6e-87c1c4f0881f",
   "metadata": {},
   "outputs": [],
   "source": [
    "dataset = leds_exp.data_sets()[-1]"
   ]
  },
  {
   "cell_type": "code",
   "execution_count": 105,
   "id": "5ef3a29e-ac2d-4d9a-91ad-49b7a4af75d3",
   "metadata": {},
   "outputs": [
    {
     "data": {
      "text/plain": [
       "([<AxesSubplot:title={'center':'Run #66, Experiment leds_exp (red_data)'}, xlabel='Current ($10^{-6}$ I)', ylabel='Voltage (V)'>],\n",
       " [None])"
      ]
     },
     "execution_count": 105,
     "metadata": {},
     "output_type": "execute_result"
    },
    {
     "data": {
      "image/png": "[encoded data removed]",
      "text/plain": [
       "<Figure size 432x288 with 1 Axes>"
      ]
     },
     "metadata": {
      "needs_background": "light"
     },
     "output_type": "display_data"
    }
   ],
   "source": [
    "plot_dataset(dataset)"
   ]
  },
  {
   "cell_type": "code",
   "execution_count": 106,
   "id": "8ad4b396-053b-4504-a05e-9865ce891196",
   "metadata": {},
   "outputs": [
    {
     "data": {
      "text/html": [
       "<div>\n",
       "<style scoped>\n",
       "    .dataframe tbody tr th:only-of-type {\n",
       "        vertical-align: middle;\n",
       "    }\n",
       "\n",
       "    .dataframe tbody tr th {\n",
       "        vertical-align: top;\n",
       "    }\n",
       "\n",
       "    .dataframe thead th {\n",
       "        text-align: right;\n",
       "    }\n",
       "</style>\n",
       "<table border=\"1\" class=\"dataframe\">\n",
       "  <thead>\n",
       "    <tr style=\"text-align: right;\">\n",
       "      <th></th>\n",
       "      <th>gs200_current</th>\n",
       "      <th>keithley2400_volt</th>\n",
       "    </tr>\n",
       "  </thead>\n",
       "  <tbody>\n",
       "    <tr>\n",
       "      <th>0</th>\n",
       "      <td>8.000000e-07</td>\n",
       "      <td>-0.008577</td>\n",
       "    </tr>\n",
       "  </tbody>\n",
       "</table>\n",
       "</div>"
      ],
      "text/plain": [
       "   gs200_current  keithley2400_volt\n",
       "0   8.000000e-07          -0.008577"
      ]
     },
     "execution_count": 106,
     "metadata": {},
     "output_type": "execute_result"
    }
   ],
   "source": [
    "df = dataset.to_pandas_dataframe()\n",
    "df.reset_index()[:1]"
   ]
  },
  {
   "cell_type": "code",
   "execution_count": 107,
   "id": "a72ce5cd-ad76-44f6-b5c2-30538691b26c",
   "metadata": {},
   "outputs": [],
   "source": [
    "import matplotlib.pyplot as plt"
   ]
  },
  {
   "cell_type": "code",
   "execution_count": 108,
   "id": "da314d5c-7043-472c-a45a-a48e2f34b4ab",
   "metadata": {},
   "outputs": [
    {
     "data": {
      "image/png": "[encoded data removed]",
      "text/plain": [
       "<Figure size 720x576 with 1 Axes>"
      ]
     },
     "metadata": {
      "needs_background": "light"
     },
     "output_type": "display_data"
    }
   ],
   "source": [
    "x_axis = df.reset_index().loc[:,\"gs200_current\"]\n",
    "y_axis = df.reset_index().loc[:,\"keithley2400_volt\"]\n",
    "\n",
    "plt.figure(figsize=(10, 8))\n",
    "ax = plt.axes()\n",
    "ax.scatter(x=x_axis, y=y_axis)\n",
    "ax.plot(df, color=\"orange\")\n",
    "\n",
    "ax.set_xlabel('Current(A)')\n",
    "ax.set_ylabel('Voltage(V)')\n",
    "\n",
    "plt.grid()\n",
    "\n",
    "#plt.xlim([-0.001, 0.001])\n",
    "plt.show()"
   ]
  },
  {
   "cell_type": "code",
   "execution_count": null,
   "id": "156ce06d-10b1-4065-a75e-13cbc95c896c",
   "metadata": {},
   "outputs": [],
   "source": [
    "gs.reset()"
   ]
  },
  {
   "cell_type": "code",
   "execution_count": null,
   "id": "c35eb16f-7238-49cd-b987-53293efafebf",
   "metadata": {},
   "outputs": [],
   "source": [
    "keith.reset()"
   ]
  },
  {
   "cell_type": "code",
   "execution_count": null,
   "id": "7c3ea82a-05f1-4e32-a1a2-b8b283f6b64c",
   "metadata": {},
   "outputs": [],
   "source": []
  }
 ],
 "metadata": {
  "kernelspec": {
   "display_name": "Python 3 (ipykernel)",
   "language": "python",
   "name": "python3"
  },
  "language_info": {
   "codemirror_mode": {
    "name": "ipython",
    "version": 3
   },
   "file_extension": ".py",
   "mimetype": "text/x-python",
   "name": "python",
   "nbconvert_exporter": "python",
   "pygments_lexer": "ipython3",
   "version": "3.10.4"
  }
 },
 "nbformat": 4,
 "nbformat_minor": 5
}
