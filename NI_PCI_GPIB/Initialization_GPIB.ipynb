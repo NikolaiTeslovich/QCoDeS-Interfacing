{
 "cells": [
  {
   "cell_type": "markdown",
   "id": "1178b8c0-0728-4f0b-91c6-63a1ec7250ad",
   "metadata": {
    "tags": []
   },
   "source": [
    "# Example of initializing an instrument with pyvisa in QCoDeS over a USB interface"
   ]
  },
  {
   "cell_type": "markdown",
   "id": "27776cda-efbf-4a7e-a698-8796c714538d",
   "metadata": {},
   "source": [
    "Based on the following [QCoDeS example documentation](https://qcodes.github.io/Qcodes/examples/driver_examples/Qcodes%20example%20with%20Yokogawa%20GS2xx.html), expect that a different method is used to connect to the instrument. Simply initializing the ni-visa backend did not work for some reason, so first the pyvisa-py backend opens a connection with the interface, followed by the ni-visa backend. Only then is the instrument properly recognized and can connect."
   ]
  },
  {
   "cell_type": "code",
   "execution_count": 3,
   "id": "e028de37-84b0-4b2c-8e64-329d15a6dda7",
   "metadata": {},
   "outputs": [
    {
     "name": "stdout",
     "output_type": "stream",
     "text": [
      "Resource Manager of Visa Library at py\n"
     ]
    }
   ],
   "source": [
    "# importing packages\n",
    "import numpy as np\n",
    "import time\n",
    "import qcodes\n",
    "import pyvisa as visa\n",
    "import ipywidgets as widgets\n",
    "# enable to get a more debuggable output:\n",
    "#visa.log_to_screen()\n",
    "\n",
    "# importing the instrument driver packages: \n",
    "from qcodes.instrument_drivers.yokogawa.GS200 import GS200\n",
    "from qcodes.instrument_drivers.tektronix.Keithley_2400 import Keithley_2400\n",
    "\n",
    "# pyvisa-py resource manager\n",
    "rm = visa.ResourceManager('@py')\n",
    "\n",
    "print(rm)"
   ]
  },
  {
   "cell_type": "code",
   "execution_count": 5,
   "id": "708c1ddc-85c8-42ab-88f0-0a1a64da9323",
   "metadata": {},
   "outputs": [
    {
     "name": "stderr",
     "output_type": "stream",
     "text": [
      "libgpib: invalid descriptor\n",
      "libgpib: invalid descriptor\n",
      "libgpib: invalid descriptor\n",
      "libgpib: invalid descriptor\n",
      "libgpib: invalid descriptor\n",
      "libgpib: invalid descriptor\n",
      "libgpib: invalid descriptor\n",
      "libgpib: invalid descriptor\n",
      "libgpib: invalid descriptor\n",
      "libgpib: invalid descriptor\n",
      "libgpib: invalid descriptor\n",
      "libgpib: invalid descriptor\n",
      "libgpib: invalid descriptor\n",
      "libgpib: invalid descriptor\n",
      "libgpib: invalid descriptor\n",
      "libgpib: invalid descriptor\n",
      "libgpib: invalid descriptor\n",
      "libgpib: invalid descriptor\n",
      "libgpib: invalid descriptor\n",
      "libgpib: invalid descriptor\n",
      "libgpib: invalid descriptor\n",
      "libgpib: invalid descriptor\n",
      "libgpib: invalid descriptor\n",
      "libgpib: invalid descriptor\n",
      "libgpib: invalid descriptor\n",
      "libgpib: invalid descriptor\n",
      "libgpib: invalid descriptor\n",
      "libgpib: invalid descriptor\n",
      "libgpib: invalid descriptor\n",
      "libgpib: invalid descriptor\n",
      "libgpib: invalid descriptor\n",
      "libgpib: invalid descriptor\n",
      "libgpib: invalid descriptor\n",
      "libgpib: invalid descriptor\n",
      "libgpib: invalid descriptor\n",
      "libgpib: invalid descriptor\n",
      "libgpib: invalid descriptor\n",
      "libgpib: invalid descriptor\n",
      "libgpib: invalid descriptor\n",
      "libgpib: invalid descriptor\n",
      "libgpib: invalid descriptor\n",
      "libgpib: invalid descriptor\n",
      "libgpib: invalid descriptor\n",
      "libgpib: invalid descriptor\n",
      "libgpib: invalid descriptor\n",
      "libgpib: invalid descriptor\n",
      "libgpib: invalid descriptor\n",
      "libgpib: invalid descriptor\n",
      "libgpib: invalid descriptor\n",
      "libgpib: invalid descriptor\n",
      "libgpib: invalid descriptor\n",
      "libgpib: invalid descriptor\n",
      "libgpib: invalid descriptor\n",
      "libgpib: invalid descriptor\n",
      "libgpib: invalid descriptor\n",
      "libgpib: invalid descriptor\n",
      "libgpib: invalid descriptor\n",
      "libgpib: invalid descriptor\n",
      "libgpib: invalid descriptor\n",
      "libgpib: invalid descriptor\n"
     ]
    }
   ],
   "source": [
    "# list the resources that the visapy-py backend detects, should look something like:\n",
    "# `('ASRL/dev/ttyS4::INSTR', 'USB0::2849::57::91LA25023::0::INSTR')`\n",
    "resources = rm.list_resources()"
   ]
  },
  {
   "cell_type": "code",
   "execution_count": 3,
   "id": "89a65e7f-300b-4837-b826-f63578c3268e",
   "metadata": {},
   "outputs": [
    {
     "data": {
      "text/plain": [
       "('GPIB0::11::INSTR', 'GPIB0::19::INSTR')"
      ]
     },
     "execution_count": 3,
     "metadata": {},
     "output_type": "execute_result"
    }
   ],
   "source": [
    "resources"
   ]
  },
  {
   "cell_type": "markdown",
   "id": "d4377c1f-7075-4d3f-8997-3fae29f14477",
   "metadata": {},
   "source": [
    "Here is an example of how you would connect to a Yokogama GS210 with integrated QCoDeS drivers:"
   ]
  },
  {
   "cell_type": "code",
   "execution_count": 4,
   "id": "24567cca-90cc-4d36-b36a-67a593faee17",
   "metadata": {},
   "outputs": [
    {
     "name": "stdout",
     "output_type": "stream",
     "text": [
      "Connected to: YOKOGAWA GS210 (serial:91LA25023, firmware:1.05) in 0.20s\n"
     ]
    }
   ],
   "source": [
    "# intialize the instrument with the following parameters\n",
    "\n",
    "# the instrument is initialized and stored as a variable gs, where \"gs200\" is its name\n",
    "gs = GS200(\"gs200\", address=resources[0], terminator=\"\\n\")\n",
    "\n",
    "# close the pyvisa-py resource manager:\n",
    "# rm.close()"
   ]
  },
  {
   "cell_type": "code",
   "execution_count": 5,
   "id": "7a3b9214-3d74-4408-9103-2cb3ff4902ae",
   "metadata": {},
   "outputs": [
    {
     "name": "stdout",
     "output_type": "stream",
     "text": [
      "Connected to: KEITHLEY INSTRUMENTS INC. 2400 (serial:1371034, firmware:C32   Oct  4 2010 14:20:11/A02  /S/K) in 0.19s\n"
     ]
    }
   ],
   "source": [
    "# intialize the instrument with the following parameters\n",
    "\n",
    "# the instrument is initialized and stored as a variable gs, where \"gs200\" is its name\n",
    "keith = Keithley_2400(\"keithley2400\", address=resources[1])\n",
    "\n",
    "# close the pyvisa-py resource manager:\n",
    "# rm.close()"
   ]
  }
 ],
 "metadata": {
  "kernelspec": {
   "display_name": "Python 3 (ipykernel)",
   "language": "python",
   "name": "python3"
  },
  "language_info": {
   "codemirror_mode": {
    "name": "ipython",
    "version": 3
   },
   "file_extension": ".py",
   "mimetype": "text/x-python",
   "name": "python",
   "nbconvert_exporter": "python",
   "pygments_lexer": "ipython3",
   "version": "3.10.4"
  }
 },
 "nbformat": 4,
 "nbformat_minor": 5
}
