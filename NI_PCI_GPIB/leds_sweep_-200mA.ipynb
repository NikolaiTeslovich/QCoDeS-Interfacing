{
 "cells": [
  {
   "cell_type": "code",
   "execution_count": 1,
   "id": "e028de37-84b0-4b2c-8e64-329d15a6dda7",
   "metadata": {},
   "outputs": [
    {
     "name": "stdout",
     "output_type": "stream",
     "text": [
      "Resource Manager of Visa Library at py\n"
     ]
    }
   ],
   "source": [
    "# importing packages\n",
    "import pandas as pd\n",
    "import numpy as np\n",
    "import time\n",
    "import qcodes as qc\n",
    "import pyvisa as visa\n",
    "import ipywidgets as widgets\n",
    "# enable to get a more debuggable output:\n",
    "#visa.log_to_screen()\n",
    "\n",
    "# importing the instrument driver packages: \n",
    "from qcodes.instrument_drivers.yokogawa.GS200 import GS200\n",
    "from qcodes.instrument_drivers.tektronix.Keithley_2400 import Keithley_2400\n",
    "\n",
    "# pyvisa-py resource manager\n",
    "rm = visa.ResourceManager('@py')\n",
    "\n",
    "print(rm)"
   ]
  },
  {
   "cell_type": "code",
   "execution_count": 2,
   "id": "708c1ddc-85c8-42ab-88f0-0a1a64da9323",
   "metadata": {},
   "outputs": [
    {
     "name": "stderr",
     "output_type": "stream",
     "text": [
      "libgpib: invalid descriptor\n",
      "libgpib: invalid descriptor\n",
      "libgpib: invalid descriptor\n",
      "libgpib: invalid descriptor\n",
      "libgpib: invalid descriptor\n",
      "libgpib: invalid descriptor\n",
      "libgpib: invalid descriptor\n",
      "libgpib: invalid descriptor\n",
      "libgpib: invalid descriptor\n",
      "libgpib: invalid descriptor\n",
      "libgpib: invalid descriptor\n",
      "libgpib: invalid descriptor\n",
      "libgpib: invalid descriptor\n",
      "libgpib: invalid descriptor\n",
      "libgpib: invalid descriptor\n",
      "libgpib: invalid descriptor\n",
      "libgpib: invalid descriptor\n",
      "libgpib: invalid descriptor\n",
      "libgpib: invalid descriptor\n",
      "libgpib: invalid descriptor\n",
      "libgpib: invalid descriptor\n",
      "libgpib: invalid descriptor\n",
      "libgpib: invalid descriptor\n",
      "libgpib: invalid descriptor\n",
      "libgpib: invalid descriptor\n",
      "libgpib: invalid descriptor\n",
      "libgpib: invalid descriptor\n",
      "libgpib: invalid descriptor\n",
      "libgpib: invalid descriptor\n",
      "libgpib: invalid descriptor\n",
      "libgpib: invalid descriptor\n",
      "libgpib: invalid descriptor\n",
      "libgpib: invalid descriptor\n",
      "libgpib: invalid descriptor\n",
      "libgpib: invalid descriptor\n",
      "libgpib: invalid descriptor\n",
      "libgpib: invalid descriptor\n",
      "libgpib: invalid descriptor\n",
      "libgpib: invalid descriptor\n",
      "libgpib: invalid descriptor\n",
      "libgpib: invalid descriptor\n",
      "libgpib: invalid descriptor\n",
      "libgpib: invalid descriptor\n",
      "libgpib: invalid descriptor\n",
      "libgpib: invalid descriptor\n",
      "libgpib: invalid descriptor\n",
      "libgpib: invalid descriptor\n",
      "libgpib: invalid descriptor\n",
      "libgpib: invalid descriptor\n",
      "libgpib: invalid descriptor\n",
      "libgpib: invalid descriptor\n",
      "libgpib: invalid descriptor\n",
      "libgpib: invalid descriptor\n",
      "libgpib: invalid descriptor\n",
      "libgpib: invalid descriptor\n",
      "libgpib: invalid descriptor\n",
      "libgpib: invalid descriptor\n",
      "libgpib: invalid descriptor\n",
      "libgpib: invalid descriptor\n",
      "libgpib: invalid descriptor\n"
     ]
    },
    {
     "name": "stdout",
     "output_type": "stream",
     "text": [
      "Connected to: YOKOGAWA GS210 (serial:91LA25023, firmware:1.05) in 0.18s\n",
      "Connected to: KEITHLEY INSTRUMENTS INC. 2400 (serial:1371034, firmware:C32   Oct  4 2010 14:20:11/A02  /S/K) in 0.18s\n"
     ]
    }
   ],
   "source": [
    "# list the resources that the visapy-py backend detects, should look something like:\n",
    "# `('ASRL/dev/ttyS4::INSTR', 'USB0::2849::57::91LA25023::0::INSTR')`\n",
    "resources = rm.list_resources()\n",
    "\n",
    "# intialize the instrument with the following parameters:\n",
    "\n",
    "# the instrument is initialized and stored as a variable gs, where \"gs200\" is its name\n",
    "gs = GS200(\"gs200\", address=resources[0], terminator=\"\\n\")\n",
    "\n",
    "# the instrument is initialized and stored as a variable gs, where \"keith\" is its name\n",
    "keith = Keithley_2400(\"keithley2400\", address=resources[1])"
   ]
  },
  {
   "cell_type": "code",
   "execution_count": 3,
   "id": "2fa8a115-23a5-47bd-bda9-6421b19efb4e",
   "metadata": {},
   "outputs": [],
   "source": [
    "station = qc.Station()"
   ]
  },
  {
   "cell_type": "code",
   "execution_count": 4,
   "id": "9d658e12-26ef-43e4-b446-e4e2419f7ddc",
   "metadata": {},
   "outputs": [
    {
     "name": "stderr",
     "output_type": "stream",
     "text": [
      "[gs200_program(GS200Program)] Snapshot: Could not update parameter: trigger\n"
     ]
    },
    {
     "data": {
      "text/plain": [
       "'keithley2400'"
      ]
     },
     "execution_count": 4,
     "metadata": {},
     "output_type": "execute_result"
    }
   ],
   "source": [
    "station.add_component(gs)\n",
    "station.add_component(keith)"
   ]
  },
  {
   "cell_type": "code",
   "execution_count": 5,
   "id": "bfede977-2aea-4023-980c-75b67443a015",
   "metadata": {},
   "outputs": [],
   "source": [
    "import numpy as np\n",
    "import qcodes as qc\n",
    "from qcodes.dataset import (\n",
    "    Measurement,\n",
    "    experiments,\n",
    "    initialise_or_create_database_at,\n",
    "    load_by_run_spec,\n",
    "    load_or_create_experiment,\n",
    ")\n",
    "\n",
    "## Dummy instruments for generating synthetic data\n",
    "from qcodes.tests.instrument_mocks import (\n",
    "    DummyInstrument, \n",
    "    DummyInstrumentWithMeasurement\n",
    ")\n",
    "\n",
    "## Multidimensional scanning module\n",
    "from qcodes.utils.dataset.doNd import (\n",
    "    dond, \n",
    "    LinSweep, \n",
    "    LogSweep\n",
    ")\n",
    "\n",
    "## Integrated plotting module\n",
    "from qcodes.dataset.plotting import plot_dataset\n",
    "\n",
    "## Using interactive widget\n",
    "from qcodes.interactive_widget import experiments_widget"
   ]
  },
  {
   "cell_type": "code",
   "execution_count": 6,
   "id": "313e0cd2-b364-4a20-905a-441bc2f11173",
   "metadata": {},
   "outputs": [],
   "source": [
    "gs.reset()\n",
    "gs.source_mode('CURR')\n",
    "gs.current(0)\n",
    "gs.auto_range(True)\n",
    "gs.output('on')"
   ]
  },
  {
   "cell_type": "code",
   "execution_count": 7,
   "id": "9f6bfd4c-b156-43de-9647-92eda1c55a89",
   "metadata": {},
   "outputs": [],
   "source": [
    "keith.reset()"
   ]
  },
  {
   "cell_type": "code",
   "execution_count": 8,
   "id": "48a63f78-9d72-4d42-9058-3cda1e7ae284",
   "metadata": {},
   "outputs": [],
   "source": [
    "# lower the compliance current all the way\n",
    "#keith.mode('VOLT')\n",
    "keith._set_mode_and_sense('CURR')\n",
    "keith._set_mode_and_sense('VOLT')\n",
    "keith.compliancei(1e-06)\n",
    "keith.rangev(30)\n",
    "#keith.sense()\n",
    "keith.output(1)\n",
    "# resetting the instrument"
   ]
  },
  {
   "cell_type": "code",
   "execution_count": 9,
   "id": "d31543ad-04c7-42f0-9072-848e85afe03d",
   "metadata": {},
   "outputs": [],
   "source": [
    "initialise_or_create_database_at(\"~/leds_actual.db\")"
   ]
  },
  {
   "cell_type": "code",
   "execution_count": 10,
   "id": "b279aa59-ade4-4392-ba0b-905e16bf355f",
   "metadata": {},
   "outputs": [],
   "source": [
    "leds_exp = load_or_create_experiment(\n",
    "    experiment_name=\"leds_neg200mA\",\n",
    "    sample_name=\"red_led\"\n",
    ")"
   ]
  },
  {
   "cell_type": "code",
   "execution_count": 11,
   "id": "4f108520-d6e8-484d-9988-c1ba50dfc549",
   "metadata": {},
   "outputs": [],
   "source": [
    "context_meas = Measurement(exp=leds_exp, name='context_example')"
   ]
  },
  {
   "cell_type": "code",
   "execution_count": 12,
   "id": "a512741c-75dd-4dd4-9020-9b225995d5ef",
   "metadata": {},
   "outputs": [
    {
     "data": {
      "text/plain": [
       "<qcodes.dataset.measurements.Measurement at 0x7f7d87b07700>"
      ]
     },
     "execution_count": 12,
     "metadata": {},
     "output_type": "execute_result"
    }
   ],
   "source": [
    "# Register the independent parameter...\n",
    "context_meas.register_parameter(gs.current)\n",
    "# ...then register the dependent parameter\n",
    "context_meas.register_parameter(keith.volt, setpoints=(gs.current,))"
   ]
  },
  {
   "cell_type": "code",
   "execution_count": 20,
   "id": "44f214ed-e449-4f4e-a48a-1a026ae04c93",
   "metadata": {},
   "outputs": [],
   "source": [
    "# Setting up a doNd measurement\n",
    "sweep_1 = LinSweep(gs.current, -0.02, 0.02, 40, 0.01)"
   ]
  },
  {
   "cell_type": "code",
   "execution_count": null,
   "id": "8394ad20-1740-45e8-a989-e5b5284f02fb",
   "metadata": {},
   "outputs": [],
   "source": []
  },
  {
   "cell_type": "code",
   "execution_count": 21,
   "id": "98b8d634-6008-4f78-96d3-7614cd956ece",
   "metadata": {},
   "outputs": [
    {
     "name": "stdout",
     "output_type": "stream",
     "text": [
      "Starting experimental run with id: 16. Using 'qcodes.dataset.dond'\n"
     ]
    },
    {
     "data": {
      "application/vnd.jupyter.widget-view+json": {
       "model_id": "1a6b2692cfbb4190a1c019cdca3d13c1",
       "version_major": 2,
       "version_minor": 0
      },
      "text/plain": [
       "  0%|          | 0/40 [00:00<?, ?it/s]"
      ]
     },
     "metadata": {},
     "output_type": "display_data"
    }
   ],
   "source": [
    "gs.current(0)\n",
    "\n",
    "dond(\n",
    "    sweep_1,                          # 1st independent parameter\n",
    "    keith.volt,                 # 1st dependent parameter\n",
    "    measurement_name=\"red_diode\",#ment name\n",
    "    exp=leds_exp,             # Set the experiment to save data to.\n",
    "    show_progress=True                # Optional progress bar\n",
    ")\n",
    "\n",
    "gs.current(0)"
   ]
  },
  {
   "cell_type": "code",
   "execution_count": 22,
   "id": "f2a7ceee-48ce-4e47-a381-7dc00538ded8",
   "metadata": {},
   "outputs": [
    {
     "data": {
      "text/plain": [
       "[leds_exp#green_led#1@/root/leds_actual.db\n",
       " -----------------------------------------\n",
       " 1-green_diode-1-gs200_current,keithley2400_volt-40,\n",
       " leds_exp#red_led#2@/root/leds_actual.db\n",
       " ---------------------------------------\n",
       " 2-red_diode-1-gs200_current,keithley2400_volt-40,\n",
       " leds_30mA#red_led#3@/root/leds_actual.db\n",
       " ----------------------------------------\n",
       " 3-red_diode-1-gs200_current,keithley2400_volt-600\n",
       " 6-red_diode-2-gs200_current,keithley2400_volt-300,\n",
       " leds_30mA#green_led#4@/root/leds_actual.db\n",
       " ------------------------------------------\n",
       " 4-green_diode-1-gs200_current,keithley2400_volt-600\n",
       " 5-green_diode-2-gs200_current,keithley2400_volt-300,\n",
       " leds_50mA#red_led#5@/root/leds_actual.db\n",
       " ----------------------------------------\n",
       " 7-red_diode-1-gs200_current,keithley2400_volt-100,\n",
       " leds_100mA#red_led#6@/root/leds_actual.db\n",
       " -----------------------------------------\n",
       " 8-red_diode-1-gs200_current,keithley2400_volt-100\n",
       " 9-red_diode-2-gs200_current,keithley2400_volt-1000,\n",
       " leds_100mA#green_led#7@/root/leds_actual.db\n",
       " -------------------------------------------\n",
       " 10-green_diode-1-gs200_current,keithley2400_volt-1000,\n",
       " leds_200mA#green_led#8@/root/leds_actual.db\n",
       " -------------------------------------------\n",
       " 11-green_diode-1-gs200_current,keithley2400_volt-1000\n",
       " 12-green_diode-2-gs200_current,keithley2400_volt-10,\n",
       " leds_200mA#red_led#9@/root/leds_actual.db\n",
       " -----------------------------------------\n",
       " 13-red_diode-1-gs200_current,keithley2400_volt-1000,\n",
       " leds_neg200mA#red_led#10@/root/leds_actual.db\n",
       " ---------------------------------------------\n",
       " 14-red_diode-1-gs200_current,keithley2400_volt-79\n",
       " 15-red_diode-2-gs200_current,keithley2400_volt-1000\n",
       " 16-red_diode-3-gs200_current,keithley2400_volt-40]"
      ]
     },
     "execution_count": 22,
     "metadata": {},
     "output_type": "execute_result"
    }
   ],
   "source": [
    "experiments() "
   ]
  },
  {
   "cell_type": "code",
   "execution_count": 23,
   "id": "7f074243-8035-4c2b-a18c-5c3fac10f572",
   "metadata": {},
   "outputs": [
    {
     "data": {
      "text/plain": [
       "red_diode #16@/root/leds_actual.db\n",
       "----------------------------------\n",
       "gs200_current - numeric\n",
       "keithley2400_volt - numeric"
      ]
     },
     "execution_count": 23,
     "metadata": {},
     "output_type": "execute_result"
    }
   ],
   "source": [
    "red_dataset = load_by_run_spec(experiment_name='leds_neg200mA', captured_run_id=16)\n",
    "red_dataset"
   ]
  },
  {
   "cell_type": "code",
   "execution_count": 24,
   "id": "e78367f0-d374-44b6-9185-cf1b6d17d413",
   "metadata": {},
   "outputs": [
    {
     "data": {
      "text/plain": [
       "green_diode #11@/root/leds_actual.db\n",
       "------------------------------------\n",
       "gs200_current - numeric\n",
       "keithley2400_volt - numeric"
      ]
     },
     "execution_count": 24,
     "metadata": {},
     "output_type": "execute_result"
    }
   ],
   "source": [
    "green_dataset = load_by_run_spec(experiment_name='leds_200mA', captured_run_id=11)\n",
    "green_dataset"
   ]
  },
  {
   "cell_type": "code",
   "execution_count": 25,
   "id": "5ef3a29e-ac2d-4d9a-91ad-49b7a4af75d3",
   "metadata": {},
   "outputs": [
    {
     "data": {
      "text/plain": [
       "([<AxesSubplot:title={'center':'Run #11, Experiment leds_200mA (green_led)'}, xlabel='Current ($10^{-3}$ I)', ylabel='Voltage (V)'>],\n",
       " [None])"
      ]
     },
     "execution_count": 25,
     "metadata": {},
     "output_type": "execute_result"
    },
    {
     "data": {
      "image/png": "[encoded data removed]",
      "text/plain": [
       "<Figure size 432x288 with 1 Axes>"
      ]
     },
     "metadata": {
      "needs_background": "light"
     },
     "output_type": "display_data"
    },
    {
     "data": {
      "image/png": "[encoded data removed]",
      "text/plain": [
       "<Figure size 432x288 with 1 Axes>"
      ]
     },
     "metadata": {
      "needs_background": "light"
     },
     "output_type": "display_data"
    }
   ],
   "source": [
    "plot_dataset(red_dataset)\n",
    "plot_dataset(green_dataset)"
   ]
  },
  {
   "cell_type": "code",
   "execution_count": 19,
   "id": "8ad4b396-053b-4504-a05e-9865ce891196",
   "metadata": {},
   "outputs": [
    {
     "data": {
      "text/html": [
       "<div>\n",
       "<style scoped>\n",
       "    .dataframe tbody tr th:only-of-type {\n",
       "        vertical-align: middle;\n",
       "    }\n",
       "\n",
       "    .dataframe tbody tr th {\n",
       "        vertical-align: top;\n",
       "    }\n",
       "\n",
       "    .dataframe thead th {\n",
       "        text-align: right;\n",
       "    }\n",
       "</style>\n",
       "<table border=\"1\" class=\"dataframe\">\n",
       "  <thead>\n",
       "    <tr style=\"text-align: right;\">\n",
       "      <th></th>\n",
       "      <th>gs200_current</th>\n",
       "      <th>keithley2400_volt</th>\n",
       "    </tr>\n",
       "  </thead>\n",
       "  <tbody>\n",
       "    <tr>\n",
       "      <th>0</th>\n",
       "      <td>-0.2</td>\n",
       "      <td>-29.9817</td>\n",
       "    </tr>\n",
       "  </tbody>\n",
       "</table>\n",
       "</div>"
      ],
      "text/plain": [
       "   gs200_current  keithley2400_volt\n",
       "0           -0.2           -29.9817"
      ]
     },
     "execution_count": 19,
     "metadata": {},
     "output_type": "execute_result"
    }
   ],
   "source": [
    "green_df = green_dataset.to_pandas_dataframe()\n",
    "green_df.reset_index()[:1]\n",
    "\n",
    "red_df = red_dataset.to_pandas_dataframe()\n",
    "red_df.reset_index()[:1]"
   ]
  },
  {
   "cell_type": "code",
   "execution_count": 35,
   "id": "a72ce5cd-ad76-44f6-b5c2-30538691b26c",
   "metadata": {},
   "outputs": [],
   "source": [
    "import matplotlib.pyplot as plt"
   ]
  },
  {
   "cell_type": "code",
   "execution_count": 36,
   "id": "da314d5c-7043-472c-a45a-a48e2f34b4ab",
   "metadata": {},
   "outputs": [
    {
     "data": {
      "image/png": "[encoded data removed]",
      "text/plain": [
       "<Figure size 720x576 with 1 Axes>"
      ]
     },
     "metadata": {
      "needs_background": "light"
     },
     "output_type": "display_data"
    }
   ],
   "source": [
    "x_green = green_df.reset_index().loc[:,\"gs200_current\"]\n",
    "y_green = green_df.reset_index().loc[:,\"keithley2400_volt\"]\n",
    "\n",
    "x_red = red_df.reset_index().loc[:,\"gs200_current\"]\n",
    "y_red = red_df.reset_index().loc[:,\"keithley2400_volt\"]\n",
    "\n",
    "plt.figure(figsize=(10, 8))\n",
    "ax = plt.axes()\n",
    "#ax.scatter(x=x_green, y=y_green, color=\"green\")\n",
    "#ax.scatter(x=x_red, y=y_red, color=\"red\")\n",
    "ax.plot(red_df, color=\"red\")\n",
    "ax.plot(green_df, color = \"green\")\n",
    "\n",
    "ax.set_xlabel('Current(A)')\n",
    "ax.set_ylabel('Voltage(V)')\n",
    "\n",
    "plt.grid()\n",
    "plt.title(\"Green Diode vs Red Diode\")\n",
    "\n",
    "#plt.xlim([-0.001, 0.001])\n",
    "plt.show()"
   ]
  },
  {
   "cell_type": "code",
   "execution_count": null,
   "id": "156ce06d-10b1-4065-a75e-13cbc95c896c",
   "metadata": {},
   "outputs": [],
   "source": [
    "gs.reset()"
   ]
  },
  {
   "cell_type": "code",
   "execution_count": null,
   "id": "c35eb16f-7238-49cd-b987-53293efafebf",
   "metadata": {},
   "outputs": [],
   "source": [
    "keith.reset()"
   ]
  },
  {
   "cell_type": "code",
   "execution_count": null,
   "id": "7c3ea82a-05f1-4e32-a1a2-b8b283f6b64c",
   "metadata": {},
   "outputs": [],
   "source": []
  }
 ],
 "metadata": {
  "kernelspec": {
   "display_name": "Python 3 (ipykernel)",
   "language": "python",
   "name": "python3"
  },
  "language_info": {
   "codemirror_mode": {
    "name": "ipython",
    "version": 3
   },
   "file_extension": ".py",
   "mimetype": "text/x-python",
   "name": "python",
   "nbconvert_exporter": "python",
   "pygments_lexer": "ipython3",
   "version": "3.10.4"
  }
 },
 "nbformat": 4,
 "nbformat_minor": 5
}
