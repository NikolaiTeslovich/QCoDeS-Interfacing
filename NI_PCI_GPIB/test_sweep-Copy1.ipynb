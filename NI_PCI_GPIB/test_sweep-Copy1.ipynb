{
 "cells": [
  {
   "cell_type": "code",
   "execution_count": 191,
   "id": "e028de37-84b0-4b2c-8e64-329d15a6dda7",
   "metadata": {},
   "outputs": [
    {
     "name": "stdout",
     "output_type": "stream",
     "text": [
      "Resource Manager of Visa Library at py\n"
     ]
    }
   ],
   "source": [
    "# importing packages\n",
    "import pandas as pd\n",
    "import numpy as np\n",
    "import time\n",
    "import qcodes as qc\n",
    "import pyvisa as visa\n",
    "import ipywidgets as widgets\n",
    "# enable to get a more debuggable output:\n",
    "#visa.log_to_screen()\n",
    "\n",
    "# importing the instrument driver packages: \n",
    "from qcodes.instrument_drivers.yokogawa.GS200 import GS200\n",
    "from qcodes.instrument_drivers.tektronix.Keithley_2400 import Keithley_2400\n",
    "\n",
    "# pyvisa-py resource manager\n",
    "rm = visa.ResourceManager('@py')\n",
    "\n",
    "print(rm)"
   ]
  },
  {
   "cell_type": "code",
   "execution_count": 82,
   "id": "708c1ddc-85c8-42ab-88f0-0a1a64da9323",
   "metadata": {},
   "outputs": [
    {
     "name": "stderr",
     "output_type": "stream",
     "text": [
      "libgpib: invalid descriptor\n",
      "libgpib: invalid descriptor\n",
      "libgpib: invalid descriptor\n",
      "libgpib: invalid descriptor\n",
      "libgpib: invalid descriptor\n",
      "libgpib: invalid descriptor\n",
      "libgpib: invalid descriptor\n",
      "libgpib: invalid descriptor\n",
      "libgpib: invalid descriptor\n",
      "libgpib: invalid descriptor\n",
      "libgpib: invalid descriptor\n",
      "libgpib: invalid descriptor\n",
      "libgpib: invalid descriptor\n",
      "libgpib: invalid descriptor\n",
      "libgpib: invalid descriptor\n",
      "libgpib: invalid descriptor\n",
      "libgpib: invalid descriptor\n",
      "libgpib: invalid descriptor\n",
      "libgpib: invalid descriptor\n",
      "libgpib: invalid descriptor\n",
      "libgpib: invalid descriptor\n",
      "libgpib: invalid descriptor\n",
      "libgpib: invalid descriptor\n",
      "libgpib: invalid descriptor\n",
      "libgpib: invalid descriptor\n",
      "libgpib: invalid descriptor\n",
      "libgpib: invalid descriptor\n",
      "libgpib: invalid descriptor\n",
      "libgpib: invalid descriptor\n",
      "libgpib: invalid descriptor\n",
      "libgpib: invalid descriptor\n",
      "libgpib: invalid descriptor\n",
      "libgpib: invalid descriptor\n",
      "libgpib: invalid descriptor\n",
      "libgpib: invalid descriptor\n",
      "libgpib: invalid descriptor\n",
      "libgpib: invalid descriptor\n",
      "libgpib: invalid descriptor\n",
      "libgpib: invalid descriptor\n",
      "libgpib: invalid descriptor\n",
      "libgpib: invalid descriptor\n",
      "libgpib: invalid descriptor\n",
      "libgpib: invalid descriptor\n",
      "libgpib: invalid descriptor\n",
      "libgpib: invalid descriptor\n",
      "libgpib: invalid descriptor\n",
      "libgpib: invalid descriptor\n",
      "libgpib: invalid descriptor\n",
      "libgpib: invalid descriptor\n",
      "libgpib: invalid descriptor\n",
      "libgpib: invalid descriptor\n",
      "libgpib: invalid descriptor\n",
      "libgpib: invalid descriptor\n",
      "libgpib: invalid descriptor\n",
      "libgpib: invalid descriptor\n",
      "libgpib: invalid descriptor\n",
      "libgpib: invalid descriptor\n",
      "libgpib: invalid descriptor\n",
      "libgpib: invalid descriptor\n",
      "libgpib: invalid descriptor\n"
     ]
    },
    {
     "name": "stdout",
     "output_type": "stream",
     "text": [
      "Connected to: YOKOGAWA GS210 (serial:91LA25023, firmware:1.05) in 0.18s\n"
     ]
    },
    {
     "ename": "KeyError",
     "evalue": "'Another instrument has the name: gs200'",
     "output_type": "error",
     "traceback": [
      "\u001b[0;31m---------------------------------------------------------------------------\u001b[0m",
      "\u001b[0;31mKeyError\u001b[0m                                  Traceback (most recent call last)",
      "Input \u001b[0;32mIn [82]\u001b[0m, in \u001b[0;36m<cell line: 8>\u001b[0;34m()\u001b[0m\n\u001b[1;32m      3\u001b[0m resources \u001b[38;5;241m=\u001b[39m rm\u001b[38;5;241m.\u001b[39mlist_resources()\n\u001b[1;32m      5\u001b[0m \u001b[38;5;66;03m# intialize the instrument with the following parameters:\u001b[39;00m\n\u001b[1;32m      6\u001b[0m \n\u001b[1;32m      7\u001b[0m \u001b[38;5;66;03m# the instrument is initialized and stored as a variable gs, where \"gs200\" is its name\u001b[39;00m\n\u001b[0;32m----> 8\u001b[0m gs \u001b[38;5;241m=\u001b[39m \u001b[43mGS200\u001b[49m\u001b[43m(\u001b[49m\u001b[38;5;124;43m\"\u001b[39;49m\u001b[38;5;124;43mgs200\u001b[39;49m\u001b[38;5;124;43m\"\u001b[39;49m\u001b[43m,\u001b[49m\u001b[43m \u001b[49m\u001b[43maddress\u001b[49m\u001b[38;5;241;43m=\u001b[39;49m\u001b[43mresources\u001b[49m\u001b[43m[\u001b[49m\u001b[38;5;241;43m0\u001b[39;49m\u001b[43m]\u001b[49m\u001b[43m,\u001b[49m\u001b[43m \u001b[49m\u001b[43mterminator\u001b[49m\u001b[38;5;241;43m=\u001b[39;49m\u001b[38;5;124;43m\"\u001b[39;49m\u001b[38;5;130;43;01m\\n\u001b[39;49;00m\u001b[38;5;124;43m\"\u001b[39;49m\u001b[43m)\u001b[49m\n\u001b[1;32m     10\u001b[0m \u001b[38;5;66;03m# the instrument is initialized and stored as a variable gs, where \"keith\" is its name\u001b[39;00m\n\u001b[1;32m     11\u001b[0m keith \u001b[38;5;241m=\u001b[39m Keithley_2400(\u001b[38;5;124m\"\u001b[39m\u001b[38;5;124mkeithley2400\u001b[39m\u001b[38;5;124m\"\u001b[39m, address\u001b[38;5;241m=\u001b[39mresources[\u001b[38;5;241m1\u001b[39m])\n",
      "File \u001b[0;32m/usr/local/lib/python3.10/dist-packages/qcodes/instrument/base.py:568\u001b[0m, in \u001b[0;36mInstrumentMeta.__call__\u001b[0;34m(cls, *args, **kwargs)\u001b[0m\n\u001b[1;32m    562\u001b[0m     new_inst\u001b[38;5;241m.\u001b[39mclose()\n\u001b[1;32m    563\u001b[0m     \u001b[38;5;28;01mraise\u001b[39;00m \u001b[38;5;167;01mNotImplementedError\u001b[39;00m(\n\u001b[1;32m    564\u001b[0m         \u001b[38;5;124mf\u001b[39m\u001b[38;5;124m\"\u001b[39m\u001b[38;5;132;01m{\u001b[39;00mnew_inst\u001b[38;5;132;01m}\u001b[39;00m\u001b[38;5;124m has un-implemented Abstract Parameter \u001b[39m\u001b[38;5;124m\"\u001b[39m\n\u001b[1;32m    565\u001b[0m         \u001b[38;5;124mf\u001b[39m\u001b[38;5;124m\"\u001b[39m\u001b[38;5;124mand cannot be initialized\u001b[39m\u001b[38;5;124m\"\u001b[39m\n\u001b[1;32m    566\u001b[0m     )\n\u001b[0;32m--> 568\u001b[0m \u001b[43mnew_inst\u001b[49m\u001b[38;5;241;43m.\u001b[39;49m\u001b[43mrecord_instance\u001b[49m\u001b[43m(\u001b[49m\u001b[43mnew_inst\u001b[49m\u001b[43m)\u001b[49m\n\u001b[1;32m    569\u001b[0m \u001b[38;5;28;01mreturn\u001b[39;00m new_inst\n",
      "File \u001b[0;32m/usr/local/lib/python3.10/dist-packages/qcodes/instrument/base.py:762\u001b[0m, in \u001b[0;36mInstrument.record_instance\u001b[0;34m(cls, instance)\u001b[0m\n\u001b[1;32m    760\u001b[0m existing_instr \u001b[38;5;241m=\u001b[39m \u001b[38;5;28mcls\u001b[39m\u001b[38;5;241m.\u001b[39m_all_instruments\u001b[38;5;241m.\u001b[39mget(name)\n\u001b[1;32m    761\u001b[0m \u001b[38;5;28;01mif\u001b[39;00m existing_instr:\n\u001b[0;32m--> 762\u001b[0m     \u001b[38;5;28;01mraise\u001b[39;00m \u001b[38;5;167;01mKeyError\u001b[39;00m(\u001b[38;5;124mf\u001b[39m\u001b[38;5;124m'\u001b[39m\u001b[38;5;124mAnother instrument has the name: \u001b[39m\u001b[38;5;132;01m{\u001b[39;00mname\u001b[38;5;132;01m}\u001b[39;00m\u001b[38;5;124m'\u001b[39m)\n\u001b[1;32m    764\u001b[0m \u001b[38;5;28mcls\u001b[39m\u001b[38;5;241m.\u001b[39m_all_instruments[name] \u001b[38;5;241m=\u001b[39m instance\n\u001b[1;32m    766\u001b[0m \u001b[38;5;66;03m# Then add it to the record for this specific subclass, using ``_type``\u001b[39;00m\n\u001b[1;32m    767\u001b[0m \u001b[38;5;66;03m# to make sure we're not recording it in a base class instance list\u001b[39;00m\n",
      "\u001b[0;31mKeyError\u001b[0m: 'Another instrument has the name: gs200'"
     ]
    }
   ],
   "source": [
    "# list the resources that the visapy-py backend detects, should look something like:\n",
    "# `('ASRL/dev/ttyS4::INSTR', 'USB0::2849::57::91LA25023::0::INSTR')`\n",
    "resources = rm.list_resources()\n",
    "\n",
    "# intialize the instrument with the following parameters:\n",
    "\n",
    "# the instrument is initialized and stored as a variable gs, where \"gs200\" is its name\n",
    "gs = GS200(\"gs200\", address=resources[0], terminator=\"\\n\")\n",
    "\n",
    "# the instrument is initialized and stored as a variable gs, where \"keith\" is its name\n",
    "keith = Keithley_2400(\"keithley2400\", address=resources[1])"
   ]
  },
  {
   "cell_type": "code",
   "execution_count": 4,
   "id": "2fa8a115-23a5-47bd-bda9-6421b19efb4e",
   "metadata": {},
   "outputs": [],
   "source": [
    "station = qc.Station()"
   ]
  },
  {
   "cell_type": "code",
   "execution_count": 8,
   "id": "9d658e12-26ef-43e4-b446-e4e2419f7ddc",
   "metadata": {},
   "outputs": [
    {
     "name": "stderr",
     "output_type": "stream",
     "text": [
      "[gs200_program(GS200Program)] Snapshot: Could not update parameter: trigger\n"
     ]
    },
    {
     "ename": "RuntimeError",
     "evalue": "Cannot add component \"gs200\", because a component of that name is already registered to the station",
     "output_type": "error",
     "traceback": [
      "\u001b[0;31m---------------------------------------------------------------------------\u001b[0m",
      "\u001b[0;31mRuntimeError\u001b[0m                              Traceback (most recent call last)",
      "Input \u001b[0;32mIn [8]\u001b[0m, in \u001b[0;36m<cell line: 1>\u001b[0;34m()\u001b[0m\n\u001b[0;32m----> 1\u001b[0m \u001b[43mstation\u001b[49m\u001b[38;5;241;43m.\u001b[39;49m\u001b[43madd_component\u001b[49m\u001b[43m(\u001b[49m\u001b[43mgs\u001b[49m\u001b[43m)\u001b[49m\n\u001b[1;32m      2\u001b[0m station\u001b[38;5;241m.\u001b[39madd_component(keith)\n",
      "File \u001b[0;32m/usr/local/lib/python3.10/dist-packages/qcodes/station.py:254\u001b[0m, in \u001b[0;36mStation.add_component\u001b[0;34m(self, component, name, update_snapshot)\u001b[0m\n\u001b[1;32m    252\u001b[0m namestr \u001b[38;5;241m=\u001b[39m \u001b[38;5;28mstr\u001b[39m(name)\n\u001b[1;32m    253\u001b[0m \u001b[38;5;28;01mif\u001b[39;00m namestr \u001b[38;5;129;01min\u001b[39;00m \u001b[38;5;28mself\u001b[39m\u001b[38;5;241m.\u001b[39mcomponents\u001b[38;5;241m.\u001b[39mkeys():\n\u001b[0;32m--> 254\u001b[0m     \u001b[38;5;28;01mraise\u001b[39;00m \u001b[38;5;167;01mRuntimeError\u001b[39;00m(\n\u001b[1;32m    255\u001b[0m         \u001b[38;5;124mf\u001b[39m\u001b[38;5;124m'\u001b[39m\u001b[38;5;124mCannot add component \u001b[39m\u001b[38;5;124m\"\u001b[39m\u001b[38;5;132;01m{\u001b[39;00mnamestr\u001b[38;5;132;01m}\u001b[39;00m\u001b[38;5;124m\"\u001b[39m\u001b[38;5;124m, because a \u001b[39m\u001b[38;5;124m'\u001b[39m\n\u001b[1;32m    256\u001b[0m         \u001b[38;5;124m'\u001b[39m\u001b[38;5;124mcomponent of that name is already registered to the station\u001b[39m\u001b[38;5;124m'\u001b[39m)\n\u001b[1;32m    257\u001b[0m \u001b[38;5;28mself\u001b[39m\u001b[38;5;241m.\u001b[39mcomponents[namestr] \u001b[38;5;241m=\u001b[39m component\n\u001b[1;32m    258\u001b[0m \u001b[38;5;28;01mreturn\u001b[39;00m namestr\n",
      "\u001b[0;31mRuntimeError\u001b[0m: Cannot add component \"gs200\", because a component of that name is already registered to the station"
     ]
    }
   ],
   "source": [
    "station.add_component(gs)\n",
    "station.add_component(keith)"
   ]
  },
  {
   "cell_type": "code",
   "execution_count": 6,
   "id": "c40a3961-ef77-4e6b-b4e0-c653f0a90e46",
   "metadata": {},
   "outputs": [
    {
     "name": "stdout",
     "output_type": "stream",
     "text": [
      "keithley2400:\n",
      "\tparameter  value\n",
      "--------------------------------------------------------------------------------\n",
      "IDN         :\t{'vendor': 'KEITHLEY INSTRUMENTS INC.', 'model': '2400', 'seria...\n",
      "compliancei :\t0.000105 \n",
      "compliancev :\t21 \n",
      "curr        :\tNone (A)\n",
      "mode        :\tVOLT \n",
      "nplci       :\t1 \n",
      "nplcv       :\t1 \n",
      "output      :\tFalse \n",
      "rangei      :\t0.000105 \n",
      "rangev      :\t21 \n",
      "resistance  :\tNone (Ohm)\n",
      "sense       :\t\"CURR:DC\" \n",
      "timeout     :\t10 (s)\n",
      "volt        :\tNone (V)\n"
     ]
    }
   ],
   "source": [
    "keith.print_readable_snapshot()"
   ]
  },
  {
   "cell_type": "code",
   "execution_count": 7,
   "id": "b8dbf798-e58d-46bc-9f48-2974765235a1",
   "metadata": {},
   "outputs": [
    {
     "name": "stdout",
     "output_type": "stream",
     "text": [
      "gs200:\n",
      "\tparameter    value\n",
      "--------------------------------------------------------------------------------\n",
      "BNC_in        :\tTRIG \n",
      "BNC_out       :\tTRIG \n",
      "IDN           :\t{'vendor': 'YOKOGAWA', 'model': 'GS210', 'serial': '91LA25023...\n",
      "auto_range    :\tFalse \n",
      "current_limit :\t0.2 (I)\n",
      "four_wire     :\toff \n",
      "guard         :\toff \n",
      "line_freq     :\t60 (Hz)\n",
      "output        :\toff \n",
      "output_level  :\t0 (V)\n",
      "range         :\t1 (V)\n",
      "source_mode   :\tVOLT \n",
      "system_errors :\t-113,\"Undefined header, TRIG\" \n",
      "timeout       :\t10 (s)\n",
      "voltage       :\t0 (V)\n",
      "voltage_limit :\t30 (V)\n",
      "voltage_range :\t1 (V)\n"
     ]
    },
    {
     "ename": "ValueError",
     "evalue": "max() arg is an empty sequence",
     "output_type": "error",
     "traceback": [
      "\u001b[0;31m---------------------------------------------------------------------------\u001b[0m",
      "\u001b[0;31mValueError\u001b[0m                                Traceback (most recent call last)",
      "Input \u001b[0;32mIn [7]\u001b[0m, in \u001b[0;36m<cell line: 1>\u001b[0;34m()\u001b[0m\n\u001b[0;32m----> 1\u001b[0m \u001b[43mgs\u001b[49m\u001b[38;5;241;43m.\u001b[39;49m\u001b[43mprint_readable_snapshot\u001b[49m\u001b[43m(\u001b[49m\u001b[43m)\u001b[49m\n",
      "File \u001b[0;32m/usr/local/lib/python3.10/dist-packages/qcodes/instrument/base.py:336\u001b[0m, in \u001b[0;36mInstrumentBase.print_readable_snapshot\u001b[0;34m(self, update, max_chars)\u001b[0m\n\u001b[1;32m    333\u001b[0m     \u001b[38;5;28mprint\u001b[39m(msg)\n\u001b[1;32m    335\u001b[0m \u001b[38;5;28;01mfor\u001b[39;00m submodule \u001b[38;5;129;01min\u001b[39;00m \u001b[38;5;28mself\u001b[39m\u001b[38;5;241m.\u001b[39msubmodules\u001b[38;5;241m.\u001b[39mvalues():\n\u001b[0;32m--> 336\u001b[0m     \u001b[43msubmodule\u001b[49m\u001b[38;5;241;43m.\u001b[39;49m\u001b[43mprint_readable_snapshot\u001b[49m\u001b[43m(\u001b[49m\u001b[43mupdate\u001b[49m\u001b[38;5;241;43m=\u001b[39;49m\u001b[43mupdate\u001b[49m\u001b[43m,\u001b[49m\n\u001b[1;32m    337\u001b[0m \u001b[43m                                      \u001b[49m\u001b[43mmax_chars\u001b[49m\u001b[38;5;241;43m=\u001b[39;49m\u001b[43mmax_chars\u001b[49m\u001b[43m)\u001b[49m\n",
      "File \u001b[0;32m/usr/local/lib/python3.10/dist-packages/qcodes/instrument/base.py:305\u001b[0m, in \u001b[0;36mInstrumentBase.print_readable_snapshot\u001b[0;34m(self, update, max_chars)\u001b[0m\n\u001b[1;32m    301\u001b[0m par_lengths \u001b[38;5;241m=\u001b[39m [\u001b[38;5;28mlen\u001b[39m(p) \u001b[38;5;28;01mfor\u001b[39;00m p \u001b[38;5;129;01min\u001b[39;00m snapshot[\u001b[38;5;124m'\u001b[39m\u001b[38;5;124mparameters\u001b[39m\u001b[38;5;124m'\u001b[39m]]\n\u001b[1;32m    303\u001b[0m \u001b[38;5;66;03m# Min of 50 is to prevent a super long parameter name to break this\u001b[39;00m\n\u001b[1;32m    304\u001b[0m \u001b[38;5;66;03m# function\u001b[39;00m\n\u001b[0;32m--> 305\u001b[0m par_field_len \u001b[38;5;241m=\u001b[39m \u001b[38;5;28mmin\u001b[39m(\u001b[38;5;28;43mmax\u001b[39;49m\u001b[43m(\u001b[49m\u001b[43mpar_lengths\u001b[49m\u001b[43m)\u001b[49m\u001b[38;5;241m+\u001b[39m\u001b[38;5;241m1\u001b[39m, \u001b[38;5;241m50\u001b[39m)\n\u001b[1;32m    307\u001b[0m \u001b[38;5;28mprint\u001b[39m(\u001b[38;5;28mself\u001b[39m\u001b[38;5;241m.\u001b[39mname \u001b[38;5;241m+\u001b[39m \u001b[38;5;124m'\u001b[39m\u001b[38;5;124m:\u001b[39m\u001b[38;5;124m'\u001b[39m)\n\u001b[1;32m    308\u001b[0m \u001b[38;5;28mprint\u001b[39m(\u001b[38;5;124m'\u001b[39m\u001b[38;5;124m{\u001b[39m\u001b[38;5;124m0:<\u001b[39m\u001b[38;5;132;01m{1}\u001b[39;00m\u001b[38;5;124m}\u001b[39m\u001b[38;5;124m'\u001b[39m\u001b[38;5;241m.\u001b[39mformat(\u001b[38;5;124m'\u001b[39m\u001b[38;5;130;01m\\t\u001b[39;00m\u001b[38;5;124mparameter \u001b[39m\u001b[38;5;124m'\u001b[39m, par_field_len) \u001b[38;5;241m+\u001b[39m \u001b[38;5;124m'\u001b[39m\u001b[38;5;124mvalue\u001b[39m\u001b[38;5;124m'\u001b[39m)\n",
      "\u001b[0;31mValueError\u001b[0m: max() arg is an empty sequence"
     ]
    }
   ],
   "source": [
    "gs.print_readable_snapshot()"
   ]
  },
  {
   "cell_type": "code",
   "execution_count": 79,
   "id": "313e0cd2-b364-4a20-905a-441bc2f11173",
   "metadata": {},
   "outputs": [],
   "source": [
    "gs.reset()\n",
    "gs.auto_range(True)\n",
    "gs.source_mode('CURR')\n",
    "gs.current(0)\n",
    "gs.output('on')"
   ]
  },
  {
   "cell_type": "code",
   "execution_count": 80,
   "id": "9f6bfd4c-b156-43de-9647-92eda1c55a89",
   "metadata": {},
   "outputs": [],
   "source": [
    "keith.reset()"
   ]
  },
  {
   "cell_type": "code",
   "execution_count": 108,
   "id": "48a63f78-9d72-4d42-9058-3cda1e7ae284",
   "metadata": {},
   "outputs": [],
   "source": [
    "# lower the compliance current all the way\n",
    "#keith.mode('VOLT')\n",
    "keith._set_mode_and_sense('CURR')\n",
    "keith._set_mode_and_sense('VOLT')\n",
    "keith.compliancei(1e-06)\n",
    "keith.rangev(30)\n",
    "#keith.sense()\n",
    "keith.output(1)\n",
    "# resetting the instrument"
   ]
  },
  {
   "cell_type": "code",
   "execution_count": 134,
   "id": "8600443c-859c-4f13-bf02-60bcd4f4a4e3",
   "metadata": {},
   "outputs": [],
   "source": [
    "keith.mode('CURR')\n",
    "keith.sense(\"VOLT:DC\")\n",
    "keith.mode('VOLT')\n",
    "keith.compliancei(1e-06)\n",
    "keith.rangev(30)\n",
    "keith.output(1)"
   ]
  },
  {
   "cell_type": "code",
   "execution_count": 135,
   "id": "bfede977-2aea-4023-980c-75b67443a015",
   "metadata": {},
   "outputs": [],
   "source": [
    "import numpy as np\n",
    "import qcodes as qc\n",
    "from qcodes.dataset import (\n",
    "    Measurement,\n",
    "    experiments,\n",
    "    initialise_or_create_database_at,\n",
    "    load_by_run_spec,\n",
    "    load_or_create_experiment,\n",
    ")\n",
    "\n",
    "## Dummy instruments for generating synthetic data\n",
    "from qcodes.tests.instrument_mocks import (\n",
    "    DummyInstrument, \n",
    "    DummyInstrumentWithMeasurement\n",
    ")\n",
    "\n",
    "## Multidimensional scanning module\n",
    "from qcodes.utils.dataset.doNd import (\n",
    "    dond, \n",
    "    LinSweep\n",
    ")\n",
    "\n",
    "## Integrated plotting module\n",
    "from qcodes.dataset.plotting import plot_dataset\n",
    "\n",
    "## Using interactive widget\n",
    "from qcodes.interactive_widget import experiments_widget"
   ]
  },
  {
   "cell_type": "code",
   "execution_count": 136,
   "id": "d31543ad-04c7-42f0-9072-848e85afe03d",
   "metadata": {},
   "outputs": [],
   "source": [
    "initialise_or_create_database_at(\"~/experiments_for_15_mins.db\")"
   ]
  },
  {
   "cell_type": "code",
   "execution_count": 137,
   "id": "b279aa59-ade4-4392-ba0b-905e16bf355f",
   "metadata": {},
   "outputs": [],
   "source": [
    "tutorial_exp = load_or_create_experiment(\n",
    "    experiment_name=\"tutorial_exp\",\n",
    "    sample_name=\"synthetic data\"\n",
    ")"
   ]
  },
  {
   "cell_type": "code",
   "execution_count": 138,
   "id": "4f108520-d6e8-484d-9988-c1ba50dfc549",
   "metadata": {},
   "outputs": [],
   "source": [
    "context_meas = Measurement(exp=tutorial_exp, name='context_example')"
   ]
  },
  {
   "cell_type": "code",
   "execution_count": 139,
   "id": "a512741c-75dd-4dd4-9020-9b225995d5ef",
   "metadata": {},
   "outputs": [
    {
     "data": {
      "text/plain": [
       "<qcodes.dataset.measurements.Measurement at 0x7f6ab84bbd90>"
      ]
     },
     "execution_count": 139,
     "metadata": {},
     "output_type": "execute_result"
    }
   ],
   "source": [
    "# Register the independent parameter...\n",
    "context_meas.register_parameter(gs.current)\n",
    "# ...then register the dependent parameter\n",
    "context_meas.register_parameter(keith.volt, setpoints=(gs.current,))"
   ]
  },
  {
   "cell_type": "code",
   "execution_count": 271,
   "id": "ea017c9f-7ef8-4889-a69a-20cdacd9bd51",
   "metadata": {},
   "outputs": [],
   "source": [
    "# Setting up a doNd measurement\n",
    "sweep_1 = LinSweep(gs.current, -0.004, 0.004, 50, 0.01)"
   ]
  },
  {
   "cell_type": "code",
   "execution_count": 272,
   "id": "98b8d634-6008-4f78-96d3-7614cd956ece",
   "metadata": {},
   "outputs": [
    {
     "name": "stdout",
     "output_type": "stream",
     "text": [
      "Starting experimental run with id: 23. Using 'qcodes.dataset.dond'\n"
     ]
    },
    {
     "data": {
      "application/vnd.jupyter.widget-view+json": {
       "model_id": "ed8dea9496b649149af4fa4485a1122b",
       "version_major": 2,
       "version_minor": 0
      },
      "text/plain": [
       "  0%|          | 0/50 [00:00<?, ?it/s]"
      ]
     },
     "metadata": {},
     "output_type": "display_data"
    },
    {
     "data": {
      "text/plain": [
       "(dond_example #23@/root/experiments_for_15_mins.db\n",
       " -------------------------------------------------\n",
       " gs200_current - numeric\n",
       " keithley2400_volt - numeric,\n",
       " [None],\n",
       " [None])"
      ]
     },
     "execution_count": 272,
     "metadata": {},
     "output_type": "execute_result"
    }
   ],
   "source": [
    "dond(\n",
    "    sweep_1,                          # 1st independent parameter\n",
    "    keith.volt,                         # 1st dependent parameter\n",
    "    measurement_name=\"dond_example\",  # Set the measurement name\n",
    "    exp=tutorial_exp,             # Set the experiment to save data to.\n",
    "    show_progress=True                # Optional progress bar\n",
    ")"
   ]
  },
  {
   "cell_type": "code",
   "execution_count": 276,
   "id": "537acedc-9d5a-4684-876b-10dad1de084f",
   "metadata": {},
   "outputs": [
    {
     "data": {
      "text/plain": [
       "dond_example #22@/root/experiments_for_15_mins.db\n",
       "-------------------------------------------------\n",
       "gs200_current - numeric\n",
       "keithley2400_volt - numeric"
      ]
     },
     "execution_count": 276,
     "metadata": {},
     "output_type": "execute_result"
    }
   ],
   "source": [
    "tutorial_exp.data_sets()[-1]"
   ]
  },
  {
   "cell_type": "code",
   "execution_count": 277,
   "id": "0f154d8e-2932-4379-9b6e-87c1c4f0881f",
   "metadata": {},
   "outputs": [],
   "source": [
    "dataset = tutorial_exp.data_sets()[-1]"
   ]
  },
  {
   "cell_type": "code",
   "execution_count": 278,
   "id": "5ef3a29e-ac2d-4d9a-91ad-49b7a4af75d3",
   "metadata": {},
   "outputs": [
    {
     "data": {
      "text/plain": [
       "([<AxesSubplot:title={'center':'Run #23, Experiment tutorial_exp (synthetic data)'}, xlabel='Current ($10^{-3}$ I)', ylabel='Voltage (V)'>],\n",
       " [None])"
      ]
     },
     "execution_count": 278,
     "metadata": {},
     "output_type": "execute_result"
    },
    {
     "data": {
      "image/png": "[encoded data removed]",
      "text/plain": [
       "<Figure size 432x288 with 1 Axes>"
      ]
     },
     "metadata": {
      "needs_background": "light"
     },
     "output_type": "display_data"
    }
   ],
   "source": [
    "plot_dataset(dataset)"
   ]
  },
  {
   "cell_type": "code",
   "execution_count": 279,
   "id": "8ad4b396-053b-4504-a05e-9865ce891196",
   "metadata": {},
   "outputs": [
    {
     "data": {
      "text/html": [
       "<div>\n",
       "<style scoped>\n",
       "    .dataframe tbody tr th:only-of-type {\n",
       "        vertical-align: middle;\n",
       "    }\n",
       "\n",
       "    .dataframe tbody tr th {\n",
       "        vertical-align: top;\n",
       "    }\n",
       "\n",
       "    .dataframe thead th {\n",
       "        text-align: right;\n",
       "    }\n",
       "</style>\n",
       "<table border=\"1\" class=\"dataframe\">\n",
       "  <thead>\n",
       "    <tr style=\"text-align: right;\">\n",
       "      <th></th>\n",
       "      <th>gs200_current</th>\n",
       "      <th>keithley2400_volt</th>\n",
       "    </tr>\n",
       "  </thead>\n",
       "  <tbody>\n",
       "    <tr>\n",
       "      <th>0</th>\n",
       "      <td>-0.004</td>\n",
       "      <td>-29.94177</td>\n",
       "    </tr>\n",
       "  </tbody>\n",
       "</table>\n",
       "</div>"
      ],
      "text/plain": [
       "   gs200_current  keithley2400_volt\n",
       "0         -0.004          -29.94177"
      ]
     },
     "execution_count": 279,
     "metadata": {},
     "output_type": "execute_result"
    }
   ],
   "source": [
    "df = dataset.to_pandas_dataframe()\n",
    "df.reset_index()[:1]"
   ]
  },
  {
   "cell_type": "code",
   "execution_count": 280,
   "id": "a72ce5cd-ad76-44f6-b5c2-30538691b26c",
   "metadata": {},
   "outputs": [],
   "source": [
    "import matplotlib.pyplot as plt"
   ]
  },
  {
   "cell_type": "code",
   "execution_count": 283,
   "id": "da314d5c-7043-472c-a45a-a48e2f34b4ab",
   "metadata": {},
   "outputs": [
    {
     "data": {
      "image/png": "[encoded data removed]",
      "text/plain": [
       "<Figure size 720x576 with 1 Axes>"
      ]
     },
     "metadata": {
      "needs_background": "light"
     },
     "output_type": "display_data"
    }
   ],
   "source": [
    "import random\n",
    "plt.figure(figsize=(10, 8))\n",
    "ax = plt.axes()\n",
    "ax.scatter(x=df.reset_index().loc[:,\"gs200_current\"], y=df.reset_index().loc[:,\"keithley2400_volt\"])\n",
    "ax.plot(df, color=\"orange\")\n",
    "\n",
    "ax.set_xlabel('Current(A)')\n",
    "ax.set_ylabel('Voltage(V)')\n",
    "\n",
    "plt.grid()\n",
    "\n",
    "plt.xlim([-0.001, 0.001])\n",
    "plt.show()"
   ]
  },
  {
   "cell_type": "code",
   "execution_count": 284,
   "id": "156ce06d-10b1-4065-a75e-13cbc95c896c",
   "metadata": {},
   "outputs": [],
   "source": [
    "gs.reset()"
   ]
  },
  {
   "cell_type": "code",
   "execution_count": 285,
   "id": "c35eb16f-7238-49cd-b987-53293efafebf",
   "metadata": {},
   "outputs": [],
   "source": [
    "keith.reset()"
   ]
  },
  {
   "cell_type": "code",
   "execution_count": null,
   "id": "7c3ea82a-05f1-4e32-a1a2-b8b283f6b64c",
   "metadata": {},
   "outputs": [],
   "source": []
  }
 ],
 "metadata": {
  "kernelspec": {
   "display_name": "Python 3 (ipykernel)",
   "language": "python",
   "name": "python3"
  },
  "language_info": {
   "codemirror_mode": {
    "name": "ipython",
    "version": 3
   },
   "file_extension": ".py",
   "mimetype": "text/x-python",
   "name": "python",
   "nbconvert_exporter": "python",
   "pygments_lexer": "ipython3",
   "version": "3.10.4"
  }
 },
 "nbformat": 4,
 "nbformat_minor": 5
}
