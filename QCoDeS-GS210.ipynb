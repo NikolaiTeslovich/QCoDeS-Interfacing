{
 "cells": [
  {
   "cell_type": "code",
   "execution_count": 1,
   "id": "badb7683-fd1d-48fa-a7cd-ba980223b125",
   "metadata": {},
   "outputs": [
    {
     "name": "stderr",
     "output_type": "stream",
     "text": [
      "/home/nikolai/miniconda3/envs/qcodes/lib/python3.9/site-packages/gpib_ctypes/gpib/gpib.py:54: UserWarning: GPIB library not found. Please manually load it using _load_lib(filename). All GPIB functions will raise OSError until the library is manually loaded.\n",
      "  warnings.warn(message)\n"
     ]
    },
    {
     "name": "stdout",
     "output_type": "stream",
     "text": [
      "Resource Manager of Visa Library at py\n",
      "Resource Manager of Visa Library at /usr/lib/x86_64-linux-gnu/libvisa.so.21.5.0\n"
     ]
    }
   ],
   "source": [
    "import numpy as np\n",
    "import time\n",
    "import qcodes\n",
    "import pyvisa as visa\n",
    "#visa.log_to_screen()\n",
    "\n",
    "from qcodes.instrument_drivers.yokogawa.GS200 import GS200\n",
    "py_rm = visa.ResourceManager('@py')\n",
    "ni_rm = visa.ResourceManager()\n",
    "\n",
    "print(py_rm)\n",
    "print(ni_rm)"
   ]
  },
  {
   "cell_type": "code",
   "execution_count": 2,
   "id": "45da87c0-6b1f-49f2-88fc-136c5e254f2b",
   "metadata": {},
   "outputs": [
    {
     "name": "stdout",
     "output_type": "stream",
     "text": [
      "visa-py:('ASRL/dev/ttyS4::INSTR', 'USB0::2849::57::91LA25023::0::INSTR')\n",
      "visa-ni:('USB0::0x0B21::0x0039::91LA25023::INSTR', 'ASRL5::INSTR')\n"
     ]
    }
   ],
   "source": [
    "# for some reason, the USB access has to be initialized with the python resource manager\n",
    "print(\"visa-py:\" + str(py_rm.list_resources()))\n",
    "\n",
    "# the resource is opened to be recognizable by the ni drivers\n",
    "py_rm.open_resource(py_rm.list_resources()[1])\n",
    "\n",
    "print(\"visa-ni:\" + str(ni_rm.list_resources()))"
   ]
  },
  {
   "cell_type": "code",
   "execution_count": 4,
   "id": "9608f7f2-9a0b-4d70-b030-e018157da9a4",
   "metadata": {},
   "outputs": [
    {
     "name": "stdout",
     "output_type": "stream",
     "text": [
      "Connected to: YOKOGAWA GS210 (serial:91LA25023, firmware:1.05) in 0.27s\n"
     ]
    }
   ],
   "source": [
    "# intialize the instrument with the following parameters\n",
    "gs_addr = ni_rm.list_resources()[0]\n",
    "gs = GS200(\"gs200\", address=gs_addr, terminator=\"\\n\")"
   ]
  },
  {
   "cell_type": "code",
   "execution_count": 12,
   "id": "f7571e83-79da-49f3-842e-93dd3c07fe3d",
   "metadata": {},
   "outputs": [],
   "source": [
    "#gs.snapshot()"
   ]
  },
  {
   "cell_type": "code",
   "execution_count": 22,
   "id": "728057c5-a358-4028-8fc1-cff7af9a609f",
   "metadata": {},
   "outputs": [
    {
     "data": {
      "text/plain": [
       "'VOLT'"
      ]
     },
     "execution_count": 22,
     "metadata": {},
     "output_type": "execute_result"
    }
   ],
   "source": [
    "gs.source_mode()"
   ]
  },
  {
   "cell_type": "code",
   "execution_count": 57,
   "id": "870334f9-1b96-4134-b807-54561077a805",
   "metadata": {},
   "outputs": [],
   "source": [
    "gs.reset()\n",
    "gs.auto_range(True)"
   ]
  },
  {
   "cell_type": "code",
   "execution_count": 58,
   "id": "c1b7f0d6-f794-4919-994f-55e58af087e5",
   "metadata": {},
   "outputs": [
    {
     "data": {
      "text/plain": [
       "'CURR'"
      ]
     },
     "execution_count": 58,
     "metadata": {},
     "output_type": "execute_result"
    }
   ],
   "source": [
    "gs.source_mode('CURR')\n",
    "gs.source_mode()"
   ]
  },
  {
   "cell_type": "code",
   "execution_count": 26,
   "id": "258268eb-46c7-427f-bd54-a6d215fc3ede",
   "metadata": {},
   "outputs": [
    {
     "data": {
      "text/plain": [
       "'off'"
      ]
     },
     "execution_count": 26,
     "metadata": {},
     "output_type": "execute_result"
    }
   ],
   "source": [
    "gs.output('off')\n",
    "gs.output()"
   ]
  },
  {
   "cell_type": "code",
   "execution_count": 60,
   "id": "16456fed-2d48-4b49-9193-4a2b3d99ef54",
   "metadata": {},
   "outputs": [
    {
     "name": "stdout",
     "output_type": "stream",
     "text": [
      "Ramping took 19.05 seconds\n"
     ]
    }
   ],
   "source": [
    "gs.output('on')\n",
    "gs.current(0.000)\n",
    "t1 = time.time()\n",
    "gs.ramp_current(0.02, 0.001, 1)\n",
    "t2 = time.time()\n",
    "print(\"Ramping took {:.4} seconds\".format(t2-t1))"
   ]
  },
  {
   "cell_type": "code",
   "execution_count": 11,
   "id": "d65b866c-ca53-4637-979e-f93976ab3a79",
   "metadata": {},
   "outputs": [
    {
     "ename": "ValueError",
     "evalue": "('Cannot get/set CURR settings while in VOLT mode', 'setting gs200_current to 0.005')",
     "output_type": "error",
     "traceback": [
      "\u001b[0;31m---------------------------------------------------------------------------\u001b[0m",
      "\u001b[0;31mValueError\u001b[0m                                Traceback (most recent call last)",
      "Input \u001b[0;32mIn [11]\u001b[0m, in \u001b[0;36m<cell line: 1>\u001b[0;34m()\u001b[0m\n\u001b[0;32m----> 1\u001b[0m \u001b[43mgs\u001b[49m\u001b[38;5;241;43m.\u001b[39;49m\u001b[43mcurrent\u001b[49m\u001b[43m(\u001b[49m\u001b[38;5;241;43m0.005\u001b[39;49m\u001b[43m)\u001b[49m\n",
      "File \u001b[0;32m~/miniconda3/envs/qcodes/lib/python3.9/site-packages/qcodes/instrument/parameter.py:462\u001b[0m, in \u001b[0;36m_BaseParameter.__call__\u001b[0;34m(self, *args, **kwargs)\u001b[0m\n\u001b[1;32m    460\u001b[0m \u001b[38;5;28;01melse\u001b[39;00m:\n\u001b[1;32m    461\u001b[0m     \u001b[38;5;28;01mif\u001b[39;00m \u001b[38;5;28mself\u001b[39m\u001b[38;5;241m.\u001b[39msettable:\n\u001b[0;32m--> 462\u001b[0m         \u001b[38;5;28;43mself\u001b[39;49m\u001b[38;5;241;43m.\u001b[39;49m\u001b[43mset\u001b[49m\u001b[43m(\u001b[49m\u001b[38;5;241;43m*\u001b[39;49m\u001b[43margs\u001b[49m\u001b[43m,\u001b[49m\u001b[43m \u001b[49m\u001b[38;5;241;43m*\u001b[39;49m\u001b[38;5;241;43m*\u001b[39;49m\u001b[43mkwargs\u001b[49m\u001b[43m)\u001b[49m\n\u001b[1;32m    463\u001b[0m         \u001b[38;5;28;01mreturn\u001b[39;00m \u001b[38;5;28;01mNone\u001b[39;00m\n\u001b[1;32m    464\u001b[0m     \u001b[38;5;28;01melse\u001b[39;00m:\n",
      "File \u001b[0;32m~/miniconda3/envs/qcodes/lib/python3.9/site-packages/qcodes/instrument/parameter.py:717\u001b[0m, in \u001b[0;36m_BaseParameter._wrap_set.<locals>.set_wrapper\u001b[0;34m(value, **kwargs)\u001b[0m\n\u001b[1;32m    715\u001b[0m \u001b[38;5;28;01mexcept\u001b[39;00m \u001b[38;5;167;01mException\u001b[39;00m \u001b[38;5;28;01mas\u001b[39;00m e:\n\u001b[1;32m    716\u001b[0m     e\u001b[38;5;241m.\u001b[39margs \u001b[38;5;241m=\u001b[39m e\u001b[38;5;241m.\u001b[39margs \u001b[38;5;241m+\u001b[39m (\u001b[38;5;124mf\u001b[39m\u001b[38;5;124m'\u001b[39m\u001b[38;5;124msetting \u001b[39m\u001b[38;5;132;01m{\u001b[39;00m\u001b[38;5;28mself\u001b[39m\u001b[38;5;132;01m}\u001b[39;00m\u001b[38;5;124m to \u001b[39m\u001b[38;5;132;01m{\u001b[39;00mvalue\u001b[38;5;132;01m}\u001b[39;00m\u001b[38;5;124m'\u001b[39m,)\n\u001b[0;32m--> 717\u001b[0m     \u001b[38;5;28;01mraise\u001b[39;00m e\n",
      "File \u001b[0;32m~/miniconda3/envs/qcodes/lib/python3.9/site-packages/qcodes/instrument/parameter.py:701\u001b[0m, in \u001b[0;36m_BaseParameter._wrap_set.<locals>.set_wrapper\u001b[0;34m(value, **kwargs)\u001b[0m\n\u001b[1;32m    698\u001b[0m \u001b[38;5;66;03m# Start timer to measure execution time of set_function\u001b[39;00m\n\u001b[1;32m    699\u001b[0m t0 \u001b[38;5;241m=\u001b[39m time\u001b[38;5;241m.\u001b[39mperf_counter()\n\u001b[0;32m--> 701\u001b[0m \u001b[43mset_function\u001b[49m\u001b[43m(\u001b[49m\u001b[43mraw_val_step\u001b[49m\u001b[43m,\u001b[49m\u001b[43m \u001b[49m\u001b[38;5;241;43m*\u001b[39;49m\u001b[38;5;241;43m*\u001b[39;49m\u001b[43mkwargs\u001b[49m\u001b[43m)\u001b[49m\n\u001b[1;32m    703\u001b[0m \u001b[38;5;66;03m# Update last set time (used for calculating delays)\u001b[39;00m\n\u001b[1;32m    704\u001b[0m \u001b[38;5;28mself\u001b[39m\u001b[38;5;241m.\u001b[39m_t_last_set \u001b[38;5;241m=\u001b[39m time\u001b[38;5;241m.\u001b[39mperf_counter()\n",
      "File \u001b[0;32m~/miniconda3/envs/qcodes/lib/python3.9/site-packages/qcodes/utils/command.py:203\u001b[0m, in \u001b[0;36mCommand.__call__\u001b[0;34m(self, *args)\u001b[0m\n\u001b[1;32m    201\u001b[0m \u001b[38;5;28;01mif\u001b[39;00m \u001b[38;5;28mlen\u001b[39m(args) \u001b[38;5;241m!=\u001b[39m \u001b[38;5;28mself\u001b[39m\u001b[38;5;241m.\u001b[39marg_count:\n\u001b[1;32m    202\u001b[0m     \u001b[38;5;28;01mraise\u001b[39;00m \u001b[38;5;167;01mTypeError\u001b[39;00m(\u001b[38;5;124mf\u001b[39m\u001b[38;5;124m\"\u001b[39m\u001b[38;5;124mcommand takes exactly \u001b[39m\u001b[38;5;132;01m{\u001b[39;00m\u001b[38;5;28mself\u001b[39m\u001b[38;5;241m.\u001b[39marg_count\u001b[38;5;132;01m}\u001b[39;00m\u001b[38;5;124m args\u001b[39m\u001b[38;5;124m\"\u001b[39m)\n\u001b[0;32m--> 203\u001b[0m \u001b[38;5;28;01mreturn\u001b[39;00m \u001b[38;5;28;43mself\u001b[39;49m\u001b[38;5;241;43m.\u001b[39;49m\u001b[43mexec_function\u001b[49m\u001b[43m(\u001b[49m\u001b[38;5;241;43m*\u001b[39;49m\u001b[43margs\u001b[49m\u001b[43m)\u001b[49m\n",
      "File \u001b[0;32m~/miniconda3/envs/qcodes/lib/python3.9/site-packages/qcodes/instrument_drivers/yokogawa/GS200.py:477\u001b[0m, in \u001b[0;36mGS200._get_set_output\u001b[0;34m(self, mode, output_level)\u001b[0m\n\u001b[1;32m    466\u001b[0m \u001b[38;5;28;01mdef\u001b[39;00m \u001b[38;5;21m_get_set_output\u001b[39m(\u001b[38;5;28mself\u001b[39m, mode: \u001b[38;5;28mstr\u001b[39m,\n\u001b[1;32m    467\u001b[0m                     output_level: Optional[\u001b[38;5;28mfloat\u001b[39m] \u001b[38;5;241m=\u001b[39m \u001b[38;5;28;01mNone\u001b[39;00m\n\u001b[1;32m    468\u001b[0m                     ) \u001b[38;5;241m-\u001b[39m\u001b[38;5;241m>\u001b[39m Optional[\u001b[38;5;28mfloat\u001b[39m]:\n\u001b[1;32m    469\u001b[0m     \u001b[38;5;124;03m\"\"\"\u001b[39;00m\n\u001b[1;32m    470\u001b[0m \u001b[38;5;124;03m    Get or set the output level.\u001b[39;00m\n\u001b[1;32m    471\u001b[0m \n\u001b[0;32m   (...)\u001b[0m\n\u001b[1;32m    475\u001b[0m \u001b[38;5;124;03m            current level. Else we are setting it\u001b[39;00m\n\u001b[1;32m    476\u001b[0m \u001b[38;5;124;03m    \"\"\"\u001b[39;00m\n\u001b[0;32m--> 477\u001b[0m     \u001b[38;5;28;43mself\u001b[39;49m\u001b[38;5;241;43m.\u001b[39;49m\u001b[43m_assert_mode\u001b[49m\u001b[43m(\u001b[49m\u001b[43mmode\u001b[49m\u001b[43m)\u001b[49m\n\u001b[1;32m    478\u001b[0m     \u001b[38;5;28;01mif\u001b[39;00m output_level \u001b[38;5;129;01mis\u001b[39;00m \u001b[38;5;129;01mnot\u001b[39;00m \u001b[38;5;28;01mNone\u001b[39;00m:\n\u001b[1;32m    479\u001b[0m         \u001b[38;5;28mself\u001b[39m\u001b[38;5;241m.\u001b[39m_set_output(output_level)\n",
      "File \u001b[0;32m~/miniconda3/envs/qcodes/lib/python3.9/site-packages/qcodes/instrument_drivers/yokogawa/GS200.py:571\u001b[0m, in \u001b[0;36mGS200._assert_mode\u001b[0;34m(self, mode)\u001b[0m\n\u001b[1;32m    564\u001b[0m \u001b[38;5;124;03m\"\"\"\u001b[39;00m\n\u001b[1;32m    565\u001b[0m \u001b[38;5;124;03mAssert that we are in the correct mode to perform an operation.\u001b[39;00m\n\u001b[1;32m    566\u001b[0m \n\u001b[1;32m    567\u001b[0m \u001b[38;5;124;03mArgs:\u001b[39;00m\n\u001b[1;32m    568\u001b[0m \u001b[38;5;124;03m    mode: \"CURR\" or \"VOLT\"\u001b[39;00m\n\u001b[1;32m    569\u001b[0m \u001b[38;5;124;03m\"\"\"\u001b[39;00m\n\u001b[1;32m    570\u001b[0m \u001b[38;5;28;01mif\u001b[39;00m \u001b[38;5;28mself\u001b[39m\u001b[38;5;241m.\u001b[39msource_mode\u001b[38;5;241m.\u001b[39mget_latest() \u001b[38;5;241m!=\u001b[39m mode:\n\u001b[0;32m--> 571\u001b[0m     \u001b[38;5;28;01mraise\u001b[39;00m \u001b[38;5;167;01mValueError\u001b[39;00m(\u001b[38;5;124m\"\u001b[39m\u001b[38;5;124mCannot get/set \u001b[39m\u001b[38;5;132;01m{}\u001b[39;00m\u001b[38;5;124m settings while in \u001b[39m\u001b[38;5;132;01m{}\u001b[39;00m\u001b[38;5;124m mode\u001b[39m\u001b[38;5;124m\"\u001b[39m\u001b[38;5;241m.\u001b[39m\n\u001b[1;32m    572\u001b[0m                      \u001b[38;5;28mformat\u001b[39m(mode, \u001b[38;5;28mself\u001b[39m\u001b[38;5;241m.\u001b[39msource_mode\u001b[38;5;241m.\u001b[39mget_latest()))\n",
      "\u001b[0;31mValueError\u001b[0m: ('Cannot get/set CURR settings while in VOLT mode', 'setting gs200_current to 0.005')"
     ]
    }
   ],
   "source": [
    "gs.current(0.005)\n"
   ]
  },
  {
   "cell_type": "code",
   "execution_count": null,
   "id": "dbfe84fe-96b0-46f9-b26e-eee91fc21a0d",
   "metadata": {},
   "outputs": [],
   "source": []
  }
 ],
 "metadata": {
  "kernelspec": {
   "display_name": "Python 3 (ipykernel)",
   "language": "python",
   "name": "python3"
  },
  "language_info": {
   "codemirror_mode": {
    "name": "ipython",
    "version": 3
   },
   "file_extension": ".py",
   "mimetype": "text/x-python",
   "name": "python",
   "nbconvert_exporter": "python",
   "pygments_lexer": "ipython3",
   "version": "3.9.12"
  }
 },
 "nbformat": 4,
 "nbformat_minor": 5
}
