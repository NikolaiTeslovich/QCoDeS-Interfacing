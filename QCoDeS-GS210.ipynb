{
 "cells": [
  {
   "cell_type": "code",
   "execution_count": 1,
   "id": "badb7683-fd1d-48fa-a7cd-ba980223b125",
   "metadata": {},
   "outputs": [
    {
     "name": "stderr",
     "output_type": "stream",
     "text": [
      "/home/nikolai/miniconda3/envs/qcodes/lib/python3.9/site-packages/gpib_ctypes/gpib/gpib.py:54: UserWarning: GPIB library not found. Please manually load it using _load_lib(filename). All GPIB functions will raise OSError until the library is manually loaded.\n",
      "  warnings.warn(message)\n"
     ]
    },
    {
     "name": "stdout",
     "output_type": "stream",
     "text": [
      "Resource Manager of Visa Library at py\n",
      "Resource Manager of Visa Library at /usr/lib/x86_64-linux-gnu/libvisa.so.21.5.0\n"
     ]
    }
   ],
   "source": [
    "import numpy as np\n",
    "import time\n",
    "import qcodes\n",
    "import pyvisa as visa\n",
    "# enable to get a more debuggable output\n",
    "#visa.log_to_screen()\n",
    "\n",
    "from qcodes.instrument_drivers.yokogawa.GS200 import GS200\n",
    "#visapy-py resource manager\n",
    "py_rm = visa.ResourceManager('@py')\n",
    "#national instruments resource manager\n",
    "ni_rm = visa.ResourceManager()\n",
    "\n",
    "print(py_rm)\n",
    "print(ni_rm)"
   ]
  },
  {
   "cell_type": "code",
   "execution_count": 2,
   "id": "45da87c0-6b1f-49f2-88fc-136c5e254f2b",
   "metadata": {},
   "outputs": [
    {
     "name": "stdout",
     "output_type": "stream",
     "text": [
      "visa-py: ('ASRL/dev/ttyS4::INSTR', 'USB0::2849::57::91LA25023::0::INSTR')\n",
      "visa-ni: ('USB0::0x0B21::0x0039::91LA25023::INSTR', 'ASRL5::INSTR')\n"
     ]
    }
   ],
   "source": [
    "# for some reason, the USB access has to be initialized with the python resource manager\n",
    "# the resource is opened to be recognizable by the ni drivers\n",
    "py_rm.open_resource(py_rm.list_resources()[1])\n",
    "\n",
    "print(\"visa-py: \" + str(py_rm.list_resources()))\n",
    "print(\"visa-ni: \" + str(ni_rm.list_resources()))"
   ]
  },
  {
   "cell_type": "code",
   "execution_count": 3,
   "id": "9608f7f2-9a0b-4d70-b030-e018157da9a4",
   "metadata": {},
   "outputs": [
    {
     "name": "stdout",
     "output_type": "stream",
     "text": [
      "Connected to: YOKOGAWA GS210 (serial:91LA25023, firmware:1.05) in 0.23s\n"
     ]
    }
   ],
   "source": [
    "# intialize the instrument with the following parameters\n",
    "gs_addr = ni_rm.list_resources()[0]\n",
    "gs = GS200(\"gs200\", address=gs_addr, terminator=\"\\n\")"
   ]
  },
  {
   "cell_type": "code",
   "execution_count": 4,
   "id": "f7571e83-79da-49f3-842e-93dd3c07fe3d",
   "metadata": {},
   "outputs": [],
   "source": [
    "# can store a QCoDeS snapshot of the instrument with the following command\n",
    "#gs.snapshot()"
   ]
  },
  {
   "cell_type": "code",
   "execution_count": 4,
   "id": "28a65797-42db-48c0-af64-026fdc2a1c78",
   "metadata": {},
   "outputs": [],
   "source": [
    "# resetting the instrument\n",
    "gs.reset()\n",
    "gs.auto_range(True)"
   ]
  },
  {
   "cell_type": "code",
   "execution_count": 6,
   "id": "728057c5-a358-4028-8fc1-cff7af9a609f",
   "metadata": {},
   "outputs": [
    {
     "data": {
      "text/plain": [
       "'VOLT'"
      ]
     },
     "execution_count": 6,
     "metadata": {},
     "output_type": "execute_result"
    }
   ],
   "source": [
    "# the output mode of the instrument\n",
    "gs.source_mode()"
   ]
  },
  {
   "cell_type": "code",
   "execution_count": 9,
   "id": "84b8f82e-fc5f-438d-a167-3d76cb0e5884",
   "metadata": {},
   "outputs": [],
   "source": [
    "gs.voltage(0.1)\n",
    "gs.output('on')"
   ]
  },
  {
   "cell_type": "code",
   "execution_count": 21,
   "id": "0095f683-cf2d-4420-a4b0-a4436d6d5050",
   "metadata": {},
   "outputs": [],
   "source": [
    "gs.output('off')"
   ]
  },
  {
   "cell_type": "code",
   "execution_count": 7,
   "id": "870334f9-1b96-4134-b807-54561077a805",
   "metadata": {},
   "outputs": [],
   "source": [
    "# automatically adjust the range of the outputs\n",
    "gs.auto_range(True)"
   ]
  },
  {
   "cell_type": "code",
   "execution_count": 8,
   "id": "c1b7f0d6-f794-4919-994f-55e58af087e5",
   "metadata": {},
   "outputs": [
    {
     "data": {
      "text/plain": [
       "'CURR'"
      ]
     },
     "execution_count": 8,
     "metadata": {},
     "output_type": "execute_result"
    }
   ],
   "source": [
    "gs.source_mode('CURR')\n",
    "gs.source_mode()"
   ]
  },
  {
   "cell_type": "code",
   "execution_count": 9,
   "id": "258268eb-46c7-427f-bd54-a6d215fc3ede",
   "metadata": {},
   "outputs": [
    {
     "data": {
      "text/plain": [
       "'off'"
      ]
     },
     "execution_count": 9,
     "metadata": {},
     "output_type": "execute_result"
    }
   ],
   "source": [
    "gs.current(0)\n",
    "gs.output('off')\n",
    "gs.output()"
   ]
  },
  {
   "cell_type": "code",
   "execution_count": 41,
   "id": "9221f7ea-027d-4a5c-b50d-4dea78b99d8e",
   "metadata": {},
   "outputs": [
    {
     "data": {
      "application/vnd.jupyter.widget-view+json": {
       "model_id": "226abdb8c9fd4005a041f114b0551b70",
       "version_major": 2,
       "version_minor": 0
      },
      "text/plain": [
       "ToggleButtons(description='Mode:', options=('Voltage', 'Current'), value='Voltage')"
      ]
     },
     "metadata": {},
     "output_type": "display_data"
    }
   ],
   "source": [
    "import ipywidgets as widgets\n",
    "from IPython.display import display\n",
    "mode_toggle = widgets.ToggleButtons(\n",
    "    options=['Voltage', 'Current'],\n",
    "    description='Mode:',\n",
    "    disabled=False,\n",
    "    button_style='', # 'success', 'info', 'warning', 'danger' or ''\n",
    "    #tooltips=['Description of slow', 'Description of regular', 'Description of fast'],\n",
    "#     icons=['check'] * 3\n",
    ")\n",
    "\n",
    "mode_toggle"
   ]
  },
  {
   "cell_type": "code",
   "execution_count": 22,
   "id": "a407251c-7adf-48c7-a2d7-ecdbea49b7c7",
   "metadata": {},
   "outputs": [
    {
     "data": {
      "text/plain": [
       "('Voltage', 'Current')"
      ]
     },
     "execution_count": 22,
     "metadata": {},
     "output_type": "execute_result"
    }
   ],
   "source": [
    "mode_toggle.options"
   ]
  },
  {
   "cell_type": "code",
   "execution_count": 25,
   "id": "70f28646-5217-405e-9e3d-32509dd96029",
   "metadata": {},
   "outputs": [
    {
     "data": {
      "text/plain": [
       "'VOLT'"
      ]
     },
     "execution_count": 25,
     "metadata": {},
     "output_type": "execute_result"
    }
   ],
   "source": [
    "mode_toggle.value[:4].upper()"
   ]
  },
  {
   "cell_type": "code",
   "execution_count": 42,
   "id": "7c206d6c-c671-4c6d-b275-c1463bd9bcea",
   "metadata": {},
   "outputs": [],
   "source": [
    "def changed(change):\n",
    "    print(mode_toggle.value)\n",
    "    gs.source_mode(mode_toggle.value[:4].upper())\n",
    "    \n",
    "def on_reset_clicked(b):\n",
    "    with output:\n",
    "        gs.reset()\n",
    "    \n",
    "mode_toggle.observe(changed, 'value')"
   ]
  },
  {
   "cell_type": "code",
   "execution_count": 37,
   "id": "ed5f9220-6a13-4e81-bde8-52173fb86488",
   "metadata": {},
   "outputs": [
    {
     "data": {
      "application/vnd.jupyter.widget-view+json": {
       "model_id": "d721f983cf1f4b2881033d71b89bf6f8",
       "version_major": 2,
       "version_minor": 0
      },
      "text/plain": [
       "Button(description='Reset!', style=ButtonStyle())"
      ]
     },
     "metadata": {},
     "output_type": "display_data"
    },
    {
     "data": {
      "application/vnd.jupyter.widget-view+json": {
       "model_id": "2f85759e7fe8476db89fe2972a7993f2",
       "version_major": 2,
       "version_minor": 0
      },
      "text/plain": [
       "Output()"
      ]
     },
     "metadata": {},
     "output_type": "display_data"
    }
   ],
   "source": []
  },
  {
   "cell_type": "code",
   "execution_count": 44,
   "id": "16456fed-2d48-4b49-9193-4a2b3d99ef54",
   "metadata": {},
   "outputs": [
    {
     "name": "stdout",
     "output_type": "stream",
     "text": [
      "Ramping took 11.7 seconds\n"
     ]
    }
   ],
   "source": [
    "# ramping up current from 0 to 100mA in intervals of 0.1mA each 0.01 seconds\n",
    "gs.output('on')\n",
    "gs.current(0)\n",
    "t1 = time.time()\n",
    "gs.ramp_current(0.1, 0.0001, 0.01)\n",
    "t2 = time.time()\n",
    "print(\"Ramping took {:.4} seconds\".format(t2-t1))"
   ]
  },
  {
   "cell_type": "code",
   "execution_count": 16,
   "id": "f7bba727-b6f8-41b2-8b50-9f930c9a5560",
   "metadata": {},
   "outputs": [
    {
     "name": "stdout",
     "output_type": "stream",
     "text": [
      "gs200:\n",
      "\tparameter    value\n",
      "--------------------------------------------------------------------------------\n",
      "BNC_in        :\tNone \n",
      "BNC_out       :\tNone \n",
      "IDN           :\t{'vendor': 'YOKOGAWA', 'model': 'GS210', 'serial': '91LA25023...\n",
      "auto_range    :\tTrue \n",
      "current       :\t0.1 (I)\n",
      "current_limit :\tNone (I)\n",
      "current_range :\t0.1 (I)\n",
      "four_wire     :\tNone \n",
      "guard         :\tNone \n",
      "line_freq     :\tNone (Hz)\n",
      "output        :\ton \n",
      "output_level  :\t0.1 (I)\n",
      "range         :\t0.1 (I)\n",
      "source_mode   :\tCURR \n",
      "system_errors :\tNone \n",
      "timeout       :\t5 (s)\n",
      "voltage_limit :\tNone (V)\n"
     ]
    },
    {
     "ename": "ValueError",
     "evalue": "max() arg is an empty sequence",
     "output_type": "error",
     "traceback": [
      "\u001b[0;31m---------------------------------------------------------------------------\u001b[0m",
      "\u001b[0;31mValueError\u001b[0m                                Traceback (most recent call last)",
      "Input \u001b[0;32mIn [16]\u001b[0m, in \u001b[0;36m<cell line: 2>\u001b[0;34m()\u001b[0m\n\u001b[1;32m      1\u001b[0m \u001b[38;5;66;03m# print a readable, more easy to understand snapshot of the data\u001b[39;00m\n\u001b[0;32m----> 2\u001b[0m \u001b[43mgs\u001b[49m\u001b[38;5;241;43m.\u001b[39;49m\u001b[43mprint_readable_snapshot\u001b[49m\u001b[43m(\u001b[49m\u001b[43m)\u001b[49m\n",
      "File \u001b[0;32m~/miniconda3/envs/qcodes/lib/python3.9/site-packages/qcodes/instrument/base.py:333\u001b[0m, in \u001b[0;36mInstrumentBase.print_readable_snapshot\u001b[0;34m(self, update, max_chars)\u001b[0m\n\u001b[1;32m    330\u001b[0m     \u001b[38;5;28mprint\u001b[39m(msg)\n\u001b[1;32m    332\u001b[0m \u001b[38;5;28;01mfor\u001b[39;00m submodule \u001b[38;5;129;01min\u001b[39;00m \u001b[38;5;28mself\u001b[39m\u001b[38;5;241m.\u001b[39msubmodules\u001b[38;5;241m.\u001b[39mvalues():\n\u001b[0;32m--> 333\u001b[0m     \u001b[43msubmodule\u001b[49m\u001b[38;5;241;43m.\u001b[39;49m\u001b[43mprint_readable_snapshot\u001b[49m\u001b[43m(\u001b[49m\u001b[43mupdate\u001b[49m\u001b[38;5;241;43m=\u001b[39;49m\u001b[43mupdate\u001b[49m\u001b[43m,\u001b[49m\n\u001b[1;32m    334\u001b[0m \u001b[43m                                      \u001b[49m\u001b[43mmax_chars\u001b[49m\u001b[38;5;241;43m=\u001b[39;49m\u001b[43mmax_chars\u001b[49m\u001b[43m)\u001b[49m\n",
      "File \u001b[0;32m~/miniconda3/envs/qcodes/lib/python3.9/site-packages/qcodes/instrument/base.py:302\u001b[0m, in \u001b[0;36mInstrumentBase.print_readable_snapshot\u001b[0;34m(self, update, max_chars)\u001b[0m\n\u001b[1;32m    298\u001b[0m par_lengths \u001b[38;5;241m=\u001b[39m [\u001b[38;5;28mlen\u001b[39m(p) \u001b[38;5;28;01mfor\u001b[39;00m p \u001b[38;5;129;01min\u001b[39;00m snapshot[\u001b[38;5;124m'\u001b[39m\u001b[38;5;124mparameters\u001b[39m\u001b[38;5;124m'\u001b[39m]]\n\u001b[1;32m    300\u001b[0m \u001b[38;5;66;03m# Min of 50 is to prevent a super long parameter name to break this\u001b[39;00m\n\u001b[1;32m    301\u001b[0m \u001b[38;5;66;03m# function\u001b[39;00m\n\u001b[0;32m--> 302\u001b[0m par_field_len \u001b[38;5;241m=\u001b[39m \u001b[38;5;28mmin\u001b[39m(\u001b[38;5;28;43mmax\u001b[39;49m\u001b[43m(\u001b[49m\u001b[43mpar_lengths\u001b[49m\u001b[43m)\u001b[49m\u001b[38;5;241m+\u001b[39m\u001b[38;5;241m1\u001b[39m, \u001b[38;5;241m50\u001b[39m)\n\u001b[1;32m    304\u001b[0m \u001b[38;5;28mprint\u001b[39m(\u001b[38;5;28mself\u001b[39m\u001b[38;5;241m.\u001b[39mname \u001b[38;5;241m+\u001b[39m \u001b[38;5;124m'\u001b[39m\u001b[38;5;124m:\u001b[39m\u001b[38;5;124m'\u001b[39m)\n\u001b[1;32m    305\u001b[0m \u001b[38;5;28mprint\u001b[39m(\u001b[38;5;124m'\u001b[39m\u001b[38;5;124m{\u001b[39m\u001b[38;5;124m0:<\u001b[39m\u001b[38;5;132;01m{1}\u001b[39;00m\u001b[38;5;124m}\u001b[39m\u001b[38;5;124m'\u001b[39m\u001b[38;5;241m.\u001b[39mformat(\u001b[38;5;124m'\u001b[39m\u001b[38;5;130;01m\\t\u001b[39;00m\u001b[38;5;124mparameter \u001b[39m\u001b[38;5;124m'\u001b[39m, par_field_len) \u001b[38;5;241m+\u001b[39m \u001b[38;5;124m'\u001b[39m\u001b[38;5;124mvalue\u001b[39m\u001b[38;5;124m'\u001b[39m)\n",
      "\u001b[0;31mValueError\u001b[0m: max() arg is an empty sequence"
     ]
    }
   ],
   "source": [
    "# print a readable, more easy to understand snapshot of the data\n",
    "gs.print_readable_snapshot()"
   ]
  },
  {
   "cell_type": "code",
   "execution_count": null,
   "id": "dbfe84fe-96b0-46f9-b26e-eee91fc21a0d",
   "metadata": {},
   "outputs": [],
   "source": [
    "# disconnect from the instrument, it will have to reinitialized again\n",
    "gs.close()"
   ]
  }
 ],
 "metadata": {
  "kernelspec": {
   "display_name": "Python 3 (ipykernel)",
   "language": "python",
   "name": "python3"
  },
  "language_info": {
   "codemirror_mode": {
    "name": "ipython",
    "version": 3
   },
   "file_extension": ".py",
   "mimetype": "text/x-python",
   "name": "python",
   "nbconvert_exporter": "python",
   "pygments_lexer": "ipython3",
   "version": "3.9.12"
  }
 },
 "nbformat": 4,
 "nbformat_minor": 5
}
