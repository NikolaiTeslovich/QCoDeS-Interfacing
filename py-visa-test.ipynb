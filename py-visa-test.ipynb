{
 "cells": [
  {
   "cell_type": "code",
   "execution_count": 1,
   "id": "af7cef46-44d6-4e6b-973f-015643c30f2d",
   "metadata": {},
   "outputs": [
    {
     "name": "stderr",
     "output_type": "stream",
     "text": [
      "/home/nikolai/miniconda3/envs/qcodes/lib/python3.9/site-packages/gpib_ctypes/gpib/gpib.py:54: UserWarning: GPIB library not found. Please manually load it using _load_lib(filename). All GPIB functions will raise OSError until the library is manually loaded.\n",
      "  warnings.warn(message)\n"
     ]
    }
   ],
   "source": [
    "import pyvisa\n",
    "\n",
    "# setting the resource manager to be that of a PyVisa-Py\n",
    "# rm = pyvisa.ResourceManager\n",
    "#rm = pyvisa.ResourceManager('@py')\n",
    "rm = pyvisa.ResourceManager('@py')"
   ]
  },
  {
   "cell_type": "code",
   "execution_count": 2,
   "id": "8bb2758f-2573-4580-be80-a9504303e3d3",
   "metadata": {},
   "outputs": [
    {
     "data": {
      "text/plain": [
       "('ASRL/dev/ttyS4::INSTR', 'USB0::2849::57::91LA25023::0::INSTR')"
      ]
     },
     "execution_count": 2,
     "metadata": {},
     "output_type": "execute_result"
    }
   ],
   "source": [
    "# list out the current instruments and their configuration\n",
    "rm.list_resources()"
   ]
  },
  {
   "cell_type": "code",
   "execution_count": 3,
   "id": "aaf6af57-c031-470b-b139-aea88aa67ffb",
   "metadata": {},
   "outputs": [
    {
     "data": {
      "text/plain": [
       "<ResourceManager(<PyVisaLibrary('py')>)>"
      ]
     },
     "execution_count": 3,
     "metadata": {},
     "output_type": "execute_result"
    }
   ],
   "source": [
    "# checking the resource manager\n",
    "rm"
   ]
  },
  {
   "cell_type": "code",
   "execution_count": 4,
   "id": "395d819b-4065-4cb9-a1a7-578b60818841",
   "metadata": {},
   "outputs": [
    {
     "name": "stdout",
     "output_type": "stream",
     "text": [
      "USBInstrument at USB0::2849::57::91LA25023::0::INSTR\n"
     ]
    }
   ],
   "source": [
    "# create an instance of the instrument class\n",
    "GS200 = rm.open_resource('USB0::2849::57::91LA25023::0::INSTR')\n",
    "print(GS200)"
   ]
  },
  {
   "cell_type": "code",
   "execution_count": 5,
   "id": "3905ffd5-2425-4a9d-b0db-7bd926f54ecf",
   "metadata": {},
   "outputs": [
    {
     "data": {
      "text/plain": [
       "6"
      ]
     },
     "execution_count": 5,
     "metadata": {},
     "output_type": "execute_result"
    }
   ],
   "source": [
    "GS200.write(\"*rst\") # resetting the instrument"
   ]
  },
  {
   "cell_type": "code",
   "execution_count": 6,
   "id": "dc271267-61a7-4b50-9ace-634985d6d71c",
   "metadata": {},
   "outputs": [
    {
     "data": {
      "text/plain": [
       "'YOKOGAWA,GS210,91LA25023,1.05'"
      ]
     },
     "execution_count": 6,
     "metadata": {},
     "output_type": "execute_result"
    }
   ],
   "source": [
    "GS200.read_termination = '\\n'\n",
    "GS200.write_termination = '\\n'\n",
    "GS200.query('*IDN?')"
   ]
  },
  {
   "cell_type": "code",
   "execution_count": null,
   "id": "e6c41203-d0f8-4339-b382-a924828a95a1",
   "metadata": {},
   "outputs": [],
   "source": []
  }
 ],
 "metadata": {
  "kernelspec": {
   "display_name": "Python 3 (ipykernel)",
   "language": "python",
   "name": "python3"
  },
  "language_info": {
   "codemirror_mode": {
    "name": "ipython",
    "version": 3
   },
   "file_extension": ".py",
   "mimetype": "text/x-python",
   "name": "python",
   "nbconvert_exporter": "python",
   "pygments_lexer": "ipython3",
   "version": "3.9.12"
  }
 },
 "nbformat": 4,
 "nbformat_minor": 5
}
