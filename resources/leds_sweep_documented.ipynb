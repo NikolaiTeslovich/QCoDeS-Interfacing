{
 "cells": [
  {
   "cell_type": "code",
   "execution_count": null,
   "metadata": {},
   "outputs": [],
   "source": []
  },
  {
   "cell_type": "markdown",
   "metadata": {},
   "source": [
    "| Part | Quantity | Image |\n",
    "| :---: | :---: |  :---: |\n",
    "| Pair of Banana Cables | 2x | <img src=\"/resources/BNC_Resistor_Breakout/parts/cables.jpg\" width=\"400\"> |\n",
    "| BNC Enclosure w/ Resistor | 1x | <img src=\"/resources/BNC_Resistor_Breakout/bnc.jpg\" width=\"400\"> |\n",
    "| BNC End Cap | 1x | <img src=\"/resources/BNC_Resistor_Breakout/parts/bnc_end_cap.jpg\" width=\"400\"> |\n",
    "| BNC Male-Male | 1x | <img src=\"/resources/BNC_Resistor_Breakout/parts/bnc_male_male.jpg\" width=\"400\"> |\n",
    "| BNC T Junction | 1x | <img src=\"/resources/BNC_Resistor_Breakout/parts/bnc_t.jpg\" width=\"400\"> |\n",
    "| BNC Banana Adapter | 1x | <img src=\"/resources/BNC_Resistor_Breakout/parts/bnc_banana.jpg\" width=\"400\"> |"
   ]
  },
  {
   "cell_type": "markdown",
   "metadata": {},
   "source": []
  }
 ],
 "metadata": {
  "kernelspec": {
   "display_name": "Python 3.8.9 64-bit",
   "language": "python",
   "name": "python3"
  },
  "language_info": {
   "name": "python",
   "version": "3.8.9"
  },
  "orig_nbformat": 4,
  "vscode": {
   "interpreter": {
    "hash": "31f2aee4e71d21fbe5cf8b01ff0e069b9275f58929596ceb00d14d90e3e16cd6"
   }
  }
 },
 "nbformat": 4,
 "nbformat_minor": 2
}
